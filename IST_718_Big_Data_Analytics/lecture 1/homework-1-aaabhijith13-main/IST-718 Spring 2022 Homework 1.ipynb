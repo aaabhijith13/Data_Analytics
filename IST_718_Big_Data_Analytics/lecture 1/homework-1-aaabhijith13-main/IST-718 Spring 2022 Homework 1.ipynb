{
 "cells": [
  {
   "cell_type": "markdown",
   "metadata": {
    "id": "WOpNH-BqqW5m"
   },
   "source": [
    "##### Grading Feedback Cell"
   ]
  },
  {
   "cell_type": "markdown",
   "metadata": {
    "id": "rtmrn6lD--kF"
   },
   "source": [
    "**Question 0 (-2 pts if not provided):**  Enter your name and SU ID in the cell below."
   ]
  },
  {
   "cell_type": "markdown",
   "metadata": {
    "id": "bizycRXz_uM6"
   },
   "source": [
    "Your name and SU ID Here: Abhijith Anil Vamadev 495204994\n"
   ]
  },
  {
   "cell_type": "markdown",
   "metadata": {
    "deletable": false,
    "id": "b-ZUbX3nqW5q",
    "nbgrader": {
     "checksum": "c51f80b694da894627ba37be28c86055",
     "grade": false,
     "grade_id": "cell-b038e38b5e3072a9",
     "locked": true,
     "schema_version": 1,
     "solution": false
    }
   },
   "source": [
    "# IST 718: Big Data Analytics\n",
    "\n",
    "- Professors: \n",
    "  - Willard Williamson <wewillia@syr.edu>\n",
    "  - Emory Creel <emcreel@syr.edu>\n",
    "- Faculty Assistant: Shubham Sharma <shsharma@syr.edu>\n",
    "\n",
    "## General instructions:\n",
    "\n",
    "- You are welcome to discuss the problems with your classmates but __you are not allowed to copy any part of your answers from your classmates.  Short code snippets are allowed from the internet.  Code from the class text books or class provided code can be copied in its entirety.__\n",
    "- Google Colab is the official class runtime environment so you should test your code on Colab before submission.\n",
    "- Do not modify cells marked as grading cells or marked as do not modify.\n",
    "- Before submitting your work, remember to check for run time errors with the following procedure:\n",
    "`Runtime `$\\rightarrow$ Factory reset runtime followed by Runtime $\\rightarrow$ Run All.  All runtime errors will result in a minimum penalty of half off.\n",
    "- All plots shall include descriptive title and axis labels.  Plot legends shall be included where possible.  Unless stated otherwise, plots can be made using any Python plotting package.  It is understood that spark data structures must be converted to something like numpy or pandas prior to making plots.  All required mathematical operations, filtering, selection, etc., required by a homework question shall be performed in spark prior to converting to numpy or pandas.\n",
    "- Grading feedback cells are there for graders to provide feedback to students.  Don't change or remove grading feedback cells.\n",
    "- Don't add or remove files from your git repo.\n",
    "- Do not change file names in your repo.  This also means don't change the title of the ipython notebook.\n",
    "- You are free to add additional code cells around the cells marked `your code here`.\n",
    "- We reserve the right to take points off for operations that are extremely inefficient or \"heavy weight\".  This is a big data class and extremely inefficient operations make a big difference when scaling up to large data sets.  For example, the spark dataframe collect() method is a very heavy weight operation and should not be used unless it there is a real need for it.  An example where collect() might be needed is to get ready to make a plot after filtering a spark dataframe.\n",
    "- import * is not allowed because it is considered a very bad coding practice and in some cases can result in a significant delay (which slows down the grading process) in loading imports.  For example, the statement `from sympy import *` is not allowed.  You must import the specific packages that you need. \n",
    "- The graders reserve the right to deduct points for subjective things we see with your code.  For example, if we ask you to create a pandas data frame to display values from an investigation and you hard code the values, we will take points off for that.  This is only one of many different things we could find in reviewing your code.  In general, write your code like you are submitting it for a code peer review in industry.  \n",
    "- Level of effort is part of our subjective grading.  For example, in cases where we ask for a more open ended investigation, some students put in significant effort and some students do the minimum possible to meet requirements.  In these cases, we may take points off for students who did not put in much effort as compared to students who put in a lot of effort.  We feel that the students who did a better job deserve a better grade.  We reserve the right to invoke level of effort grading at any time.\n",
    "- Only use spark, spark machine learning, spark data frames, RDD's, and map reduce to solve all problems unless instructed otherwise.\n",
    "- Your notebook must run from start to finish without requiring manual input by the graders.  For example, do not mount your personal Google drive in your notebook as this will require graders to perform manual steps.  In short, your notebook should run from start to finish with no runtime errors and no need for graders to perform any manual steps."
   ]
  },
  {
   "cell_type": "markdown",
   "metadata": {
    "id": "sm6l-wPqqW5u"
   },
   "source": [
    "#### Read the data files\n",
    "The cell below reads the assignment data files from github"
   ]
  },
  {
   "cell_type": "code",
   "execution_count": 1,
   "metadata": {
    "id": "GWwdob0jeo5a"
   },
   "outputs": [],
   "source": [
    "%%bash\n",
    "# define an array of data file names\n",
    "data_file_array=(\"indicator_gapminder_population.csv\" \"indicator_gapminder_under5mortality.csv\" \"indicator_life_expectancy_at_birth.csv\" \"indicator_undata_total_fertility.csv\")\n",
    "\n",
    "# for each data file\n",
    "for file in ${data_file_array[@]}; do\n",
    "  # if the data file does not exist on the local computer\n",
    "  if [[ ! -f ./${file} ]]; then \n",
    "    # download the data file from github and save it on the local computer\n",
    "    wget https://raw.githubusercontent.com/wewilli1/ist718_data/master/un_indicator_data/${file} &> /dev/null\n",
    "  fi  \n",
    "done\n"
   ]
  },
  {
   "cell_type": "markdown",
   "metadata": {
    "id": "CTcbPHbnqW5w"
   },
   "source": [
    "# Question 1 (10 pts)\n",
    "In the game of [roullete](https://en.wikipedia.org/wiki/Roulette) you can bet on several things including if the ball will land on black or red. In a black or red bet, if you win, you double your earnings. How does the casino make money? If you look at the possibilities you realize that the chance of red or black are both slightly less than 1/2. There are two green spots, so the chance of landing on black (or red) is actually 18/38, or 9/19.<br>\n",
    "Create a utility function which can be used in a monte carlo simulation named get_outcome. The get_outcome function takes as an argument the number of times you play (or spin) the roulette wheel and returns the player's earnings for the number of spins specified.  Assume that the player bets exactly one dollar on black for each spin of the wheel."
   ]
  },
  {
   "cell_type": "code",
   "execution_count": 1,
   "metadata": {
    "id": "lqHMxpo6qW5w"
   },
   "outputs": [],
   "source": [
    "# your code here\n",
    "\n",
    "#importing libraies\n",
    "from random import randint \n",
    "\n",
    "def get_outcome(num_plays): #function defintion\n",
    "    FINAL_RETURNS = 0 #returns for the player at the end \n",
    "    roulette = ['B', 'G', 'G', 'R','B', 'B', 'R', 'R', 'B', 'R', 'B', 'R', 'R', 'R', 'B', 'R', 'B', 'R','B', 'R','B', 'R','B', 'R','B', 'R','B', 'R','B', 'R','B', 'R','B', 'R', 'B', 'R', 'B', 'B']\n",
    "    #simulating a roulette spin ball\n",
    "    for i in range(num_plays):\n",
    "        random_index = randint(0, 37) #picking a random slot in the roulette\n",
    "        BET = 1\n",
    "        if(roulette[random_index] == 'B'):\n",
    "            FINAL_RETURNS = FINAL_RETURNS + 1\n",
    "        else: \n",
    "            FINAL_RETURNS = FINAL_RETURNS - 1\n",
    "    return FINAL_RETURNS\n"
   ]
  },
  {
   "cell_type": "code",
   "execution_count": 2,
   "metadata": {
    "id": "MxulRaltqW5x"
   },
   "outputs": [
    {
     "data": {
      "text/plain": [
       "-0.0562"
      ]
     },
     "execution_count": 2,
     "metadata": {},
     "output_type": "execute_result"
    }
   ],
   "source": [
    "# Grading cell - do not change or delete\n",
    "num_plays = 10000\n",
    "get_outcome(num_plays) / num_plays"
   ]
  },
  {
   "cell_type": "markdown",
   "metadata": {
    "id": "xP-jD8W_qW5x"
   },
   "source": [
    "##### Grading Feedback Cell"
   ]
  },
  {
   "cell_type": "markdown",
   "metadata": {
    "id": "Rrpp1gKDqW5y"
   },
   "source": [
    "# Question 2 (10 pts)\n",
    "Using the get_outcome function defined above, use a monte carlo simulation to study the distribution of total earnings.  Run 4 simulations for number of roulette plays = 10, 25, 100, and 1000 where each of the 4 simulations is executed 500 times.  Collect the results into a 2 dimensional numpy array named roulette_sim_array.  Make histogram plots for each of the 4 simulations.  Based on the histogram plots, describe what happens to toal earnings as the number of plays increases."
   ]
  },
  {
   "cell_type": "code",
   "execution_count": 3,
   "metadata": {
    "id": "SO1Kh8TVqW5y"
   },
   "outputs": [
    {
     "data": {
      "image/png": "[encoded data removed]",
      "text/plain": [
       "<Figure size 1080x720 with 4 Axes>"
      ]
     },
     "metadata": {
      "needs_background": "light"
     },
     "output_type": "display_data"
    }
   ],
   "source": [
    "# your code here\n",
    "#import libraries\n",
    "import matplotlib.pyplot as plt\n",
    "import numpy as np \n",
    "\n",
    "#initalization\n",
    "roulette_plays = [10, 25, 100, 1000] #num of plays\n",
    "roulette_sim_array = [] #final array with simulations\n",
    "\n",
    "for num_plays in roulette_plays:\n",
    "    returns = []\n",
    "    for iterator in range(500):\n",
    "        returns.append(get_outcome(num_plays))\n",
    "    roulette_sim_array.append(returns)\n",
    "\n",
    "roulette_sim_array = np.asarray(roulette_sim_array) #final simulations as a 2d numpy array\n",
    "\n",
    "plt.figure(figsize=(15,10)) #plot size\n",
    "for index, num in enumerate(roulette_sim_array):\n",
    "    plt.subplot(2, 2, index + 1) #creating subplots\n",
    "    n, bins, patches = plt.hist(x=num, bins='auto', color='#0504aa') #histogram\n",
    "    plt.grid(axis='y', alpha=1)\n",
    "    plt.plot(ax=plt.gca())\n",
    "    plt.xlabel('Returns for the player')\n",
    "    plt.ylabel('Frequency')\n",
    "    plt.title('Histogram for each of the {} trials'.format(roulette_plays[index]) )\n",
    "plt.show()\n"
   ]
  },
  {
   "cell_type": "markdown",
   "metadata": {
    "id": "HSZENtPBqW5z"
   },
   "source": [
    "##### Grading Feedback Cell"
   ]
  },
  {
   "cell_type": "markdown",
   "metadata": {
    "id": "XIQ95eL-qW50"
   },
   "source": [
    "Your explanation here:<br>  \n",
    "As it can be seen from the histograms, as the number of games played increases the return for the player worsens i.e the player is at a loss. For the simulation of 10 trials, -2 to 0 dollars was the most recurring loss, but as the number of trials increased to 25, 100 and 1000, the return also negatively increased from -5, 10, and to -50. As more games are played the player starts loosing more money"
   ]
  },
  {
   "cell_type": "markdown",
   "metadata": {
    "id": "04DthagfqW50"
   },
   "source": [
    "##### Grading Feedback Cell"
   ]
  },
  {
   "cell_type": "markdown",
   "metadata": {
    "id": "1tQZjqC4qW50"
   },
   "source": [
    "# Question 3 (10 pts)\n",
    "Using the central limit theorem, create a pandas dataframe named roulette_df containing the sampling distribution of the means from the sample data in the numpy array above.  The pandas dataframe shall have 4 columns labeled with the simulation names. Using data in the roulette_df, plot histograms for each of the sampling distributions - you should have 4 histograms in total.<br>  \n",
    "\n",
    "The following question is based on the theory of central limit theorem sampling.  Assuming you don't know the underlying distribution of the population from which the samples were drawn, some of the histograms are gauranteed to be Gaussian in shape, some are not gauranteed, and some are in a transition region. For each of the 4 simulations, describe if you think the shape is gauranteed to be gaussian, not gauranteed to be Gaussian, or in a transition area between a gaurantee and no gaurantee."
   ]
  },
  {
   "cell_type": "code",
   "execution_count": 4,
   "metadata": {
    "id": "gbQogU73qW51"
   },
   "outputs": [
    {
     "data": {
      "image/png": "[encoded data removed]",
      "text/plain": [
       "<Figure size 504x432 with 4 Axes>"
      ]
     },
     "metadata": {
      "needs_background": "light"
     },
     "output_type": "display_data"
    }
   ],
   "source": [
    "# Your histogram code here\n",
    "import pandas as pd\n",
    "mean_10trials = [i/10 for i in roulette_sim_array[0]] #mean array for each of the ssimulations starting from 10 to 10000 simulations\n",
    "mean_25trials = [i/25 for i in roulette_sim_array[1]]\n",
    "mean_100trials = [i/100 for i in roulette_sim_array[2]]\n",
    "mean_1000trials = [i/1000 for i in roulette_sim_array[3]]\n",
    "\n",
    "final_dict = {'10 Trials': mean_10trials, \n",
    "              '25 Trials': mean_25trials, \n",
    "              '100 Trials': mean_100trials,\n",
    "              '1000 Trials':mean_1000trials}\n",
    "#creating final dataframe\n",
    "roulette_df = pd.DataFrame(final_dict)\n",
    "\n",
    "#plot size\n",
    "plt.figure(figsize =(7,6))\n",
    "for i in range(4):\n",
    "    plt.subplot(2, 2, i + 1) #subplots\n",
    "    n, bins, patches = plt.hist(x=roulette_df. iloc[:, i], bins='auto', color='#0504aa')#histogram\n",
    "    plt.grid(axis='y', alpha=1)\n",
    "    plt.plot(ax=plt.gca())\n",
    "    plt.xlabel('Mean return from simulation')\n",
    "    plt.ylabel('Frequency')\n",
    "    plt.subplots_adjust(hspace=1) \n",
    "    plt.title('Histogram of mean for {} trials'.format(roulette_plays[i]) )\n",
    "    plt.tight_layout(pad=0.4, w_pad=0.5, h_pad=1.0)\n",
    "plt.show()\n",
    "\n"
   ]
  },
  {
   "cell_type": "code",
   "execution_count": 5,
   "metadata": {
    "id": "4rYqJ4DvqW51"
   },
   "outputs": [
    {
     "data": {
      "text/html": [
       "<div>\n",
       "<style scoped>\n",
       "    .dataframe tbody tr th:only-of-type {\n",
       "        vertical-align: middle;\n",
       "    }\n",
       "\n",
       "    .dataframe tbody tr th {\n",
       "        vertical-align: top;\n",
       "    }\n",
       "\n",
       "    .dataframe thead th {\n",
       "        text-align: right;\n",
       "    }\n",
       "</style>\n",
       "<table border=\"1\" class=\"dataframe\">\n",
       "  <thead>\n",
       "    <tr style=\"text-align: right;\">\n",
       "      <th></th>\n",
       "      <th>10 Trials</th>\n",
       "      <th>25 Trials</th>\n",
       "      <th>100 Trials</th>\n",
       "      <th>1000 Trials</th>\n",
       "    </tr>\n",
       "  </thead>\n",
       "  <tbody>\n",
       "    <tr>\n",
       "      <th>0</th>\n",
       "      <td>0.0</td>\n",
       "      <td>-0.28</td>\n",
       "      <td>-0.14</td>\n",
       "      <td>-0.016</td>\n",
       "    </tr>\n",
       "    <tr>\n",
       "      <th>1</th>\n",
       "      <td>-0.2</td>\n",
       "      <td>0.04</td>\n",
       "      <td>-0.16</td>\n",
       "      <td>-0.082</td>\n",
       "    </tr>\n",
       "    <tr>\n",
       "      <th>2</th>\n",
       "      <td>0.0</td>\n",
       "      <td>-0.28</td>\n",
       "      <td>-0.04</td>\n",
       "      <td>-0.034</td>\n",
       "    </tr>\n",
       "    <tr>\n",
       "      <th>3</th>\n",
       "      <td>0.2</td>\n",
       "      <td>0.04</td>\n",
       "      <td>-0.06</td>\n",
       "      <td>-0.128</td>\n",
       "    </tr>\n",
       "    <tr>\n",
       "      <th>4</th>\n",
       "      <td>-0.4</td>\n",
       "      <td>-0.12</td>\n",
       "      <td>-0.16</td>\n",
       "      <td>-0.032</td>\n",
       "    </tr>\n",
       "  </tbody>\n",
       "</table>\n",
       "</div>"
      ],
      "text/plain": [
       "   10 Trials  25 Trials  100 Trials  1000 Trials\n",
       "0        0.0      -0.28       -0.14       -0.016\n",
       "1       -0.2       0.04       -0.16       -0.082\n",
       "2        0.0      -0.28       -0.04       -0.034\n",
       "3        0.2       0.04       -0.06       -0.128\n",
       "4       -0.4      -0.12       -0.16       -0.032"
      ]
     },
     "metadata": {},
     "output_type": "display_data"
    }
   ],
   "source": [
    "# Grading cell - do not modify\n",
    "display(roulette_df.head())"
   ]
  },
  {
   "cell_type": "markdown",
   "metadata": {
    "id": "ilgXhOU5qW51"
   },
   "source": [
    "##### Grading Feedback Cell"
   ]
  },
  {
   "cell_type": "markdown",
   "metadata": {
    "id": "GVJmOUMzqW51"
   },
   "source": [
    "Your explanation here:<br>\n",
    "- The first histogram containing 10 trials, has not become a Gaussian yet. \n",
    "- The second histogram containing 25 trials, has also not completely become Gaussian, it is in a transition to become Gaussian. \n",
    "- The third histogram containing 100 trials has not also become completely Gaussian, it is also in a transition to become Gaussian.\n",
    "- The fourth histogram containg 1000 trials has become Gaussian. As the number of trials begin to increase the more Gaussian it will look like. "
   ]
  },
  {
   "cell_type": "markdown",
   "metadata": {
    "id": "RXOmG0NDqW52"
   },
   "source": [
    "##### Grading Feedback Cell"
   ]
  },
  {
   "cell_type": "markdown",
   "metadata": {
    "id": "GV4PyKlUqW52"
   },
   "source": [
    "# Question 4 (20 pts)\n",
    "Create a new monte carlo simulation that calculates the probability that the casino loses money based on the number of times that a player plays roulette.  Create a function p_casino_loss that takes as an argument the number of times that the player plays roulette (n_plays), and returns the probability that the casino loses money.  Your code should simulate spinning the roulette wheel.  Run the n_plays simulation a fixed large number of times (100 works) and return the average probability result.  Using data collected from p_casino_loss, produce a line plot that shows the probability that the casino loses money vs. the number of games played for number of games between 25 and 1000.  Describe what the results of the simulation show."
   ]
  },
  {
   "cell_type": "code",
   "execution_count": 79,
   "metadata": {
    "id": "WZGCktkiqW52"
   },
   "outputs": [
    {
     "name": "stdout",
     "output_type": "stream",
     "text": [
      "Probabiity that the casino losses money for 100 plays:  48.7%\n"
     ]
    },
    {
     "data": {
      "text/plain": [
       "Text(0.5, 1.0, 'Probability of Loss for Casino vs Number of Trials 10,25,100,1000 in a Simulation')"
      ]
     },
     "execution_count": 79,
     "metadata": {},
     "output_type": "execute_result"
    },
    {
     "data": {
      "image/png": "[encoded data removed]",
      "text/plain": [
       "<Figure size 432x288 with 1 Axes>"
      ]
     },
     "metadata": {
      "needs_background": "light"
     },
     "output_type": "display_data"
    }
   ],
   "source": [
    "# your code here\n",
    "from random import randint \n",
    "import seaborn as sns\n",
    "\n",
    "roulette_plays = [10, 25, 100, 1000] #simulation array\n",
    "    \n",
    "def p_casino_loss(n_plays):\n",
    "    FINAL_RETURNS = 0\n",
    "    roulette = ['B', 'G', 'G', 'R','B', 'B', 'R', 'R', 'B', 'R', 'B', 'R', 'R', 'R', 'B', 'R', 'B', 'R','B', 'R','B', 'R','B', 'R','B', 'R','B', 'R','B', 'R','B', 'R','B', 'R', 'B', 'R', 'B', 'B']\n",
    "    neg = 0\n",
    "    for i in range(n_plays):\n",
    "        random_index = randint(0, 37)\n",
    "        BET = 1\n",
    "        if(roulette[random_index] == 'B'):\n",
    "            FINAL_RETURNS = FINAL_RETURNS + 1\n",
    "            neg += 1\n",
    "        else: \n",
    "            FINAL_RETURNS = FINAL_RETURNS - 1\n",
    "    prob = (neg/n_plays) * 100\n",
    "    return str(round(prob, 2)) + '%' \n",
    "\n",
    "# def p_casino_loss(n_plays):\n",
    "#     return 1 - (abs(get_outcome(num_plays))/num_plays) \n",
    "\n",
    "print(\"Probabiity that the casino losses money for 100 plays: \", p_casino_loss(100))\n",
    "line_plot_y = []\n",
    "for x in roulette_plays:\n",
    "    line_plot_y.append([x, p_casino_loss(x)])\n",
    "\n",
    "line_plot = pd.DataFrame( data = line_plot_y, columns = ['Simulation', 'Probability']) \n",
    "sns.lineplot( x = \"Simulation\",\n",
    "             y = \"Probability\",\n",
    "             data = line_plot, marker=\"o\");\n",
    "plt.title('Probability of Loss for Casino vs Number of Trials 10,25,100,1000 in a Simulation', fontweight =\"bold\")\n",
    "    "
   ]
  },
  {
   "cell_type": "markdown",
   "metadata": {
    "id": "M3G_bSWLqW52"
   },
   "source": [
    "Your explanation here:<br>\n",
    "The results of the simulation of 10, 25, 100 and 1000 trials show that as the number of games played for the casino increases, their probablity of loosing dramatically decreases overtime. As more games are being played, the probability that Casino loses  falls below 50%. "
   ]
  },
  {
   "cell_type": "markdown",
   "metadata": {
    "id": "o_gi9RoUqW53"
   },
   "source": [
    "##### Grading Feedback Cell"
   ]
  },
  {
   "cell_type": "markdown",
   "metadata": {
    "id": "5tHtwU4EqW53"
   },
   "source": [
    "# Question 5 (10 pts)\n",
    "Compute the following matrix dot product manually by creating 2 dimensinal nympy arrays for each matrix, computing the matrix multiply using python for loops, and loading a new 2 dimensional numpy array with the answer.  Print the resulting numpy array.\n",
    "\n",
    "$$\n",
    "\\quad\n",
    "\\begin{bmatrix} \n",
    "3 & 7 \\\\\n",
    "6 & 9 \\\\\n",
    "4 & 2 \\\\\n",
    "\\end{bmatrix}\n",
    "\\quad\n",
    "*\n",
    "\\quad\n",
    "\\begin{bmatrix} \n",
    "2 & 5 & 7\\\\\n",
    "2 & 5 & 1\n",
    "\\end{bmatrix}\n",
    "\\quad\n",
    "$$"
   ]
  },
  {
   "cell_type": "code",
   "execution_count": 45,
   "metadata": {
    "id": "52NV7tupqW53"
   },
   "outputs": [
    {
     "data": {
      "text/plain": [
       "array([[20., 50., 28.],\n",
       "       [30., 75., 51.],\n",
       "       [12., 30., 30.]])"
      ]
     },
     "execution_count": 45,
     "metadata": {},
     "output_type": "execute_result"
    }
   ],
   "source": [
    "# your code here\n",
    "a = np.array([[3,7],[6,9], [4,2]]) #array 1\n",
    "b = np.array([[2,5,7], [2, 5, 1]]) #array 2\n",
    "\n",
    "def dotProduct(array1, array2): #function to do dot produc\n",
    "    if(array1.shape[1] == array2.shape[0]): #validation check\n",
    "        new_array = np.zeros((array1.shape[0], array2.shape[1])) #create an empty array with 0s\n",
    "        for rows in range(array1.shape[0]):\n",
    "            for cols in range(array2.shape[1]):\n",
    "                for rows_b in range(array2.shape[0]): #for loops looping through a rows, b columns, b rows.\n",
    "                    new_array[rows, cols] = new_array[rows, cols] + array1[rows, rows_b] * array2[rows_b, cols]\n",
    "        return new_array #return final array\n",
    "    else:\n",
    "        return \"Error mismatching arrays, provide valid arrays\"\n",
    "\n",
    "dotProduct(a, b)          \n",
    "        "
   ]
  },
  {
   "cell_type": "markdown",
   "metadata": {
    "id": "Yz3ZnQK4qW53"
   },
   "source": [
    "##### Grading Feedback Cell"
   ]
  },
  {
   "cell_type": "markdown",
   "metadata": {
    "id": "GEJBdNH0qW53"
   },
   "source": [
    "# Question 6 (10 pts)\n",
    "Read each of the 4 assignment csv files into pandas dataframes named population_df, morttality_df, life_exp_df, and fertility_df.  Rename the column with the country names as \"Country\" in each of the dataframes.  Hint - the bash datafiles data_file_array at the start of the assignment has the file names you need to load.  Another thing you can do is click the colab file icon to the left to view the file names stored on the local colab instance."
   ]
  },
  {
   "cell_type": "code",
   "execution_count": 46,
   "metadata": {
    "id": "2V11SDSdqW53"
   },
   "outputs": [],
   "source": [
    "# your code here\n",
    "population_df = pd.read_csv(\"indicator_gapminder_population.csv\") #reading all files\n",
    "morttality_df = pd.read_csv(\"indicator_gapminder_under5mortality.csv\")\n",
    "life_exp_df = pd.read_csv(\"indicator_life_expectancy_at_birth.csv\")\n",
    "fertility_df = pd.read_csv(\"indicator_undata_total_fertility.csv\")\n",
    "columns = [population_df, morttality_df, life_exp_df, fertility_df] #columns variable\n",
    "for i in columns:\n",
    "    i.rename(columns={i.columns[0]: \"Country\"}, inplace = True) #changing first column to Country"
   ]
  },
  {
   "cell_type": "code",
   "execution_count": 47,
   "metadata": {
    "id": "LVblZDMuqW54"
   },
   "outputs": [
    {
     "data": {
      "text/html": [
       "<div>\n",
       "<style scoped>\n",
       "    .dataframe tbody tr th:only-of-type {\n",
       "        vertical-align: middle;\n",
       "    }\n",
       "\n",
       "    .dataframe tbody tr th {\n",
       "        vertical-align: top;\n",
       "    }\n",
       "\n",
       "    .dataframe thead th {\n",
       "        text-align: right;\n",
       "    }\n",
       "</style>\n",
       "<table border=\"1\" class=\"dataframe\">\n",
       "  <thead>\n",
       "    <tr style=\"text-align: right;\">\n",
       "      <th></th>\n",
       "      <th>Country</th>\n",
       "      <th>1800</th>\n",
       "      <th>1810</th>\n",
       "      <th>1820</th>\n",
       "      <th>1830</th>\n",
       "      <th>1840</th>\n",
       "      <th>1850</th>\n",
       "      <th>1860</th>\n",
       "      <th>1870</th>\n",
       "      <th>1880</th>\n",
       "      <th>...</th>\n",
       "      <th>2006</th>\n",
       "      <th>2007</th>\n",
       "      <th>2008</th>\n",
       "      <th>2009</th>\n",
       "      <th>2010</th>\n",
       "      <th>2011</th>\n",
       "      <th>2012</th>\n",
       "      <th>2013</th>\n",
       "      <th>2014</th>\n",
       "      <th>2015</th>\n",
       "    </tr>\n",
       "  </thead>\n",
       "  <tbody>\n",
       "    <tr>\n",
       "      <th>0</th>\n",
       "      <td>Abkhazia</td>\n",
       "      <td>NaN</td>\n",
       "      <td>NaN</td>\n",
       "      <td>NaN</td>\n",
       "      <td>NaN</td>\n",
       "      <td>NaN</td>\n",
       "      <td>NaN</td>\n",
       "      <td>NaN</td>\n",
       "      <td>NaN</td>\n",
       "      <td>NaN</td>\n",
       "      <td>...</td>\n",
       "      <td>NaN</td>\n",
       "      <td>NaN</td>\n",
       "      <td>NaN</td>\n",
       "      <td>NaN</td>\n",
       "      <td>NaN</td>\n",
       "      <td>NaN</td>\n",
       "      <td>NaN</td>\n",
       "      <td>NaN</td>\n",
       "      <td>NaN</td>\n",
       "      <td>NaN</td>\n",
       "    </tr>\n",
       "    <tr>\n",
       "      <th>1</th>\n",
       "      <td>Afghanistan</td>\n",
       "      <td>3280000</td>\n",
       "      <td>3280000</td>\n",
       "      <td>3323519</td>\n",
       "      <td>3448982</td>\n",
       "      <td>3625022</td>\n",
       "      <td>3810047</td>\n",
       "      <td>3973968</td>\n",
       "      <td>4169690</td>\n",
       "      <td>4419695</td>\n",
       "      <td>...</td>\n",
       "      <td>25183615</td>\n",
       "      <td>25877544</td>\n",
       "      <td>26528741</td>\n",
       "      <td>27207291</td>\n",
       "      <td>27962207</td>\n",
       "      <td>28809167</td>\n",
       "      <td>29726803</td>\n",
       "      <td>30682500</td>\n",
       "      <td>31627506</td>\n",
       "      <td>32526562</td>\n",
       "    </tr>\n",
       "    <tr>\n",
       "      <th>2</th>\n",
       "      <td>Akrotiri and Dhekelia</td>\n",
       "      <td>NaN</td>\n",
       "      <td>NaN</td>\n",
       "      <td>NaN</td>\n",
       "      <td>NaN</td>\n",
       "      <td>NaN</td>\n",
       "      <td>NaN</td>\n",
       "      <td>NaN</td>\n",
       "      <td>NaN</td>\n",
       "      <td>NaN</td>\n",
       "      <td>...</td>\n",
       "      <td>15700</td>\n",
       "      <td>15700</td>\n",
       "      <td>15700</td>\n",
       "      <td>NaN</td>\n",
       "      <td>NaN</td>\n",
       "      <td>NaN</td>\n",
       "      <td>NaN</td>\n",
       "      <td>NaN</td>\n",
       "      <td>NaN</td>\n",
       "      <td>NaN</td>\n",
       "    </tr>\n",
       "    <tr>\n",
       "      <th>3</th>\n",
       "      <td>Albania</td>\n",
       "      <td>410,445</td>\n",
       "      <td>423591</td>\n",
       "      <td>438671</td>\n",
       "      <td>457234</td>\n",
       "      <td>478227</td>\n",
       "      <td>506889</td>\n",
       "      <td>552800</td>\n",
       "      <td>610036</td>\n",
       "      <td>672544</td>\n",
       "      <td>...</td>\n",
       "      <td>3050741</td>\n",
       "      <td>3010849</td>\n",
       "      <td>2968026</td>\n",
       "      <td>2929886</td>\n",
       "      <td>2901883</td>\n",
       "      <td>2886010</td>\n",
       "      <td>2880667</td>\n",
       "      <td>2883281</td>\n",
       "      <td>2889676</td>\n",
       "      <td>2896679</td>\n",
       "    </tr>\n",
       "    <tr>\n",
       "      <th>4</th>\n",
       "      <td>Algeria</td>\n",
       "      <td>2,503,218</td>\n",
       "      <td>2595056</td>\n",
       "      <td>2713079</td>\n",
       "      <td>2880355</td>\n",
       "      <td>3082721</td>\n",
       "      <td>3299305</td>\n",
       "      <td>3536468</td>\n",
       "      <td>3811028</td>\n",
       "      <td>4143163</td>\n",
       "      <td>...</td>\n",
       "      <td>33749328</td>\n",
       "      <td>34261971</td>\n",
       "      <td>34811059</td>\n",
       "      <td>35401790</td>\n",
       "      <td>36036159</td>\n",
       "      <td>36717132</td>\n",
       "      <td>37439427</td>\n",
       "      <td>38186135</td>\n",
       "      <td>38934334</td>\n",
       "      <td>39666519</td>\n",
       "    </tr>\n",
       "  </tbody>\n",
       "</table>\n",
       "<p>5 rows × 82 columns</p>\n",
       "</div>"
      ],
      "text/plain": [
       "                 Country       1800     1810     1820     1830     1840  \\\n",
       "0               Abkhazia        NaN      NaN      NaN      NaN      NaN   \n",
       "1            Afghanistan    3280000  3280000  3323519  3448982  3625022   \n",
       "2  Akrotiri and Dhekelia        NaN      NaN      NaN      NaN      NaN   \n",
       "3                Albania    410,445   423591   438671   457234   478227   \n",
       "4                Algeria  2,503,218  2595056  2713079  2880355  3082721   \n",
       "\n",
       "      1850     1860     1870     1880  ...      2006      2007      2008  \\\n",
       "0      NaN      NaN      NaN      NaN  ...       NaN       NaN       NaN   \n",
       "1  3810047  3973968  4169690  4419695  ...  25183615  25877544  26528741   \n",
       "2      NaN      NaN      NaN      NaN  ...     15700     15700     15700   \n",
       "3   506889   552800   610036   672544  ...   3050741   3010849   2968026   \n",
       "4  3299305  3536468  3811028  4143163  ...  33749328  34261971  34811059   \n",
       "\n",
       "       2009      2010      2011      2012      2013      2014      2015  \n",
       "0       NaN       NaN       NaN       NaN       NaN       NaN       NaN  \n",
       "1  27207291  27962207  28809167  29726803  30682500  31627506  32526562  \n",
       "2       NaN       NaN       NaN       NaN       NaN       NaN       NaN  \n",
       "3   2929886   2901883   2886010   2880667   2883281   2889676   2896679  \n",
       "4  35401790  36036159  36717132  37439427  38186135  38934334  39666519  \n",
       "\n",
       "[5 rows x 82 columns]"
      ]
     },
     "metadata": {},
     "output_type": "display_data"
    },
    {
     "data": {
      "text/html": [
       "<div>\n",
       "<style scoped>\n",
       "    .dataframe tbody tr th:only-of-type {\n",
       "        vertical-align: middle;\n",
       "    }\n",
       "\n",
       "    .dataframe tbody tr th {\n",
       "        vertical-align: top;\n",
       "    }\n",
       "\n",
       "    .dataframe thead th {\n",
       "        text-align: right;\n",
       "    }\n",
       "</style>\n",
       "<table border=\"1\" class=\"dataframe\">\n",
       "  <thead>\n",
       "    <tr style=\"text-align: right;\">\n",
       "      <th></th>\n",
       "      <th>Country</th>\n",
       "      <th>1800</th>\n",
       "      <th>1801</th>\n",
       "      <th>1802</th>\n",
       "      <th>1803</th>\n",
       "      <th>1804</th>\n",
       "      <th>1805</th>\n",
       "      <th>1806</th>\n",
       "      <th>1807</th>\n",
       "      <th>1808</th>\n",
       "      <th>...</th>\n",
       "      <th>2006</th>\n",
       "      <th>2007</th>\n",
       "      <th>2008</th>\n",
       "      <th>2009</th>\n",
       "      <th>2010</th>\n",
       "      <th>2011</th>\n",
       "      <th>2012</th>\n",
       "      <th>2013</th>\n",
       "      <th>2014</th>\n",
       "      <th>2015</th>\n",
       "    </tr>\n",
       "  </thead>\n",
       "  <tbody>\n",
       "    <tr>\n",
       "      <th>0</th>\n",
       "      <td>Abkhazia</td>\n",
       "      <td>NaN</td>\n",
       "      <td>NaN</td>\n",
       "      <td>NaN</td>\n",
       "      <td>NaN</td>\n",
       "      <td>NaN</td>\n",
       "      <td>NaN</td>\n",
       "      <td>NaN</td>\n",
       "      <td>NaN</td>\n",
       "      <td>NaN</td>\n",
       "      <td>...</td>\n",
       "      <td>NaN</td>\n",
       "      <td>NaN</td>\n",
       "      <td>NaN</td>\n",
       "      <td>NaN</td>\n",
       "      <td>NaN</td>\n",
       "      <td>NaN</td>\n",
       "      <td>NaN</td>\n",
       "      <td>NaN</td>\n",
       "      <td>NaN</td>\n",
       "      <td>NaN</td>\n",
       "    </tr>\n",
       "    <tr>\n",
       "      <th>1</th>\n",
       "      <td>Afghanistan</td>\n",
       "      <td>468.58</td>\n",
       "      <td>468.58</td>\n",
       "      <td>468.58</td>\n",
       "      <td>468.58</td>\n",
       "      <td>468.58</td>\n",
       "      <td>468.58</td>\n",
       "      <td>469.98</td>\n",
       "      <td>469.98</td>\n",
       "      <td>469.98</td>\n",
       "      <td>...</td>\n",
       "      <td>116.3</td>\n",
       "      <td>113.2</td>\n",
       "      <td>110.4</td>\n",
       "      <td>107.6</td>\n",
       "      <td>105.0</td>\n",
       "      <td>102.3</td>\n",
       "      <td>99.5</td>\n",
       "      <td>96.7</td>\n",
       "      <td>93.9</td>\n",
       "      <td>91.1</td>\n",
       "    </tr>\n",
       "    <tr>\n",
       "      <th>2</th>\n",
       "      <td>Akrotiri and Dhekelia</td>\n",
       "      <td>NaN</td>\n",
       "      <td>NaN</td>\n",
       "      <td>NaN</td>\n",
       "      <td>NaN</td>\n",
       "      <td>NaN</td>\n",
       "      <td>NaN</td>\n",
       "      <td>NaN</td>\n",
       "      <td>NaN</td>\n",
       "      <td>NaN</td>\n",
       "      <td>...</td>\n",
       "      <td>NaN</td>\n",
       "      <td>NaN</td>\n",
       "      <td>NaN</td>\n",
       "      <td>NaN</td>\n",
       "      <td>NaN</td>\n",
       "      <td>NaN</td>\n",
       "      <td>NaN</td>\n",
       "      <td>NaN</td>\n",
       "      <td>NaN</td>\n",
       "      <td>NaN</td>\n",
       "    </tr>\n",
       "    <tr>\n",
       "      <th>3</th>\n",
       "      <td>Albania</td>\n",
       "      <td>375.20</td>\n",
       "      <td>375.20</td>\n",
       "      <td>375.20</td>\n",
       "      <td>375.20</td>\n",
       "      <td>375.20</td>\n",
       "      <td>375.20</td>\n",
       "      <td>375.20</td>\n",
       "      <td>375.20</td>\n",
       "      <td>375.20</td>\n",
       "      <td>...</td>\n",
       "      <td>19.5</td>\n",
       "      <td>18.7</td>\n",
       "      <td>17.9</td>\n",
       "      <td>17.3</td>\n",
       "      <td>16.6</td>\n",
       "      <td>16.0</td>\n",
       "      <td>15.5</td>\n",
       "      <td>14.9</td>\n",
       "      <td>14.4</td>\n",
       "      <td>14.0</td>\n",
       "    </tr>\n",
       "    <tr>\n",
       "      <th>4</th>\n",
       "      <td>Algeria</td>\n",
       "      <td>460.21</td>\n",
       "      <td>460.21</td>\n",
       "      <td>460.21</td>\n",
       "      <td>460.21</td>\n",
       "      <td>460.21</td>\n",
       "      <td>460.21</td>\n",
       "      <td>460.21</td>\n",
       "      <td>460.21</td>\n",
       "      <td>460.21</td>\n",
       "      <td>...</td>\n",
       "      <td>32.1</td>\n",
       "      <td>30.7</td>\n",
       "      <td>29.5</td>\n",
       "      <td>28.4</td>\n",
       "      <td>27.4</td>\n",
       "      <td>26.6</td>\n",
       "      <td>25.8</td>\n",
       "      <td>25.2</td>\n",
       "      <td>24.6</td>\n",
       "      <td>24.0</td>\n",
       "    </tr>\n",
       "  </tbody>\n",
       "</table>\n",
       "<p>5 rows × 217 columns</p>\n",
       "</div>"
      ],
      "text/plain": [
       "                 Country    1800    1801    1802    1803    1804    1805  \\\n",
       "0               Abkhazia     NaN     NaN     NaN     NaN     NaN     NaN   \n",
       "1            Afghanistan  468.58  468.58  468.58  468.58  468.58  468.58   \n",
       "2  Akrotiri and Dhekelia     NaN     NaN     NaN     NaN     NaN     NaN   \n",
       "3                Albania  375.20  375.20  375.20  375.20  375.20  375.20   \n",
       "4                Algeria  460.21  460.21  460.21  460.21  460.21  460.21   \n",
       "\n",
       "     1806    1807    1808  ...   2006   2007   2008   2009   2010   2011  \\\n",
       "0     NaN     NaN     NaN  ...    NaN    NaN    NaN    NaN    NaN    NaN   \n",
       "1  469.98  469.98  469.98  ...  116.3  113.2  110.4  107.6  105.0  102.3   \n",
       "2     NaN     NaN     NaN  ...    NaN    NaN    NaN    NaN    NaN    NaN   \n",
       "3  375.20  375.20  375.20  ...   19.5   18.7   17.9   17.3   16.6   16.0   \n",
       "4  460.21  460.21  460.21  ...   32.1   30.7   29.5   28.4   27.4   26.6   \n",
       "\n",
       "   2012  2013  2014  2015  \n",
       "0   NaN   NaN   NaN   NaN  \n",
       "1  99.5  96.7  93.9  91.1  \n",
       "2   NaN   NaN   NaN   NaN  \n",
       "3  15.5  14.9  14.4  14.0  \n",
       "4  25.8  25.2  24.6  24.0  \n",
       "\n",
       "[5 rows x 217 columns]"
      ]
     },
     "metadata": {},
     "output_type": "display_data"
    },
    {
     "data": {
      "text/html": [
       "<div>\n",
       "<style scoped>\n",
       "    .dataframe tbody tr th:only-of-type {\n",
       "        vertical-align: middle;\n",
       "    }\n",
       "\n",
       "    .dataframe tbody tr th {\n",
       "        vertical-align: top;\n",
       "    }\n",
       "\n",
       "    .dataframe thead th {\n",
       "        text-align: right;\n",
       "    }\n",
       "</style>\n",
       "<table border=\"1\" class=\"dataframe\">\n",
       "  <thead>\n",
       "    <tr style=\"text-align: right;\">\n",
       "      <th></th>\n",
       "      <th>Country</th>\n",
       "      <th>1800</th>\n",
       "      <th>1801</th>\n",
       "      <th>1802</th>\n",
       "      <th>1803</th>\n",
       "      <th>1804</th>\n",
       "      <th>1805</th>\n",
       "      <th>1806</th>\n",
       "      <th>1807</th>\n",
       "      <th>1808</th>\n",
       "      <th>...</th>\n",
       "      <th>2006</th>\n",
       "      <th>2007</th>\n",
       "      <th>2008</th>\n",
       "      <th>2009</th>\n",
       "      <th>2010</th>\n",
       "      <th>2011</th>\n",
       "      <th>2012</th>\n",
       "      <th>2013</th>\n",
       "      <th>2014</th>\n",
       "      <th>2015</th>\n",
       "    </tr>\n",
       "  </thead>\n",
       "  <tbody>\n",
       "    <tr>\n",
       "      <th>0</th>\n",
       "      <td>Abkhazia</td>\n",
       "      <td>NaN</td>\n",
       "      <td>NaN</td>\n",
       "      <td>NaN</td>\n",
       "      <td>NaN</td>\n",
       "      <td>NaN</td>\n",
       "      <td>NaN</td>\n",
       "      <td>NaN</td>\n",
       "      <td>NaN</td>\n",
       "      <td>NaN</td>\n",
       "      <td>...</td>\n",
       "      <td>NaN</td>\n",
       "      <td>NaN</td>\n",
       "      <td>NaN</td>\n",
       "      <td>NaN</td>\n",
       "      <td>NaN</td>\n",
       "      <td>NaN</td>\n",
       "      <td>NaN</td>\n",
       "      <td>NaN</td>\n",
       "      <td>NaN</td>\n",
       "      <td>NaN</td>\n",
       "    </tr>\n",
       "    <tr>\n",
       "      <th>1</th>\n",
       "      <td>Afghanistan</td>\n",
       "      <td>28.2110</td>\n",
       "      <td>28.200753</td>\n",
       "      <td>28.190507</td>\n",
       "      <td>28.18026</td>\n",
       "      <td>28.170013</td>\n",
       "      <td>28.159767</td>\n",
       "      <td>28.14952</td>\n",
       "      <td>28.139273</td>\n",
       "      <td>28.129027</td>\n",
       "      <td>...</td>\n",
       "      <td>53.2</td>\n",
       "      <td>53.6</td>\n",
       "      <td>54.0</td>\n",
       "      <td>54.5</td>\n",
       "      <td>54.8</td>\n",
       "      <td>55.2</td>\n",
       "      <td>55.5</td>\n",
       "      <td>56.2</td>\n",
       "      <td>56.91</td>\n",
       "      <td>57.63</td>\n",
       "    </tr>\n",
       "    <tr>\n",
       "      <th>2</th>\n",
       "      <td>Akrotiri and Dhekelia</td>\n",
       "      <td>NaN</td>\n",
       "      <td>NaN</td>\n",
       "      <td>NaN</td>\n",
       "      <td>NaN</td>\n",
       "      <td>NaN</td>\n",
       "      <td>NaN</td>\n",
       "      <td>NaN</td>\n",
       "      <td>NaN</td>\n",
       "      <td>NaN</td>\n",
       "      <td>...</td>\n",
       "      <td>NaN</td>\n",
       "      <td>NaN</td>\n",
       "      <td>NaN</td>\n",
       "      <td>NaN</td>\n",
       "      <td>NaN</td>\n",
       "      <td>NaN</td>\n",
       "      <td>NaN</td>\n",
       "      <td>NaN</td>\n",
       "      <td>NaN</td>\n",
       "      <td>NaN</td>\n",
       "    </tr>\n",
       "    <tr>\n",
       "      <th>3</th>\n",
       "      <td>Albania</td>\n",
       "      <td>35.4000</td>\n",
       "      <td>35.400000</td>\n",
       "      <td>35.400000</td>\n",
       "      <td>35.40000</td>\n",
       "      <td>35.400000</td>\n",
       "      <td>35.400000</td>\n",
       "      <td>35.40000</td>\n",
       "      <td>35.400000</td>\n",
       "      <td>35.400000</td>\n",
       "      <td>...</td>\n",
       "      <td>74.5</td>\n",
       "      <td>74.7</td>\n",
       "      <td>74.9</td>\n",
       "      <td>75.0</td>\n",
       "      <td>75.2</td>\n",
       "      <td>75.5</td>\n",
       "      <td>75.7</td>\n",
       "      <td>75.8</td>\n",
       "      <td>75.90</td>\n",
       "      <td>76.00</td>\n",
       "    </tr>\n",
       "    <tr>\n",
       "      <th>4</th>\n",
       "      <td>Algeria</td>\n",
       "      <td>28.8224</td>\n",
       "      <td>28.822400</td>\n",
       "      <td>28.822400</td>\n",
       "      <td>28.82240</td>\n",
       "      <td>28.822400</td>\n",
       "      <td>28.822400</td>\n",
       "      <td>28.82240</td>\n",
       "      <td>28.822400</td>\n",
       "      <td>28.822400</td>\n",
       "      <td>...</td>\n",
       "      <td>74.8</td>\n",
       "      <td>75.0</td>\n",
       "      <td>75.3</td>\n",
       "      <td>75.6</td>\n",
       "      <td>75.9</td>\n",
       "      <td>76.1</td>\n",
       "      <td>76.2</td>\n",
       "      <td>76.3</td>\n",
       "      <td>76.40</td>\n",
       "      <td>76.50</td>\n",
       "    </tr>\n",
       "  </tbody>\n",
       "</table>\n",
       "<p>5 rows × 217 columns</p>\n",
       "</div>"
      ],
      "text/plain": [
       "                 Country     1800       1801       1802      1803       1804  \\\n",
       "0               Abkhazia      NaN        NaN        NaN       NaN        NaN   \n",
       "1            Afghanistan  28.2110  28.200753  28.190507  28.18026  28.170013   \n",
       "2  Akrotiri and Dhekelia      NaN        NaN        NaN       NaN        NaN   \n",
       "3                Albania  35.4000  35.400000  35.400000  35.40000  35.400000   \n",
       "4                Algeria  28.8224  28.822400  28.822400  28.82240  28.822400   \n",
       "\n",
       "        1805      1806       1807       1808  ...  2006  2007  2008  2009  \\\n",
       "0        NaN       NaN        NaN        NaN  ...   NaN   NaN   NaN   NaN   \n",
       "1  28.159767  28.14952  28.139273  28.129027  ...  53.2  53.6  54.0  54.5   \n",
       "2        NaN       NaN        NaN        NaN  ...   NaN   NaN   NaN   NaN   \n",
       "3  35.400000  35.40000  35.400000  35.400000  ...  74.5  74.7  74.9  75.0   \n",
       "4  28.822400  28.82240  28.822400  28.822400  ...  74.8  75.0  75.3  75.6   \n",
       "\n",
       "   2010  2011  2012  2013   2014   2015  \n",
       "0   NaN   NaN   NaN   NaN    NaN    NaN  \n",
       "1  54.8  55.2  55.5  56.2  56.91  57.63  \n",
       "2   NaN   NaN   NaN   NaN    NaN    NaN  \n",
       "3  75.2  75.5  75.7  75.8  75.90  76.00  \n",
       "4  75.9  76.1  76.2  76.3  76.40  76.50  \n",
       "\n",
       "[5 rows x 217 columns]"
      ]
     },
     "metadata": {},
     "output_type": "display_data"
    },
    {
     "data": {
      "text/html": [
       "<div>\n",
       "<style scoped>\n",
       "    .dataframe tbody tr th:only-of-type {\n",
       "        vertical-align: middle;\n",
       "    }\n",
       "\n",
       "    .dataframe tbody tr th {\n",
       "        vertical-align: top;\n",
       "    }\n",
       "\n",
       "    .dataframe thead th {\n",
       "        text-align: right;\n",
       "    }\n",
       "</style>\n",
       "<table border=\"1\" class=\"dataframe\">\n",
       "  <thead>\n",
       "    <tr style=\"text-align: right;\">\n",
       "      <th></th>\n",
       "      <th>Country</th>\n",
       "      <th>1800</th>\n",
       "      <th>1801</th>\n",
       "      <th>1802</th>\n",
       "      <th>1803</th>\n",
       "      <th>1804</th>\n",
       "      <th>1805</th>\n",
       "      <th>1806</th>\n",
       "      <th>1807</th>\n",
       "      <th>1808</th>\n",
       "      <th>...</th>\n",
       "      <th>2006</th>\n",
       "      <th>2007</th>\n",
       "      <th>2008</th>\n",
       "      <th>2009</th>\n",
       "      <th>2010</th>\n",
       "      <th>2011</th>\n",
       "      <th>2012</th>\n",
       "      <th>2013</th>\n",
       "      <th>2014</th>\n",
       "      <th>2015</th>\n",
       "    </tr>\n",
       "  </thead>\n",
       "  <tbody>\n",
       "    <tr>\n",
       "      <th>0</th>\n",
       "      <td>Abkhazia</td>\n",
       "      <td>NaN</td>\n",
       "      <td>NaN</td>\n",
       "      <td>NaN</td>\n",
       "      <td>NaN</td>\n",
       "      <td>NaN</td>\n",
       "      <td>NaN</td>\n",
       "      <td>NaN</td>\n",
       "      <td>NaN</td>\n",
       "      <td>NaN</td>\n",
       "      <td>...</td>\n",
       "      <td>NaN</td>\n",
       "      <td>NaN</td>\n",
       "      <td>NaN</td>\n",
       "      <td>NaN</td>\n",
       "      <td>NaN</td>\n",
       "      <td>NaN</td>\n",
       "      <td>NaN</td>\n",
       "      <td>NaN</td>\n",
       "      <td>NaN</td>\n",
       "      <td>NaN</td>\n",
       "    </tr>\n",
       "    <tr>\n",
       "      <th>1</th>\n",
       "      <td>Afghanistan</td>\n",
       "      <td>7.00</td>\n",
       "      <td>7.00</td>\n",
       "      <td>7.00</td>\n",
       "      <td>7.00</td>\n",
       "      <td>7.00</td>\n",
       "      <td>7.00</td>\n",
       "      <td>7.00</td>\n",
       "      <td>7.00</td>\n",
       "      <td>7.00</td>\n",
       "      <td>...</td>\n",
       "      <td>6.70</td>\n",
       "      <td>6.46</td>\n",
       "      <td>6.20</td>\n",
       "      <td>5.93</td>\n",
       "      <td>5.66</td>\n",
       "      <td>5.40</td>\n",
       "      <td>5.14</td>\n",
       "      <td>4.90</td>\n",
       "      <td>4.68</td>\n",
       "      <td>4.47</td>\n",
       "    </tr>\n",
       "    <tr>\n",
       "      <th>2</th>\n",
       "      <td>Akrotiri and Dhekelia</td>\n",
       "      <td>NaN</td>\n",
       "      <td>NaN</td>\n",
       "      <td>NaN</td>\n",
       "      <td>NaN</td>\n",
       "      <td>NaN</td>\n",
       "      <td>NaN</td>\n",
       "      <td>NaN</td>\n",
       "      <td>NaN</td>\n",
       "      <td>NaN</td>\n",
       "      <td>...</td>\n",
       "      <td>NaN</td>\n",
       "      <td>NaN</td>\n",
       "      <td>NaN</td>\n",
       "      <td>NaN</td>\n",
       "      <td>NaN</td>\n",
       "      <td>NaN</td>\n",
       "      <td>NaN</td>\n",
       "      <td>NaN</td>\n",
       "      <td>NaN</td>\n",
       "      <td>NaN</td>\n",
       "    </tr>\n",
       "    <tr>\n",
       "      <th>3</th>\n",
       "      <td>Albania</td>\n",
       "      <td>4.60</td>\n",
       "      <td>4.60</td>\n",
       "      <td>4.60</td>\n",
       "      <td>4.60</td>\n",
       "      <td>4.60</td>\n",
       "      <td>4.60</td>\n",
       "      <td>4.60</td>\n",
       "      <td>4.60</td>\n",
       "      <td>4.60</td>\n",
       "      <td>...</td>\n",
       "      <td>1.85</td>\n",
       "      <td>1.80</td>\n",
       "      <td>1.76</td>\n",
       "      <td>1.74</td>\n",
       "      <td>1.74</td>\n",
       "      <td>1.75</td>\n",
       "      <td>1.76</td>\n",
       "      <td>1.77</td>\n",
       "      <td>1.78</td>\n",
       "      <td>1.78</td>\n",
       "    </tr>\n",
       "    <tr>\n",
       "      <th>4</th>\n",
       "      <td>Algeria</td>\n",
       "      <td>6.99</td>\n",
       "      <td>6.99</td>\n",
       "      <td>6.99</td>\n",
       "      <td>6.99</td>\n",
       "      <td>6.99</td>\n",
       "      <td>6.99</td>\n",
       "      <td>6.99</td>\n",
       "      <td>6.99</td>\n",
       "      <td>6.99</td>\n",
       "      <td>...</td>\n",
       "      <td>2.58</td>\n",
       "      <td>2.66</td>\n",
       "      <td>2.73</td>\n",
       "      <td>2.78</td>\n",
       "      <td>2.82</td>\n",
       "      <td>2.83</td>\n",
       "      <td>2.82</td>\n",
       "      <td>2.80</td>\n",
       "      <td>2.76</td>\n",
       "      <td>2.71</td>\n",
       "    </tr>\n",
       "  </tbody>\n",
       "</table>\n",
       "<p>5 rows × 217 columns</p>\n",
       "</div>"
      ],
      "text/plain": [
       "                 Country  1800  1801  1802  1803  1804  1805  1806  1807  \\\n",
       "0               Abkhazia   NaN   NaN   NaN   NaN   NaN   NaN   NaN   NaN   \n",
       "1            Afghanistan  7.00  7.00  7.00  7.00  7.00  7.00  7.00  7.00   \n",
       "2  Akrotiri and Dhekelia   NaN   NaN   NaN   NaN   NaN   NaN   NaN   NaN   \n",
       "3                Albania  4.60  4.60  4.60  4.60  4.60  4.60  4.60  4.60   \n",
       "4                Algeria  6.99  6.99  6.99  6.99  6.99  6.99  6.99  6.99   \n",
       "\n",
       "   1808  ...  2006  2007  2008  2009  2010  2011  2012  2013  2014  2015  \n",
       "0   NaN  ...   NaN   NaN   NaN   NaN   NaN   NaN   NaN   NaN   NaN   NaN  \n",
       "1  7.00  ...  6.70  6.46  6.20  5.93  5.66  5.40  5.14  4.90  4.68  4.47  \n",
       "2   NaN  ...   NaN   NaN   NaN   NaN   NaN   NaN   NaN   NaN   NaN   NaN  \n",
       "3  4.60  ...  1.85  1.80  1.76  1.74  1.74  1.75  1.76  1.77  1.78  1.78  \n",
       "4  6.99  ...  2.58  2.66  2.73  2.78  2.82  2.83  2.82  2.80  2.76  2.71  \n",
       "\n",
       "[5 rows x 217 columns]"
      ]
     },
     "metadata": {},
     "output_type": "display_data"
    }
   ],
   "source": [
    "# grading cell - do not modify\n",
    "display(population_df.head())\n",
    "display(morttality_df.head())\n",
    "display(life_exp_df.head())\n",
    "display(fertility_df.head())"
   ]
  },
  {
   "cell_type": "markdown",
   "metadata": {
    "id": "QciK5ZlNqW54"
   },
   "source": [
    "##### Grading Feedback Cell"
   ]
  },
  {
   "cell_type": "markdown",
   "metadata": {
    "id": "UVpHsOddqW54"
   },
   "source": [
    "# Question 7 (10 pts)\n",
    "The data frames from the question above are organized such that rows are countries and columns are years.  Reorganize each data frame such that each row contains 3 columns: country, year, and a data value.  This is known as the long or tidy format.  For example, the population data frame columns start out as country, year, year, year, ..., year.  After reorganizing, the population data frame columns will contain only 3 columns: country, year, and population.  Save the reorganized data into new data frames named tidy_population_df, tidy_morttality_df, tidy_life_exp_df, and tidy_fertility_df.  You are free to use any means necessary to perform this task but the pandas melt function may be useful."
   ]
  },
  {
   "cell_type": "code",
   "execution_count": 48,
   "metadata": {
    "id": "8W_cdB-8qW54",
    "scrolled": true
   },
   "outputs": [],
   "source": [
    "# your code here\n",
    "columns_pop = list(population_df.columns[1:]) #taking the columns from population df\n",
    "tidy_population_df = population_df.melt(id_vars=['Country'], value_vars=columns_pop, var_name='Year', value_name='Population') #melting the df into desiered format\n",
    "\n",
    "columns_mor = list(morttality_df.columns[1:])\n",
    "tidy_morttality_df = morttality_df.melt(id_vars=['Country'], value_vars=columns_mor, var_name='Year', value_name='Morttality')\n",
    "\n",
    "columns_life = list(life_exp_df.columns[1:])\n",
    "tidy_life_exp_df =life_exp_df.melt(id_vars=['Country'], value_vars=columns_life, var_name='Year', value_name='Life_exp')\n",
    "\n",
    "columns_fert = list(fertility_df.columns[1:])\n",
    "tidy_fertility_df = fertility_df.melt(id_vars=['Country'], value_vars=columns_fert, var_name='Year', value_name='Fertility')\n"
   ]
  },
  {
   "cell_type": "code",
   "execution_count": 49,
   "metadata": {
    "id": "L4QCXBnqqW54"
   },
   "outputs": [
    {
     "data": {
      "text/html": [
       "<div>\n",
       "<style scoped>\n",
       "    .dataframe tbody tr th:only-of-type {\n",
       "        vertical-align: middle;\n",
       "    }\n",
       "\n",
       "    .dataframe tbody tr th {\n",
       "        vertical-align: top;\n",
       "    }\n",
       "\n",
       "    .dataframe thead th {\n",
       "        text-align: right;\n",
       "    }\n",
       "</style>\n",
       "<table border=\"1\" class=\"dataframe\">\n",
       "  <thead>\n",
       "    <tr style=\"text-align: right;\">\n",
       "      <th></th>\n",
       "      <th>Country</th>\n",
       "      <th>Year</th>\n",
       "      <th>Population</th>\n",
       "    </tr>\n",
       "  </thead>\n",
       "  <tbody>\n",
       "    <tr>\n",
       "      <th>0</th>\n",
       "      <td>Abkhazia</td>\n",
       "      <td>1800</td>\n",
       "      <td>NaN</td>\n",
       "    </tr>\n",
       "    <tr>\n",
       "      <th>1</th>\n",
       "      <td>Afghanistan</td>\n",
       "      <td>1800</td>\n",
       "      <td>3280000</td>\n",
       "    </tr>\n",
       "    <tr>\n",
       "      <th>2</th>\n",
       "      <td>Akrotiri and Dhekelia</td>\n",
       "      <td>1800</td>\n",
       "      <td>NaN</td>\n",
       "    </tr>\n",
       "    <tr>\n",
       "      <th>3</th>\n",
       "      <td>Albania</td>\n",
       "      <td>1800</td>\n",
       "      <td>410,445</td>\n",
       "    </tr>\n",
       "    <tr>\n",
       "      <th>4</th>\n",
       "      <td>Algeria</td>\n",
       "      <td>1800</td>\n",
       "      <td>2,503,218</td>\n",
       "    </tr>\n",
       "  </tbody>\n",
       "</table>\n",
       "</div>"
      ],
      "text/plain": [
       "                 Country  Year Population\n",
       "0               Abkhazia  1800        NaN\n",
       "1            Afghanistan  1800    3280000\n",
       "2  Akrotiri and Dhekelia  1800        NaN\n",
       "3                Albania  1800    410,445\n",
       "4                Algeria  1800  2,503,218"
      ]
     },
     "metadata": {},
     "output_type": "display_data"
    },
    {
     "name": "stdout",
     "output_type": "stream",
     "text": [
      "66825\n"
     ]
    },
    {
     "data": {
      "text/html": [
       "<div>\n",
       "<style scoped>\n",
       "    .dataframe tbody tr th:only-of-type {\n",
       "        vertical-align: middle;\n",
       "    }\n",
       "\n",
       "    .dataframe tbody tr th {\n",
       "        vertical-align: top;\n",
       "    }\n",
       "\n",
       "    .dataframe thead th {\n",
       "        text-align: right;\n",
       "    }\n",
       "</style>\n",
       "<table border=\"1\" class=\"dataframe\">\n",
       "  <thead>\n",
       "    <tr style=\"text-align: right;\">\n",
       "      <th></th>\n",
       "      <th>Country</th>\n",
       "      <th>Year</th>\n",
       "      <th>Morttality</th>\n",
       "    </tr>\n",
       "  </thead>\n",
       "  <tbody>\n",
       "    <tr>\n",
       "      <th>0</th>\n",
       "      <td>Abkhazia</td>\n",
       "      <td>1800</td>\n",
       "      <td>NaN</td>\n",
       "    </tr>\n",
       "    <tr>\n",
       "      <th>1</th>\n",
       "      <td>Afghanistan</td>\n",
       "      <td>1800</td>\n",
       "      <td>468.58</td>\n",
       "    </tr>\n",
       "    <tr>\n",
       "      <th>2</th>\n",
       "      <td>Akrotiri and Dhekelia</td>\n",
       "      <td>1800</td>\n",
       "      <td>NaN</td>\n",
       "    </tr>\n",
       "    <tr>\n",
       "      <th>3</th>\n",
       "      <td>Albania</td>\n",
       "      <td>1800</td>\n",
       "      <td>375.20</td>\n",
       "    </tr>\n",
       "    <tr>\n",
       "      <th>4</th>\n",
       "      <td>Algeria</td>\n",
       "      <td>1800</td>\n",
       "      <td>460.21</td>\n",
       "    </tr>\n",
       "  </tbody>\n",
       "</table>\n",
       "</div>"
      ],
      "text/plain": [
       "                 Country  Year  Morttality\n",
       "0               Abkhazia  1800         NaN\n",
       "1            Afghanistan  1800      468.58\n",
       "2  Akrotiri and Dhekelia  1800         NaN\n",
       "3                Albania  1800      375.20\n",
       "4                Algeria  1800      460.21"
      ]
     },
     "metadata": {},
     "output_type": "display_data"
    },
    {
     "name": "stdout",
     "output_type": "stream",
     "text": [
      "178200\n"
     ]
    },
    {
     "data": {
      "text/html": [
       "<div>\n",
       "<style scoped>\n",
       "    .dataframe tbody tr th:only-of-type {\n",
       "        vertical-align: middle;\n",
       "    }\n",
       "\n",
       "    .dataframe tbody tr th {\n",
       "        vertical-align: top;\n",
       "    }\n",
       "\n",
       "    .dataframe thead th {\n",
       "        text-align: right;\n",
       "    }\n",
       "</style>\n",
       "<table border=\"1\" class=\"dataframe\">\n",
       "  <thead>\n",
       "    <tr style=\"text-align: right;\">\n",
       "      <th></th>\n",
       "      <th>Country</th>\n",
       "      <th>Year</th>\n",
       "      <th>Life_exp</th>\n",
       "    </tr>\n",
       "  </thead>\n",
       "  <tbody>\n",
       "    <tr>\n",
       "      <th>0</th>\n",
       "      <td>Abkhazia</td>\n",
       "      <td>1800</td>\n",
       "      <td>NaN</td>\n",
       "    </tr>\n",
       "    <tr>\n",
       "      <th>1</th>\n",
       "      <td>Afghanistan</td>\n",
       "      <td>1800</td>\n",
       "      <td>28.2110</td>\n",
       "    </tr>\n",
       "    <tr>\n",
       "      <th>2</th>\n",
       "      <td>Akrotiri and Dhekelia</td>\n",
       "      <td>1800</td>\n",
       "      <td>NaN</td>\n",
       "    </tr>\n",
       "    <tr>\n",
       "      <th>3</th>\n",
       "      <td>Albania</td>\n",
       "      <td>1800</td>\n",
       "      <td>35.4000</td>\n",
       "    </tr>\n",
       "    <tr>\n",
       "      <th>4</th>\n",
       "      <td>Algeria</td>\n",
       "      <td>1800</td>\n",
       "      <td>28.8224</td>\n",
       "    </tr>\n",
       "  </tbody>\n",
       "</table>\n",
       "</div>"
      ],
      "text/plain": [
       "                 Country  Year  Life_exp\n",
       "0               Abkhazia  1800       NaN\n",
       "1            Afghanistan  1800   28.2110\n",
       "2  Akrotiri and Dhekelia  1800       NaN\n",
       "3                Albania  1800   35.4000\n",
       "4                Algeria  1800   28.8224"
      ]
     },
     "metadata": {},
     "output_type": "display_data"
    },
    {
     "name": "stdout",
     "output_type": "stream",
     "text": [
      "168480\n"
     ]
    },
    {
     "data": {
      "text/html": [
       "<div>\n",
       "<style scoped>\n",
       "    .dataframe tbody tr th:only-of-type {\n",
       "        vertical-align: middle;\n",
       "    }\n",
       "\n",
       "    .dataframe tbody tr th {\n",
       "        vertical-align: top;\n",
       "    }\n",
       "\n",
       "    .dataframe thead th {\n",
       "        text-align: right;\n",
       "    }\n",
       "</style>\n",
       "<table border=\"1\" class=\"dataframe\">\n",
       "  <thead>\n",
       "    <tr style=\"text-align: right;\">\n",
       "      <th></th>\n",
       "      <th>Country</th>\n",
       "      <th>Year</th>\n",
       "      <th>Fertility</th>\n",
       "    </tr>\n",
       "  </thead>\n",
       "  <tbody>\n",
       "    <tr>\n",
       "      <th>0</th>\n",
       "      <td>Abkhazia</td>\n",
       "      <td>1800</td>\n",
       "      <td>NaN</td>\n",
       "    </tr>\n",
       "    <tr>\n",
       "      <th>1</th>\n",
       "      <td>Afghanistan</td>\n",
       "      <td>1800</td>\n",
       "      <td>7.00</td>\n",
       "    </tr>\n",
       "    <tr>\n",
       "      <th>2</th>\n",
       "      <td>Akrotiri and Dhekelia</td>\n",
       "      <td>1800</td>\n",
       "      <td>NaN</td>\n",
       "    </tr>\n",
       "    <tr>\n",
       "      <th>3</th>\n",
       "      <td>Albania</td>\n",
       "      <td>1800</td>\n",
       "      <td>4.60</td>\n",
       "    </tr>\n",
       "    <tr>\n",
       "      <th>4</th>\n",
       "      <td>Algeria</td>\n",
       "      <td>1800</td>\n",
       "      <td>6.99</td>\n",
       "    </tr>\n",
       "  </tbody>\n",
       "</table>\n",
       "</div>"
      ],
      "text/plain": [
       "                 Country  Year  Fertility\n",
       "0               Abkhazia  1800        NaN\n",
       "1            Afghanistan  1800       7.00\n",
       "2  Akrotiri and Dhekelia  1800        NaN\n",
       "3                Albania  1800       4.60\n",
       "4                Algeria  1800       6.99"
      ]
     },
     "metadata": {},
     "output_type": "display_data"
    },
    {
     "name": "stdout",
     "output_type": "stream",
     "text": [
      "168480\n"
     ]
    }
   ],
   "source": [
    "# grading cell - do not modify\n",
    "display(tidy_population_df.head())\n",
    "print(tidy_population_df.size)\n",
    "display(tidy_morttality_df.head())\n",
    "print(tidy_morttality_df.size)\n",
    "display(tidy_life_exp_df.head())\n",
    "print(tidy_life_exp_df.size)\n",
    "display(tidy_fertility_df.head())\n",
    "print(tidy_fertility_df.size)"
   ]
  },
  {
   "cell_type": "markdown",
   "metadata": {
    "id": "klofkfXKqW54"
   },
   "source": [
    "##### Grading Feedback Cell"
   ]
  },
  {
   "cell_type": "markdown",
   "metadata": {
    "id": "sGtr9m_zqW55"
   },
   "source": [
    "# Question 8 (10 pts)\n",
    "Join all 4 dataframes together such that the country, year, population, mortality, life expectancy, and fertility columns are collected together in the same dataframe.  The join operation should not throw away any data.  Name the new dataframe concat_df.  Next, delete all rows where life expectancy and fertility are NAN."
   ]
  },
  {
   "cell_type": "code",
   "execution_count": 83,
   "metadata": {
    "id": "kqabX9mdqW55"
   },
   "outputs": [],
   "source": [
    "# your code here\n",
    "concat_df = tidy_population_df.merge(tidy_morttality_df,on=['Country', 'Year']).merge(tidy_life_exp_df,on=['Country', 'Year']).merge(tidy_fertility_df,on=['Country', 'Year']) #merge all dfs\n",
    "concat_df.dropna(subset=['Life_exp', 'Fertility'], how = 'all', inplace = True) #dropping NA for Life_exp and Fertility\n"
   ]
  },
  {
   "cell_type": "code",
   "execution_count": 84,
   "metadata": {
    "id": "pZfnbGzuqW55"
   },
   "outputs": [
    {
     "data": {
      "text/html": [
       "<div>\n",
       "<style scoped>\n",
       "    .dataframe tbody tr th:only-of-type {\n",
       "        vertical-align: middle;\n",
       "    }\n",
       "\n",
       "    .dataframe tbody tr th {\n",
       "        vertical-align: top;\n",
       "    }\n",
       "\n",
       "    .dataframe thead th {\n",
       "        text-align: right;\n",
       "    }\n",
       "</style>\n",
       "<table border=\"1\" class=\"dataframe\">\n",
       "  <thead>\n",
       "    <tr style=\"text-align: right;\">\n",
       "      <th></th>\n",
       "      <th>Country</th>\n",
       "      <th>Year</th>\n",
       "      <th>Population</th>\n",
       "      <th>Morttality</th>\n",
       "      <th>Life_exp</th>\n",
       "      <th>Fertility</th>\n",
       "    </tr>\n",
       "  </thead>\n",
       "  <tbody>\n",
       "    <tr>\n",
       "      <th>1</th>\n",
       "      <td>Afghanistan</td>\n",
       "      <td>1800</td>\n",
       "      <td>3280000</td>\n",
       "      <td>468.58</td>\n",
       "      <td>28.2110</td>\n",
       "      <td>7.00</td>\n",
       "    </tr>\n",
       "    <tr>\n",
       "      <th>3</th>\n",
       "      <td>Albania</td>\n",
       "      <td>1800</td>\n",
       "      <td>410,445</td>\n",
       "      <td>375.20</td>\n",
       "      <td>35.4000</td>\n",
       "      <td>4.60</td>\n",
       "    </tr>\n",
       "    <tr>\n",
       "      <th>4</th>\n",
       "      <td>Algeria</td>\n",
       "      <td>1800</td>\n",
       "      <td>2,503,218</td>\n",
       "      <td>460.21</td>\n",
       "      <td>28.8224</td>\n",
       "      <td>6.99</td>\n",
       "    </tr>\n",
       "    <tr>\n",
       "      <th>7</th>\n",
       "      <td>Angola</td>\n",
       "      <td>1800</td>\n",
       "      <td>1567028</td>\n",
       "      <td>485.68</td>\n",
       "      <td>26.9800</td>\n",
       "      <td>6.93</td>\n",
       "    </tr>\n",
       "    <tr>\n",
       "      <th>9</th>\n",
       "      <td>Antigua and Barbuda</td>\n",
       "      <td>1800</td>\n",
       "      <td>37000</td>\n",
       "      <td>473.60</td>\n",
       "      <td>33.5360</td>\n",
       "      <td>5.00</td>\n",
       "    </tr>\n",
       "  </tbody>\n",
       "</table>\n",
       "</div>"
      ],
      "text/plain": [
       "               Country  Year Population  Morttality  Life_exp  Fertility\n",
       "1          Afghanistan  1800    3280000      468.58   28.2110       7.00\n",
       "3              Albania  1800    410,445      375.20   35.4000       4.60\n",
       "4              Algeria  1800  2,503,218      460.21   28.8224       6.99\n",
       "7               Angola  1800    1567028      485.68   26.9800       6.93\n",
       "9  Antigua and Barbuda  1800      37000      473.60   33.5360       5.00"
      ]
     },
     "metadata": {},
     "output_type": "display_data"
    },
    {
     "name": "stdout",
     "output_type": "stream",
     "text": [
      "(16438, 6)\n"
     ]
    }
   ],
   "source": [
    "# grading cell - do not modify\n",
    "display(concat_df.head())\n",
    "print(concat_df.shape)"
   ]
  },
  {
   "cell_type": "markdown",
   "metadata": {
    "id": "N5oTt2kuqW55"
   },
   "source": [
    "##### Grading Feedback Cell"
   ]
  },
  {
   "cell_type": "markdown",
   "metadata": {
    "id": "Mg44WS-1qW55"
   },
   "source": [
    "# Question 9 (10 pts)\n",
    "Using concat_df, report the child mortality rate and life expectancy in 2015 for these 5 countries:\n",
    "1. Sri Lanka\n",
    "2. Poland\n",
    "3. Malaysia\n",
    "4. Pakistan\n",
    "5. Thailand"
   ]
  },
  {
   "cell_type": "code",
   "execution_count": 135,
   "metadata": {
    "id": "DshNgEKdqW55"
   },
   "outputs": [
    {
     "name": "stdout",
     "output_type": "stream",
     "text": [
      "\n",
      "Sri Lanka Life_expectancy: 76.5years, Child Mortality: 8.7 per live births  in 2015\n",
      "\n",
      "Poland Life_expectancy: 77.3years, Child Mortality: 5.2 per live births in 2015\n",
      "\n",
      "Mayalsia Life_expectancy: 75.1years, Child Mortality: 8.2 per live births in 2015\n",
      "\n",
      "Pakistan Life_expectancy: 66.5years, Child Mortality: 81.1 per live births in 2015\n",
      "\n",
      "Thailand Life_expectancy: 75.1years, Child Mortality: 12.3 per live births in 2015\n"
     ]
    }
   ],
   "source": [
    "# Your code here\n",
    "print('\\nSri Lanka Life_expectancy: {}years, Child Mortality: {} per live births  in 2015'.format(float(concat_df[(concat_df['Country'] =='Sri Lanka') & (concat_df['Year'] =='2015')][\"Life_exp\"]),float(concat_df[(concat_df['Country'] =='Sri Lanka') & (concat_df['Year'] =='2015')][\"Morttality\"])))\n",
    "\n",
    "print('\\nPoland Life_expectancy: {}years, Child Mortality: {} per live births in 2015'.format(float(concat_df[(concat_df['Country'] =='Poland') & (concat_df['Year'] =='2015')][\"Life_exp\"]),float(concat_df[(concat_df['Country'] =='Poland') & (concat_df['Year'] =='2015')][\"Morttality\"])))\n",
    "\n",
    "print('\\nMayalsia Life_expectancy: {}years, Child Mortality: {} per live births in 2015'.format(float(concat_df[(concat_df['Country'] =='Malaysia') & (concat_df['Year'] =='2015')][\"Life_exp\"]),float(concat_df[(concat_df['Country'] =='Malaysia') & (concat_df['Year'] =='2015')][\"Morttality\"])))\n",
    "\n",
    "print('\\nPakistan Life_expectancy: {}years, Child Mortality: {} per live births in 2015'.format(float(concat_df[(concat_df['Country'] =='Pakistan') & (concat_df['Year'] =='2015')][\"Life_exp\"]),float(concat_df[(concat_df['Country'] =='Pakistan') & (concat_df['Year'] =='2015')][\"Morttality\"])))\n",
    "\n",
    "print('\\nThailand Life_expectancy: {}years, Child Mortality: {} per live births in 2015'.format(float(concat_df[(concat_df['Country'] =='Thailand') & (concat_df['Year'] =='2015')][\"Life_exp\"]),float(concat_df[(concat_df['Country'] =='Thailand') & (concat_df['Year'] =='2015')][\"Morttality\"])))"
   ]
  },
  {
   "cell_type": "markdown",
   "metadata": {
    "id": "ur5aVUElqW56"
   },
   "source": [
    "##### Grading Feedback Cell"
   ]
  },
  {
   "cell_type": "code",
   "execution_count": null,
   "metadata": {},
   "outputs": [],
   "source": []
  }
 ],
 "metadata": {
  "celltoolbar": "Edit Metadata",
  "colab": {
   "collapsed_sections": [],
   "name": "IST-718 Spring 2022 Homework 1.ipynb",
   "provenance": []
  },
  "kernelspec": {
   "display_name": "Python 3 (ipykernel)",
   "language": "python",
   "name": "python3"
  },
  "language_info": {
   "codemirror_mode": {
    "name": "ipython",
    "version": 3
   },
   "file_extension": ".py",
   "mimetype": "text/x-python",
   "name": "python",
   "nbconvert_exporter": "python",
   "pygments_lexer": "ipython3",
   "version": "3.9.7"
  }
 },
 "nbformat": 4,
 "nbformat_minor": 1
}
