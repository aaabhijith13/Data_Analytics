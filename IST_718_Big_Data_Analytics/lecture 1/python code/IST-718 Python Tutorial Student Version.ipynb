{
 "cells": [
  {
   "cell_type": "markdown",
   "metadata": {
    "id": "IVieNQKWPs2N"
   },
   "source": [
    "# Basic Python"
   ]
  },
  {
   "cell_type": "markdown",
   "metadata": {
    "id": "e1VYhu4APs2V"
   },
   "source": [
    "# Python syntax is expressive"
   ]
  },
  {
   "cell_type": "code",
   "execution_count": 1,
   "metadata": {
    "colab": {
     "base_uri": "https://localhost:8080/"
    },
    "executionInfo": {
     "elapsed": 11,
     "status": "ok",
     "timestamp": 1661716204078,
     "user": {
      "displayName": "Willard Williamson",
      "userId": "04507347240949254966"
     },
     "user_tz": 240
    },
    "id": "z0q69W1WPs2V",
    "outputId": "8a72e77d-e3ba-4d5c-c20a-0037f227d44c"
   },
   "outputs": [
    {
     "name": "stdout",
     "output_type": "stream",
     "text": [
      "2 3\n"
     ]
    },
    {
     "data": {
      "text/plain": [
       "True"
      ]
     },
     "execution_count": 1,
     "metadata": {},
     "output_type": "execute_result"
    }
   ],
   "source": [
    "a, b = (2, 3)\n",
    "print(a, b)\n",
    "1 < 3 < 5"
   ]
  },
  {
   "cell_type": "markdown",
   "metadata": {
    "id": "82kWfxQoPs2W"
   },
   "source": [
    "## Create a few variables"
   ]
  },
  {
   "cell_type": "code",
   "execution_count": 2,
   "metadata": {
    "colab": {
     "base_uri": "https://localhost:8080/"
    },
    "executionInfo": {
     "elapsed": 6,
     "status": "ok",
     "timestamp": 1661716204078,
     "user": {
      "displayName": "Willard Williamson",
      "userId": "04507347240949254966"
     },
     "user_tz": 240
    },
    "id": "bcKoWdh5Ps2X",
    "outputId": "dee770ae-ef75-4c44-e9f4-04a0f8b11ebb"
   },
   "outputs": [
    {
     "name": "stdout",
     "output_type": "stream",
     "text": [
      "x = 3\n",
      "y = 5\n",
      "product = 15\n",
      "new product = 30\n"
     ]
    }
   ],
   "source": [
    "# define a couple of variables\n",
    "x = 3\n",
    "print(\"x =\", x)\n",
    "\n",
    "y = 5\n",
    "print(\"y =\", y)\n",
    "\n",
    "# compute a product \n",
    "product = x * y\n",
    "print(\"product =\", product)\n",
    "\n",
    "# change one of the variables and compute a new product\n",
    "y = 10\n",
    "product = x * y\n",
    "print(\"new product =\", product)"
   ]
  },
  {
   "cell_type": "markdown",
   "metadata": {
    "id": "7bQDzuOaPs2Y"
   },
   "source": [
    "## Basic types"
   ]
  },
  {
   "cell_type": "markdown",
   "metadata": {
    "id": "TLdStjKBPs2Y"
   },
   "source": [
    "You can check the type of a variable using `type`"
   ]
  },
  {
   "cell_type": "code",
   "execution_count": 3,
   "metadata": {
    "colab": {
     "base_uri": "https://localhost:8080/"
    },
    "executionInfo": {
     "elapsed": 412,
     "status": "ok",
     "timestamp": 1661716204487,
     "user": {
      "displayName": "Willard Williamson",
      "userId": "04507347240949254966"
     },
     "user_tz": 240
    },
    "id": "CHmhyV98Ps2Z",
    "outputId": "01b20a7d-42eb-4f59-de07-7c4e21059ea0"
   },
   "outputs": [
    {
     "data": {
      "text/plain": [
       "int"
      ]
     },
     "execution_count": 3,
     "metadata": {},
     "output_type": "execute_result"
    }
   ],
   "source": [
    "type(1)"
   ]
  },
  {
   "cell_type": "code",
   "execution_count": 4,
   "metadata": {
    "colab": {
     "base_uri": "https://localhost:8080/"
    },
    "executionInfo": {
     "elapsed": 22,
     "status": "ok",
     "timestamp": 1661716204487,
     "user": {
      "displayName": "Willard Williamson",
      "userId": "04507347240949254966"
     },
     "user_tz": 240
    },
    "id": "4vCaXi5yPs2Z",
    "outputId": "2bda49de-114d-4116-accb-c260226ea4d3"
   },
   "outputs": [
    {
     "data": {
      "text/plain": [
       "float"
      ]
     },
     "execution_count": 4,
     "metadata": {},
     "output_type": "execute_result"
    }
   ],
   "source": [
    "type(1.0)"
   ]
  },
  {
   "cell_type": "code",
   "execution_count": 5,
   "metadata": {
    "colab": {
     "base_uri": "https://localhost:8080/"
    },
    "executionInfo": {
     "elapsed": 19,
     "status": "ok",
     "timestamp": 1661716204487,
     "user": {
      "displayName": "Willard Williamson",
      "userId": "04507347240949254966"
     },
     "user_tz": 240
    },
    "id": "Vspr0r7pPs2a",
    "outputId": "22c98180-c94c-4dd2-b62c-1e0d93ebd604"
   },
   "outputs": [
    {
     "data": {
      "text/plain": [
       "str"
      ]
     },
     "execution_count": 5,
     "metadata": {},
     "output_type": "execute_result"
    }
   ],
   "source": [
    "type(\"4.5\")"
   ]
  },
  {
   "cell_type": "code",
   "execution_count": 6,
   "metadata": {
    "colab": {
     "base_uri": "https://localhost:8080/"
    },
    "executionInfo": {
     "elapsed": 17,
     "status": "ok",
     "timestamp": 1661716204488,
     "user": {
      "displayName": "Willard Williamson",
      "userId": "04507347240949254966"
     },
     "user_tz": 240
    },
    "id": "zCiaTX4pPs2a",
    "outputId": "c07fee09-2898-4e98-ec60-6c3d92ccea01"
   },
   "outputs": [
    {
     "data": {
      "text/plain": [
       "bool"
      ]
     },
     "execution_count": 6,
     "metadata": {},
     "output_type": "execute_result"
    }
   ],
   "source": [
    "type(True)"
   ]
  },
  {
   "cell_type": "code",
   "execution_count": 7,
   "metadata": {
    "colab": {
     "base_uri": "https://localhost:8080/"
    },
    "executionInfo": {
     "elapsed": 14,
     "status": "ok",
     "timestamp": 1661716204488,
     "user": {
      "displayName": "Willard Williamson",
      "userId": "04507347240949254966"
     },
     "user_tz": 240
    },
    "id": "wk6vH08APs2b",
    "outputId": "f656c60d-f5cf-4ba0-ee5d-1fe3751790d1"
   },
   "outputs": [
    {
     "data": {
      "text/plain": [
       "list"
      ]
     },
     "execution_count": 7,
     "metadata": {},
     "output_type": "execute_result"
    }
   ],
   "source": [
    "type([4.5])"
   ]
  },
  {
   "cell_type": "code",
   "execution_count": 8,
   "metadata": {
    "colab": {
     "base_uri": "https://localhost:8080/"
    },
    "executionInfo": {
     "elapsed": 12,
     "status": "ok",
     "timestamp": 1661716204488,
     "user": {
      "displayName": "Willard Williamson",
      "userId": "04507347240949254966"
     },
     "user_tz": 240
    },
    "id": "zLllNQ3YPs2b",
    "outputId": "22fb1486-66af-4b83-f781-d0432b11c538"
   },
   "outputs": [
    {
     "data": {
      "text/plain": [
       "dict"
      ]
     },
     "execution_count": 8,
     "metadata": {},
     "output_type": "execute_result"
    }
   ],
   "source": [
    "type({'x': 4.5})"
   ]
  },
  {
   "cell_type": "code",
   "execution_count": 9,
   "metadata": {
    "colab": {
     "base_uri": "https://localhost:8080/"
    },
    "executionInfo": {
     "elapsed": 10,
     "status": "ok",
     "timestamp": 1661716204489,
     "user": {
      "displayName": "Willard Williamson",
      "userId": "04507347240949254966"
     },
     "user_tz": 240
    },
    "id": "fddNcB9vPs2c",
    "outputId": "9e76e743-e6b3-4754-d6a4-4edf0a610213"
   },
   "outputs": [
    {
     "data": {
      "text/plain": [
       "tuple"
      ]
     },
     "execution_count": 9,
     "metadata": {},
     "output_type": "execute_result"
    }
   ],
   "source": [
    "type((1, 2, 3, 4))"
   ]
  },
  {
   "cell_type": "code",
   "execution_count": 10,
   "metadata": {
    "colab": {
     "base_uri": "https://localhost:8080/"
    },
    "executionInfo": {
     "elapsed": 7,
     "status": "ok",
     "timestamp": 1661716204489,
     "user": {
      "displayName": "Willard Williamson",
      "userId": "04507347240949254966"
     },
     "user_tz": 240
    },
    "id": "Wao2t9DxPs2c",
    "outputId": "8f8a4f36-44dd-4b3c-b6ae-ccc185adb120"
   },
   "outputs": [
    {
     "data": {
      "text/plain": [
       "float"
      ]
     },
     "execution_count": 10,
     "metadata": {},
     "output_type": "execute_result"
    }
   ],
   "source": [
    "type((4.5))"
   ]
  },
  {
   "cell_type": "code",
   "execution_count": 11,
   "metadata": {
    "colab": {
     "base_uri": "https://localhost:8080/"
    },
    "executionInfo": {
     "elapsed": 317,
     "status": "ok",
     "timestamp": 1661716204801,
     "user": {
      "displayName": "Willard Williamson",
      "userId": "04507347240949254966"
     },
     "user_tz": 240
    },
    "id": "rSltd4FdPs2c",
    "outputId": "99f67494-2ee3-4aee-824c-95136600d4e8"
   },
   "outputs": [
    {
     "data": {
      "text/plain": [
       "tuple"
      ]
     },
     "execution_count": 11,
     "metadata": {},
     "output_type": "execute_result"
    }
   ],
   "source": [
    "type((4.5, ))"
   ]
  },
  {
   "cell_type": "markdown",
   "metadata": {
    "id": "sbnhSbV0Ps2d"
   },
   "source": [
    "# Values and References:"
   ]
  },
  {
   "cell_type": "markdown",
   "metadata": {
    "id": "fJcWeywRPs2d"
   },
   "source": [
    "A reference type contains a pointer which points to an area in memory that contains data.  When we copy a reference, we make a copy of the pointer, not the data.  \n",
    "\n",
    "A value type contains the data (not a pointer to the data).  \n",
    "\n",
    "The difference between reference and value types can produce unexpected outcomes as illustrated in the cells below."
   ]
  },
  {
   "cell_type": "code",
   "execution_count": 12,
   "metadata": {
    "colab": {
     "base_uri": "https://localhost:8080/"
    },
    "executionInfo": {
     "elapsed": 29,
     "status": "ok",
     "timestamp": 1661716204802,
     "user": {
      "displayName": "Willard Williamson",
      "userId": "04507347240949254966"
     },
     "user_tz": 240
    },
    "id": "QTaJxI1XPs2d",
    "outputId": "63b994ea-ba48-4482-f933-5101fe059bcf"
   },
   "outputs": [
    {
     "name": "stdout",
     "output_type": "stream",
     "text": [
      "list1 = [1, 2, 3, 4, 5, 6]\n",
      "list2 = [1, 2, 3, 4, 5, 6]\n"
     ]
    }
   ],
   "source": [
    "# reference example using lists\n",
    "list1 = [1,2,3,4,5]\n",
    "list2 = list1\n",
    "list2.append(6)\n",
    "print(\"list1 =\", list1)\n",
    "print(\"list2 =\", list2)"
   ]
  },
  {
   "cell_type": "code",
   "execution_count": 13,
   "metadata": {
    "colab": {
     "base_uri": "https://localhost:8080/"
    },
    "executionInfo": {
     "elapsed": 25,
     "status": "ok",
     "timestamp": 1661716204802,
     "user": {
      "displayName": "Willard Williamson",
      "userId": "04507347240949254966"
     },
     "user_tz": 240
    },
    "id": "1qY6xG1uPs2e",
    "outputId": "f8b3b55a-4cbc-49f2-f1fa-60f97fe71c6e"
   },
   "outputs": [
    {
     "name": "stdout",
     "output_type": "stream",
     "text": [
      "list2 = [1, 2, 3, 4, 5, 6]\n",
      "list3 = [1, 2, 3, 4, 5, 6, 7]\n"
     ]
    }
   ],
   "source": [
    "# how to make a copy of a reference type\n",
    "list3 = list2.copy()\n",
    "list3.append(7)\n",
    "print(\"list2 =\", list2)\n",
    "print(\"list3 =\", list3)"
   ]
  },
  {
   "cell_type": "code",
   "execution_count": 14,
   "metadata": {
    "colab": {
     "base_uri": "https://localhost:8080/"
    },
    "executionInfo": {
     "elapsed": 22,
     "status": "ok",
     "timestamp": 1661716204802,
     "user": {
      "displayName": "Willard Williamson",
      "userId": "04507347240949254966"
     },
     "user_tz": 240
    },
    "id": "zWppsumaPs2e",
    "outputId": "d428f7bc-dd94-456c-ed72-6f5af5eb54c2"
   },
   "outputs": [
    {
     "name": "stdout",
     "output_type": "stream",
     "text": [
      "foo = 1\n",
      "bar = 2\n"
     ]
    }
   ],
   "source": [
    "# value example using ints\n",
    "foo = 1\n",
    "bar = foo\n",
    "bar = 2\n",
    "print(\"foo =\", foo)\n",
    "print(\"bar =\", bar)"
   ]
  },
  {
   "cell_type": "markdown",
   "metadata": {
    "id": "08qYf3AvPs2f"
   },
   "source": [
    "# Logical Boolean Operators"
   ]
  },
  {
   "cell_type": "markdown",
   "metadata": {
    "id": "2BU-R-SrPs2f"
   },
   "source": [
    "Python implements all of the usual operators for Boolean logic.  Logical Boolean operators operate on individual Boolean values.  Logical boolean examples follow."
   ]
  },
  {
   "cell_type": "code",
   "execution_count": 15,
   "metadata": {
    "colab": {
     "base_uri": "https://localhost:8080/"
    },
    "executionInfo": {
     "elapsed": 20,
     "status": "ok",
     "timestamp": 1661716204802,
     "user": {
      "displayName": "Willard Williamson",
      "userId": "04507347240949254966"
     },
     "user_tz": 240
    },
    "id": "_Fq9g14OPs2f",
    "outputId": "c8329ac0-9372-4a4d-85cf-faf6431d726b"
   },
   "outputs": [
    {
     "name": "stdout",
     "output_type": "stream",
     "text": [
      "False\n",
      "True\n",
      "False\n"
     ]
    }
   ],
   "source": [
    "print(True and False) # Logical AND;\n",
    "print(True or False)  # Logical OR;\n",
    "print(not True)   # Logical NOT;"
   ]
  },
  {
   "cell_type": "markdown",
   "metadata": {
    "id": "CGv64JgDPs2f"
   },
   "source": [
    "# Lists"
   ]
  },
  {
   "cell_type": "markdown",
   "metadata": {
    "id": "TUTQ7OGRPs2f"
   },
   "source": [
    "Lists are mutable structures that hold a list of arbitrary data types:"
   ]
  },
  {
   "cell_type": "code",
   "execution_count": 16,
   "metadata": {
    "executionInfo": {
     "elapsed": 18,
     "status": "ok",
     "timestamp": 1661716204803,
     "user": {
      "displayName": "Willard Williamson",
      "userId": "04507347240949254966"
     },
     "user_tz": 240
    },
    "id": "icvJrUooPs2g"
   },
   "outputs": [],
   "source": [
    "x = [1, 2, 3]\n",
    "y = [1, \"1\", None]"
   ]
  },
  {
   "cell_type": "code",
   "execution_count": 17,
   "metadata": {
    "colab": {
     "base_uri": "https://localhost:8080/"
    },
    "executionInfo": {
     "elapsed": 17,
     "status": "ok",
     "timestamp": 1661716204803,
     "user": {
      "displayName": "Willard Williamson",
      "userId": "04507347240949254966"
     },
     "user_tz": 240
    },
    "id": "JefpGJwNPs2g",
    "outputId": "3cd72e9b-3b3d-4866-ede7-0c7bf0afc522"
   },
   "outputs": [
    {
     "data": {
      "text/plain": [
       "3"
      ]
     },
     "execution_count": 17,
     "metadata": {},
     "output_type": "execute_result"
    }
   ],
   "source": [
    "# length\n",
    "len(x)"
   ]
  },
  {
   "cell_type": "markdown",
   "metadata": {
    "id": "R1fNCS4YPs2g"
   },
   "source": [
    "You can append to a list:"
   ]
  },
  {
   "cell_type": "code",
   "execution_count": 18,
   "metadata": {
    "executionInfo": {
     "elapsed": 14,
     "status": "ok",
     "timestamp": 1661716204803,
     "user": {
      "displayName": "Willard Williamson",
      "userId": "04507347240949254966"
     },
     "user_tz": 240
    },
    "id": "Cy_86rvvPs2g"
   },
   "outputs": [],
   "source": [
    "x.append(4)"
   ]
  },
  {
   "cell_type": "code",
   "execution_count": 19,
   "metadata": {
    "colab": {
     "base_uri": "https://localhost:8080/"
    },
    "executionInfo": {
     "elapsed": 15,
     "status": "ok",
     "timestamp": 1661716204804,
     "user": {
      "displayName": "Willard Williamson",
      "userId": "04507347240949254966"
     },
     "user_tz": 240
    },
    "id": "YeIekq6kPs2g",
    "outputId": "253bb7c9-d260-49d0-fd50-7b55fc35d78c"
   },
   "outputs": [
    {
     "data": {
      "text/plain": [
       "[1, 2, 3, 4]"
      ]
     },
     "execution_count": 19,
     "metadata": {},
     "output_type": "execute_result"
    }
   ],
   "source": [
    "x"
   ]
  },
  {
   "cell_type": "markdown",
   "metadata": {
    "id": "pIpV3JAxPs2h"
   },
   "source": [
    "You can concatenate two lists:"
   ]
  },
  {
   "cell_type": "code",
   "execution_count": 20,
   "metadata": {
    "colab": {
     "base_uri": "https://localhost:8080/"
    },
    "executionInfo": {
     "elapsed": 12,
     "status": "ok",
     "timestamp": 1661716204804,
     "user": {
      "displayName": "Willard Williamson",
      "userId": "04507347240949254966"
     },
     "user_tz": 240
    },
    "id": "5okYHN3-Ps2h",
    "outputId": "51579162-1aac-4b39-eb2b-70fefa43f264"
   },
   "outputs": [
    {
     "data": {
      "text/plain": [
       "[1, 2, 3, 4, 1, '1', None]"
      ]
     },
     "execution_count": 20,
     "metadata": {},
     "output_type": "execute_result"
    }
   ],
   "source": [
    "x + y"
   ]
  },
  {
   "cell_type": "markdown",
   "metadata": {
    "id": "RP7XnfE2Ps2h"
   },
   "source": [
    "You can ask if an element belongs to a list"
   ]
  },
  {
   "cell_type": "code",
   "execution_count": 21,
   "metadata": {
    "colab": {
     "base_uri": "https://localhost:8080/"
    },
    "executionInfo": {
     "elapsed": 10,
     "status": "ok",
     "timestamp": 1661716204804,
     "user": {
      "displayName": "Willard Williamson",
      "userId": "04507347240949254966"
     },
     "user_tz": 240
    },
    "id": "Lymyd98IPs2i",
    "outputId": "a200a4ae-5fc6-4f0a-dbcb-bc2f9aa57aed"
   },
   "outputs": [
    {
     "data": {
      "text/plain": [
       "True"
      ]
     },
     "execution_count": 21,
     "metadata": {},
     "output_type": "execute_result"
    }
   ],
   "source": [
    "2 in x"
   ]
  },
  {
   "cell_type": "code",
   "execution_count": 22,
   "metadata": {
    "colab": {
     "base_uri": "https://localhost:8080/"
    },
    "executionInfo": {
     "elapsed": 12,
     "status": "ok",
     "timestamp": 1661716205012,
     "user": {
      "displayName": "Willard Williamson",
      "userId": "04507347240949254966"
     },
     "user_tz": 240
    },
    "id": "yv09MrjFPs2i",
    "outputId": "f7312d9b-de1f-47b1-9716-acad5faf935f"
   },
   "outputs": [
    {
     "data": {
      "text/plain": [
       "False"
      ]
     },
     "execution_count": 22,
     "metadata": {},
     "output_type": "execute_result"
    }
   ],
   "source": [
    "-1 in x"
   ]
  },
  {
   "cell_type": "markdown",
   "metadata": {
    "id": "4itHcktLPs2i"
   },
   "source": [
    "### Slicing"
   ]
  },
  {
   "cell_type": "markdown",
   "metadata": {
    "id": "vGq0_mK6Ps2j"
   },
   "source": [
    "You can index or slice a list by using the following notation:\n",
    "\n",
    "`x[start:stop:step]`: where `start` is the initial element of the slice, `stop` is the final element (until), and `step` is how many elements will skip to move from `start` until `stop`.  Indices start from 0 and you can omit `stop` and `step`:"
   ]
  },
  {
   "cell_type": "code",
   "execution_count": 23,
   "metadata": {
    "executionInfo": {
     "elapsed": 10,
     "status": "ok",
     "timestamp": 1661716205013,
     "user": {
      "displayName": "Willard Williamson",
      "userId": "04507347240949254966"
     },
     "user_tz": 240
    },
    "id": "BxWV-e7ePs2j"
   },
   "outputs": [],
   "source": [
    "x = [1, 2, 3, 4]"
   ]
  },
  {
   "cell_type": "markdown",
   "metadata": {
    "id": "2cJjI8qaPs2j"
   },
   "source": [
    "The first element of the list is index 0"
   ]
  },
  {
   "cell_type": "code",
   "execution_count": 24,
   "metadata": {
    "colab": {
     "base_uri": "https://localhost:8080/"
    },
    "executionInfo": {
     "elapsed": 10,
     "status": "ok",
     "timestamp": 1661716205013,
     "user": {
      "displayName": "Willard Williamson",
      "userId": "04507347240949254966"
     },
     "user_tz": 240
    },
    "id": "Z9ZVBYbIPs2j",
    "outputId": "b9d80fdc-bf29-43a7-9781-d46edc7f1379"
   },
   "outputs": [
    {
     "data": {
      "text/plain": [
       "1"
      ]
     },
     "execution_count": 24,
     "metadata": {},
     "output_type": "execute_result"
    }
   ],
   "source": [
    "x[0]"
   ]
  },
  {
   "cell_type": "markdown",
   "metadata": {
    "id": "58CWYuxUPs2k"
   },
   "source": [
    "The 4th element in the list is index '3' because we start from index '0'"
   ]
  },
  {
   "cell_type": "code",
   "execution_count": 25,
   "metadata": {
    "colab": {
     "base_uri": "https://localhost:8080/"
    },
    "executionInfo": {
     "elapsed": 6,
     "status": "ok",
     "timestamp": 1661716205013,
     "user": {
      "displayName": "Willard Williamson",
      "userId": "04507347240949254966"
     },
     "user_tz": 240
    },
    "id": "X5W9C1Y4Ps2k",
    "outputId": "0cb1c053-c942-47cf-f64c-2c89801c81fe"
   },
   "outputs": [
    {
     "data": {
      "text/plain": [
       "4"
      ]
     },
     "execution_count": 25,
     "metadata": {},
     "output_type": "execute_result"
    }
   ],
   "source": [
    "x[3]"
   ]
  },
  {
   "cell_type": "markdown",
   "metadata": {
    "id": "woxY3KUwPs2k"
   },
   "source": [
    "The entire list"
   ]
  },
  {
   "cell_type": "code",
   "execution_count": 26,
   "metadata": {
    "colab": {
     "base_uri": "https://localhost:8080/"
    },
    "executionInfo": {
     "elapsed": 14,
     "status": "ok",
     "timestamp": 1661716205228,
     "user": {
      "displayName": "Willard Williamson",
      "userId": "04507347240949254966"
     },
     "user_tz": 240
    },
    "id": "v4cbnQmVPs2k",
    "outputId": "5ec20d0b-9cc2-4d3a-f5e0-922d502eeec6"
   },
   "outputs": [
    {
     "data": {
      "text/plain": [
       "[1, 2, 3, 4]"
      ]
     },
     "execution_count": 26,
     "metadata": {},
     "output_type": "execute_result"
    }
   ],
   "source": [
    "x"
   ]
  },
  {
   "cell_type": "markdown",
   "metadata": {
    "id": "dmHzLr20Ps2l"
   },
   "source": [
    "Access from the 0 index, to index 2.  The step is omitted so assumed to be 1.  Note that the stop index is NOT included in the set."
   ]
  },
  {
   "cell_type": "code",
   "execution_count": 27,
   "metadata": {
    "colab": {
     "base_uri": "https://localhost:8080/"
    },
    "executionInfo": {
     "elapsed": 12,
     "status": "ok",
     "timestamp": 1661716205228,
     "user": {
      "displayName": "Willard Williamson",
      "userId": "04507347240949254966"
     },
     "user_tz": 240
    },
    "id": "Wv20dSgyPs2l",
    "outputId": "3b1afa7c-f669-491e-ec2a-d7f5dc4db5cd"
   },
   "outputs": [
    {
     "data": {
      "text/plain": [
       "[1, 2, 3]"
      ]
     },
     "execution_count": 27,
     "metadata": {},
     "output_type": "execute_result"
    }
   ],
   "source": [
    "x[0:3] # 1, 2, 3, 4"
   ]
  },
  {
   "cell_type": "markdown",
   "metadata": {
    "id": "mDgrV4jUPs2l"
   },
   "source": [
    "Print every other element:"
   ]
  },
  {
   "cell_type": "code",
   "execution_count": 28,
   "metadata": {
    "colab": {
     "base_uri": "https://localhost:8080/"
    },
    "executionInfo": {
     "elapsed": 10,
     "status": "ok",
     "timestamp": 1661716205229,
     "user": {
      "displayName": "Willard Williamson",
      "userId": "04507347240949254966"
     },
     "user_tz": 240
    },
    "id": "IoUBxNQZPs2l",
    "outputId": "fe90311b-899a-4994-d66b-8e281724c8eb"
   },
   "outputs": [
    {
     "data": {
      "text/plain": [
       "[1, 3]"
      ]
     },
     "execution_count": 28,
     "metadata": {},
     "output_type": "execute_result"
    }
   ],
   "source": [
    "x[0:3:2] # 1, 2, 3, 4"
   ]
  },
  {
   "cell_type": "markdown",
   "metadata": {
    "id": "ZY2_4iXXPs2m"
   },
   "source": [
    "A negative index indicates indexing from the end of the list. -1 indexes the last element, -2 indexes second to last element."
   ]
  },
  {
   "cell_type": "code",
   "execution_count": 29,
   "metadata": {
    "colab": {
     "base_uri": "https://localhost:8080/"
    },
    "executionInfo": {
     "elapsed": 230,
     "status": "ok",
     "timestamp": 1661716205452,
     "user": {
      "displayName": "Willard Williamson",
      "userId": "04507347240949254966"
     },
     "user_tz": 240
    },
    "id": "SfSke9QIPs2m",
    "outputId": "06521ce9-8fa8-4719-bc37-308d01d9b2c3"
   },
   "outputs": [
    {
     "data": {
      "text/plain": [
       "4"
      ]
     },
     "execution_count": 29,
     "metadata": {},
     "output_type": "execute_result"
    }
   ],
   "source": [
    "x[-1]"
   ]
  },
  {
   "cell_type": "code",
   "execution_count": 30,
   "metadata": {
    "colab": {
     "base_uri": "https://localhost:8080/"
    },
    "executionInfo": {
     "elapsed": 9,
     "status": "ok",
     "timestamp": 1661716205452,
     "user": {
      "displayName": "Willard Williamson",
      "userId": "04507347240949254966"
     },
     "user_tz": 240
    },
    "id": "2UD3uFVcPs2m",
    "outputId": "e0b669f7-c61e-4cb8-cf3b-ab521509815d"
   },
   "outputs": [
    {
     "data": {
      "text/plain": [
       "3"
      ]
     },
     "execution_count": 30,
     "metadata": {},
     "output_type": "execute_result"
    }
   ],
   "source": [
    "x[-2]"
   ]
  },
  {
   "cell_type": "markdown",
   "metadata": {
    "id": "8DCFvPFzPs2n"
   },
   "source": [
    "Lets take the last three elements:  Start at -3 and go to the end."
   ]
  },
  {
   "cell_type": "code",
   "execution_count": 31,
   "metadata": {
    "colab": {
     "base_uri": "https://localhost:8080/"
    },
    "executionInfo": {
     "elapsed": 7,
     "status": "ok",
     "timestamp": 1661716205453,
     "user": {
      "displayName": "Willard Williamson",
      "userId": "04507347240949254966"
     },
     "user_tz": 240
    },
    "id": "DiKbBjWhPs2n",
    "outputId": "dea117fa-bbd9-4d2d-f3cd-78179a004d0a"
   },
   "outputs": [
    {
     "data": {
      "text/plain": [
       "[2, 3, 4]"
      ]
     },
     "execution_count": 31,
     "metadata": {},
     "output_type": "execute_result"
    }
   ],
   "source": [
    "x[-3:] # 1, 2, 3, 4"
   ]
  },
  {
   "cell_type": "markdown",
   "metadata": {
    "id": "5A11pK7GPs2n"
   },
   "source": [
    "If you omit `stop`, it will assume it is until the end of the list:  Index starting at -3, go to the end of the list, access every other element."
   ]
  },
  {
   "cell_type": "code",
   "execution_count": 32,
   "metadata": {
    "colab": {
     "base_uri": "https://localhost:8080/"
    },
    "executionInfo": {
     "elapsed": 240,
     "status": "ok",
     "timestamp": 1661716205689,
     "user": {
      "displayName": "Willard Williamson",
      "userId": "04507347240949254966"
     },
     "user_tz": 240
    },
    "id": "ZGEWKfqsPs2o",
    "outputId": "aec911be-0f96-4421-b1f4-bb1fab322a27"
   },
   "outputs": [
    {
     "data": {
      "text/plain": [
       "[2, 4]"
      ]
     },
     "execution_count": 32,
     "metadata": {},
     "output_type": "execute_result"
    }
   ],
   "source": [
    "x[-3::2]  # 1, 2, 3, 4"
   ]
  },
  {
   "cell_type": "markdown",
   "metadata": {
    "id": "6nHdz7tjPs2o"
   },
   "source": [
    "The first two items reversed:  Since the step is negative, the stop value is the beginning of the array (index 0)"
   ]
  },
  {
   "cell_type": "code",
   "execution_count": 33,
   "metadata": {
    "colab": {
     "base_uri": "https://localhost:8080/"
    },
    "executionInfo": {
     "elapsed": 17,
     "status": "ok",
     "timestamp": 1661716205690,
     "user": {
      "displayName": "Willard Williamson",
      "userId": "04507347240949254966"
     },
     "user_tz": 240
    },
    "id": "ADNJksbvPs2p",
    "outputId": "88a0f044-11c2-44e1-f4f0-1e1f0b8e993c"
   },
   "outputs": [
    {
     "data": {
      "text/plain": [
       "[2, 1]"
      ]
     },
     "execution_count": 33,
     "metadata": {},
     "output_type": "execute_result"
    }
   ],
   "source": [
    "x[1::-1] # 1, 2, 3, 4"
   ]
  },
  {
   "cell_type": "markdown",
   "metadata": {
    "id": "gXIZwvRHPs2p"
   },
   "source": [
    "The last two items reversed.  Note that the start defaults at the end of the array because the step value is negative."
   ]
  },
  {
   "cell_type": "code",
   "execution_count": 34,
   "metadata": {
    "colab": {
     "base_uri": "https://localhost:8080/"
    },
    "executionInfo": {
     "elapsed": 14,
     "status": "ok",
     "timestamp": 1661716205690,
     "user": {
      "displayName": "Willard Williamson",
      "userId": "04507347240949254966"
     },
     "user_tz": 240
    },
    "id": "E09TL9HkPs2p",
    "outputId": "c5f792bc-5c9e-458e-c085-558b90a6f419"
   },
   "outputs": [
    {
     "data": {
      "text/plain": [
       "[4, 3]"
      ]
     },
     "execution_count": 34,
     "metadata": {},
     "output_type": "execute_result"
    }
   ],
   "source": [
    "x[:-3:-1] # 1, 2, 3, 4"
   ]
  },
  {
   "cell_type": "markdown",
   "metadata": {
    "id": "EJmBo3VMPs2q"
   },
   "source": [
    "Everything except the last two items reversed.  In this case, the stop value defaults to 0 because the step is negative."
   ]
  },
  {
   "cell_type": "code",
   "execution_count": 35,
   "metadata": {
    "colab": {
     "base_uri": "https://localhost:8080/"
    },
    "executionInfo": {
     "elapsed": 9,
     "status": "ok",
     "timestamp": 1661716205690,
     "user": {
      "displayName": "Willard Williamson",
      "userId": "04507347240949254966"
     },
     "user_tz": 240
    },
    "id": "LkN1eBqaPs2q",
    "outputId": "25c93b93-06c6-4663-d4d1-7143a4c025bc"
   },
   "outputs": [
    {
     "data": {
      "text/plain": [
       "[2, 1]"
      ]
     },
     "execution_count": 35,
     "metadata": {},
     "output_type": "execute_result"
    }
   ],
   "source": [
    "x[-3::-1]  # 1, 2, 3, 4"
   ]
  },
  {
   "cell_type": "markdown",
   "metadata": {
    "id": "GyMgCsnSPs2q"
   },
   "source": [
    "Reverse the entire list"
   ]
  },
  {
   "cell_type": "code",
   "execution_count": 36,
   "metadata": {
    "colab": {
     "base_uri": "https://localhost:8080/"
    },
    "executionInfo": {
     "elapsed": 6,
     "status": "ok",
     "timestamp": 1661716205690,
     "user": {
      "displayName": "Willard Williamson",
      "userId": "04507347240949254966"
     },
     "user_tz": 240
    },
    "id": "LTqsHJpXPs2r",
    "outputId": "510e219e-8672-44f7-d6f1-02929543e3d6"
   },
   "outputs": [
    {
     "name": "stdout",
     "output_type": "stream",
     "text": [
      "[1, 2, 3, 4]\n",
      "[4, 3, 2, 1]\n"
     ]
    }
   ],
   "source": [
    "foo = [1,2,3,4]\n",
    "bar = foo[::-1] # increment is negative so the default start is the list end and the default stop is the list beginning\n",
    "print(foo)\n",
    "print(bar)"
   ]
  },
  {
   "cell_type": "markdown",
   "metadata": {
    "id": "_fwxMeqfPs2r"
   },
   "source": [
    "# Tuples"
   ]
  },
  {
   "cell_type": "markdown",
   "metadata": {
    "id": "rY8vsNaIPs2r"
   },
   "source": [
    "Tuples are like lists but they are *immutable* (cannot be changed)"
   ]
  },
  {
   "cell_type": "code",
   "execution_count": 1,
   "metadata": {
    "executionInfo": {
     "elapsed": 5,
     "status": "ok",
     "timestamp": 1661716205691,
     "user": {
      "displayName": "Willard Williamson",
      "userId": "04507347240949254966"
     },
     "user_tz": 240
    },
    "id": "jbeLDf5iPs2s"
   },
   "outputs": [],
   "source": [
    "z = (1, 2, 3, 4, 5)"
   ]
  },
  {
   "cell_type": "code",
   "execution_count": 2,
   "metadata": {
    "colab": {
     "base_uri": "https://localhost:8080/"
    },
    "executionInfo": {
     "elapsed": 13,
     "status": "ok",
     "timestamp": 1661716205876,
     "user": {
      "displayName": "Willard Williamson",
      "userId": "04507347240949254966"
     },
     "user_tz": 240
    },
    "id": "l7QhlkJRPs2s",
    "outputId": "b1aba01f-fdca-47e2-a929-32ba4d1c2317"
   },
   "outputs": [
    {
     "name": "stdout",
     "output_type": "stream",
     "text": [
      "a = 7 b = 9\n"
     ]
    }
   ],
   "source": [
    "a, b = (7, 9)\n",
    "print(\"a = %d b = %d\" % (a, b))"
   ]
  },
  {
   "cell_type": "code",
   "execution_count": 4,
   "metadata": {
    "executionInfo": {
     "elapsed": 11,
     "status": "ok",
     "timestamp": 1661716205876,
     "user": {
      "displayName": "Willard Williamson",
      "userId": "04507347240949254966"
     },
     "user_tz": 240
    },
    "id": "-J7K8jlmPs2s"
   },
   "outputs": [],
   "source": [
    "#z.append(2)"
   ]
  },
  {
   "cell_type": "markdown",
   "metadata": {
    "id": "MLdZ7xlLPs2t"
   },
   "source": [
    "# Basic Operators"
   ]
  },
  {
   "cell_type": "markdown",
   "metadata": {
    "id": "7pAc-_eSPs2t"
   },
   "source": [
    "Python has a very expressive set of condition statements:"
   ]
  },
  {
   "cell_type": "code",
   "execution_count": 40,
   "metadata": {
    "executionInfo": {
     "elapsed": 12,
     "status": "ok",
     "timestamp": 1661716205877,
     "user": {
      "displayName": "Willard Williamson",
      "userId": "04507347240949254966"
     },
     "user_tz": 240
    },
    "id": "rG1FxkrvPs2t"
   },
   "outputs": [],
   "source": [
    "account_balance = 100\n",
    "withdrawal_amount = 200"
   ]
  },
  {
   "cell_type": "markdown",
   "metadata": {
    "id": "GhMwaK7UPs2t"
   },
   "source": [
    "Is my balance greater than 0?"
   ]
  },
  {
   "cell_type": "code",
   "execution_count": 41,
   "metadata": {
    "colab": {
     "base_uri": "https://localhost:8080/"
    },
    "executionInfo": {
     "elapsed": 11,
     "status": "ok",
     "timestamp": 1661716205877,
     "user": {
      "displayName": "Willard Williamson",
      "userId": "04507347240949254966"
     },
     "user_tz": 240
    },
    "id": "3n_4kdGoPs2u",
    "outputId": "c8861033-26a1-4903-ad1f-71d586e9844e"
   },
   "outputs": [
    {
     "data": {
      "text/plain": [
       "True"
      ]
     },
     "execution_count": 41,
     "metadata": {},
     "output_type": "execute_result"
    }
   ],
   "source": [
    "account_balance > 0"
   ]
  },
  {
   "cell_type": "markdown",
   "metadata": {
    "id": "cFj8ApT2Ps2u"
   },
   "source": [
    "Can I withdraw $ 200?"
   ]
  },
  {
   "cell_type": "code",
   "execution_count": 42,
   "metadata": {
    "colab": {
     "base_uri": "https://localhost:8080/"
    },
    "executionInfo": {
     "elapsed": 8,
     "status": "ok",
     "timestamp": 1661716205877,
     "user": {
      "displayName": "Willard Williamson",
      "userId": "04507347240949254966"
     },
     "user_tz": 240
    },
    "id": "fbZwZUMyPs2u",
    "outputId": "70ba91e9-44ed-4bfe-ddbc-d329050d8b27",
    "scrolled": true
   },
   "outputs": [
    {
     "data": {
      "text/plain": [
       "False"
      ]
     },
     "execution_count": 42,
     "metadata": {},
     "output_type": "execute_result"
    }
   ],
   "source": [
    "account_balance - withdrawal_amount >= 0"
   ]
  },
  {
   "cell_type": "markdown",
   "metadata": {
    "id": "39USD7UxPs2u"
   },
   "source": [
    "You can combine statements in an intuitive way:"
   ]
  },
  {
   "cell_type": "code",
   "execution_count": 43,
   "metadata": {
    "colab": {
     "base_uri": "https://localhost:8080/"
    },
    "executionInfo": {
     "elapsed": 275,
     "status": "ok",
     "timestamp": 1661716206147,
     "user": {
      "displayName": "Willard Williamson",
      "userId": "04507347240949254966"
     },
     "user_tz": 240
    },
    "id": "B-g7OmzxPs2u",
    "outputId": "163a0892-7d2f-4044-fa05-1fc534782d36",
    "scrolled": true
   },
   "outputs": [
    {
     "data": {
      "text/plain": [
       "True"
      ]
     },
     "execution_count": 43,
     "metadata": {},
     "output_type": "execute_result"
    }
   ],
   "source": [
    "0 <= account_balance <= 100"
   ]
  },
  {
   "cell_type": "code",
   "execution_count": 44,
   "metadata": {
    "colab": {
     "base_uri": "https://localhost:8080/"
    },
    "executionInfo": {
     "elapsed": 23,
     "status": "ok",
     "timestamp": 1661716206147,
     "user": {
      "displayName": "Willard Williamson",
      "userId": "04507347240949254966"
     },
     "user_tz": 240
    },
    "id": "O0vazfCFPs2u",
    "outputId": "b3c7c767-6664-4b69-d920-69f9ac369cc7"
   },
   "outputs": [
    {
     "data": {
      "text/plain": [
       "True"
      ]
     },
     "execution_count": 44,
     "metadata": {},
     "output_type": "execute_result"
    }
   ],
   "source": [
    "0 <= account_balance and account_balance <= 100"
   ]
  },
  {
   "cell_type": "code",
   "execution_count": 45,
   "metadata": {
    "colab": {
     "base_uri": "https://localhost:8080/"
    },
    "executionInfo": {
     "elapsed": 21,
     "status": "ok",
     "timestamp": 1661716206148,
     "user": {
      "displayName": "Willard Williamson",
      "userId": "04507347240949254966"
     },
     "user_tz": 240
    },
    "id": "1UcHkY8xPs2v",
    "outputId": "3ad5d8cf-13a9-44a2-d000-0907a39864f4"
   },
   "outputs": [
    {
     "name": "stdout",
     "output_type": "stream",
     "text": [
      "0\n",
      "1\n",
      "3\n"
     ]
    }
   ],
   "source": [
    "# modulo operator (%) returns the remainder\n",
    "print(10 % 5)\n",
    "\n",
    "print(10 % 3)\n",
    "\n",
    "print(10 % 7)"
   ]
  },
  {
   "cell_type": "markdown",
   "metadata": {
    "id": "8gq7eZ7cPs2v"
   },
   "source": [
    "# If - Then - Else"
   ]
  },
  {
   "cell_type": "code",
   "execution_count": 46,
   "metadata": {
    "colab": {
     "base_uri": "https://localhost:8080/"
    },
    "executionInfo": {
     "elapsed": 19,
     "status": "ok",
     "timestamp": 1661716206148,
     "user": {
      "displayName": "Willard Williamson",
      "userId": "04507347240949254966"
     },
     "user_tz": 240
    },
    "id": "67N_FwzIPs2v",
    "outputId": "b08a4653-5e4f-49de-d8ff-28f2fe1718f5"
   },
   "outputs": [
    {
     "name": "stdout",
     "output_type": "stream",
     "text": [
      "You have one hundred dollars\n"
     ]
    }
   ],
   "source": [
    "if account_balance == 100:\n",
    "    print(\"You have one hundred dollars\")\n",
    "else:\n",
    "    print(\"You do not have one hundred dollars\")"
   ]
  },
  {
   "cell_type": "code",
   "execution_count": 47,
   "metadata": {
    "colab": {
     "base_uri": "https://localhost:8080/"
    },
    "executionInfo": {
     "elapsed": 16,
     "status": "ok",
     "timestamp": 1661716206148,
     "user": {
      "displayName": "Willard Williamson",
      "userId": "04507347240949254966"
     },
     "user_tz": 240
    },
    "id": "HM4542y0Ps2v",
    "outputId": "0a99cabf-d073-40dd-f443-27092daa5b73"
   },
   "outputs": [
    {
     "name": "stdout",
     "output_type": "stream",
     "text": [
      "You have less than one hundred dollars\n"
     ]
    }
   ],
   "source": [
    "account_balance = 99\n",
    "if account_balance == 100:\n",
    "    print(\"You have one hundred dollars\")\n",
    "elif account_balance > 100:\n",
    "    print(\"You do not have more than one hundred dollars\")\n",
    "else:\n",
    "    print(\"You have less than one hundred dollars\")"
   ]
  },
  {
   "cell_type": "markdown",
   "metadata": {
    "id": "T1L6tdqNPs2w"
   },
   "source": [
    "# Loops"
   ]
  },
  {
   "cell_type": "markdown",
   "metadata": {
    "id": "cbJAJHm3Ps2w"
   },
   "source": [
    "You can loop over the elements of a list like this:"
   ]
  },
  {
   "cell_type": "code",
   "execution_count": 48,
   "metadata": {
    "colab": {
     "base_uri": "https://localhost:8080/"
    },
    "executionInfo": {
     "elapsed": 14,
     "status": "ok",
     "timestamp": 1661716206149,
     "user": {
      "displayName": "Willard Williamson",
      "userId": "04507347240949254966"
     },
     "user_tz": 240
    },
    "id": "lQGp4ngXPs2w",
    "outputId": "df8106db-6312-4a5b-d401-eda8fb3b7ef3"
   },
   "outputs": [
    {
     "name": "stdout",
     "output_type": "stream",
     "text": [
      "cat\n",
      "dog\n",
      "monkey\n"
     ]
    }
   ],
   "source": [
    "animals = ['cat', 'dog', 'monkey']\n",
    "for animal in animals:\n",
    "    print(animal)"
   ]
  },
  {
   "cell_type": "markdown",
   "metadata": {
    "id": "pv8HGRxJPs2w"
   },
   "source": [
    "If you want access to the index of each element within the body of a loop, use the built-in enumerate function:"
   ]
  },
  {
   "cell_type": "code",
   "execution_count": 49,
   "metadata": {
    "colab": {
     "base_uri": "https://localhost:8080/"
    },
    "executionInfo": {
     "elapsed": 12,
     "status": "ok",
     "timestamp": 1661716206149,
     "user": {
      "displayName": "Willard Williamson",
      "userId": "04507347240949254966"
     },
     "user_tz": 240
    },
    "id": "UPpwcY_oPs2w",
    "outputId": "4076996d-d016-49d2-c4f8-afa68eb93d60"
   },
   "outputs": [
    {
     "name": "stdout",
     "output_type": "stream",
     "text": [
      "#1: cat\n",
      "#2: dog\n",
      "#3: monkey\n"
     ]
    }
   ],
   "source": [
    "animals = ['cat', 'dog', 'monkey']\n",
    "for idx, animal in enumerate(animals):\n",
    "    print('#{}: {}'.format(idx + 1, animal))"
   ]
  },
  {
   "cell_type": "markdown",
   "metadata": {
    "id": "XjpM0W7BPs2x"
   },
   "source": [
    "### Activity: FizzBuzz"
   ]
  },
  {
   "cell_type": "markdown",
   "metadata": {
    "id": "Rzs5aaeZPs2x"
   },
   "source": [
    "\"Write a program that prints the numbers from 1 to 100. But for multiples of three print “Fizz” instead of the number and for the multiples of five print “Buzz”. For numbers which are multiples of both three and five print “FizzBuzz”.\""
   ]
  },
  {
   "cell_type": "code",
   "execution_count": null,
   "metadata": {
    "id": "Al6jfPStPs2x"
   },
   "outputs": [],
   "source": [
    "# your code here"
   ]
  },
  {
   "cell_type": "markdown",
   "metadata": {
    "id": "1mBzWMvwPs2x"
   },
   "source": [
    "# Strings"
   ]
  },
  {
   "cell_type": "markdown",
   "metadata": {
    "id": "Yd8xxqAhPs2x"
   },
   "source": [
    "Strings are also manipulated similar to lists"
   ]
  },
  {
   "cell_type": "code",
   "execution_count": 51,
   "metadata": {
    "executionInfo": {
     "elapsed": 24,
     "status": "ok",
     "timestamp": 1661716206444,
     "user": {
      "displayName": "Willard Williamson",
      "userId": "04507347240949254966"
     },
     "user_tz": 240
    },
    "id": "pXKsZ-LpPs2y"
   },
   "outputs": [],
   "source": [
    "s = \"Every once in a while there is a revolutionary product that comes along and changes everything\""
   ]
  },
  {
   "cell_type": "code",
   "execution_count": 52,
   "metadata": {
    "colab": {
     "base_uri": "https://localhost:8080/",
     "height": 36
    },
    "executionInfo": {
     "elapsed": 25,
     "status": "ok",
     "timestamp": 1661716206445,
     "user": {
      "displayName": "Willard Williamson",
      "userId": "04507347240949254966"
     },
     "user_tz": 240
    },
    "id": "0Elsb0xcPs2y",
    "outputId": "f5e43841-8acf-4cba-cb16-1bc3da4f2061"
   },
   "outputs": [
    {
     "data": {
      "application/vnd.google.colaboratory.intrinsic+json": {
       "type": "string"
      },
      "text/plain": [
       "'E'"
      ]
     },
     "execution_count": 52,
     "metadata": {},
     "output_type": "execute_result"
    }
   ],
   "source": [
    "s[0]"
   ]
  },
  {
   "cell_type": "code",
   "execution_count": 53,
   "metadata": {
    "colab": {
     "base_uri": "https://localhost:8080/",
     "height": 36
    },
    "executionInfo": {
     "elapsed": 24,
     "status": "ok",
     "timestamp": 1661716206446,
     "user": {
      "displayName": "Willard Williamson",
      "userId": "04507347240949254966"
     },
     "user_tz": 240
    },
    "id": "NxvQC09ZPs2y",
    "outputId": "6c897583-14e9-4f49-e694-ad3e6e3606b9"
   },
   "outputs": [
    {
     "data": {
      "application/vnd.google.colaboratory.intrinsic+json": {
       "type": "string"
      },
      "text/plain": [
       "'Every once'"
      ]
     },
     "execution_count": 53,
     "metadata": {},
     "output_type": "execute_result"
    }
   ],
   "source": [
    "s[0:10]"
   ]
  },
  {
   "cell_type": "code",
   "execution_count": 54,
   "metadata": {
    "colab": {
     "base_uri": "https://localhost:8080/",
     "height": 36
    },
    "executionInfo": {
     "elapsed": 24,
     "status": "ok",
     "timestamp": 1661716206447,
     "user": {
      "displayName": "Willard Williamson",
      "userId": "04507347240949254966"
     },
     "user_tz": 240
    },
    "id": "bsHNAC1DPs2y",
    "outputId": "d101612a-fa88-42a4-8fec-066e54d0e371"
   },
   "outputs": [
    {
     "data": {
      "application/vnd.google.colaboratory.intrinsic+json": {
       "type": "string"
      },
      "text/plain": [
       "'everything'"
      ]
     },
     "execution_count": 54,
     "metadata": {},
     "output_type": "execute_result"
    }
   ],
   "source": [
    "s[-10:]"
   ]
  },
  {
   "cell_type": "code",
   "execution_count": 55,
   "metadata": {
    "colab": {
     "base_uri": "https://localhost:8080/",
     "height": 36
    },
    "executionInfo": {
     "elapsed": 24,
     "status": "ok",
     "timestamp": 1661716206447,
     "user": {
      "displayName": "Willard Williamson",
      "userId": "04507347240949254966"
     },
     "user_tz": 240
    },
    "id": "VouwqNtjPs2y",
    "outputId": "d3d399c1-f8ed-4074-ea35-3ab6081ca8f6"
   },
   "outputs": [
    {
     "data": {
      "application/vnd.google.colaboratory.intrinsic+json": {
       "type": "string"
      },
      "text/plain": [
       "'Eeyoc nawieteei  eouinr rdc htcmsaogadcagseeyhn'"
      ]
     },
     "execution_count": 55,
     "metadata": {},
     "output_type": "execute_result"
    }
   ],
   "source": [
    "s[0::2]"
   ]
  },
  {
   "cell_type": "markdown",
   "metadata": {
    "id": "wHEB2jMRPs2z"
   },
   "source": [
    "Some times you want to transform a string into a list of words (e.g., Natural Language Processing):"
   ]
  },
  {
   "cell_type": "code",
   "execution_count": 56,
   "metadata": {
    "colab": {
     "base_uri": "https://localhost:8080/"
    },
    "executionInfo": {
     "elapsed": 24,
     "status": "ok",
     "timestamp": 1661716206448,
     "user": {
      "displayName": "Willard Williamson",
      "userId": "04507347240949254966"
     },
     "user_tz": 240
    },
    "id": "7KF44JgGPs2z",
    "outputId": "bc8b3c5d-a279-413d-ae15-e8fd099c2ef3"
   },
   "outputs": [
    {
     "data": {
      "text/plain": [
       "['Every',\n",
       " 'once',\n",
       " 'in',\n",
       " 'a',\n",
       " 'while',\n",
       " 'there',\n",
       " 'is',\n",
       " 'a',\n",
       " 'revolutionary',\n",
       " 'product',\n",
       " 'that',\n",
       " 'comes',\n",
       " 'along',\n",
       " 'and',\n",
       " 'changes',\n",
       " 'everything']"
      ]
     },
     "execution_count": 56,
     "metadata": {},
     "output_type": "execute_result"
    }
   ],
   "source": [
    "s.split()"
   ]
  },
  {
   "cell_type": "markdown",
   "metadata": {
    "id": "laVNUp4CPs2z"
   },
   "source": [
    "You can do the reverse by using the `join` operation over string:"
   ]
  },
  {
   "cell_type": "code",
   "execution_count": 57,
   "metadata": {
    "executionInfo": {
     "elapsed": 19,
     "status": "ok",
     "timestamp": 1661716206448,
     "user": {
      "displayName": "Willard Williamson",
      "userId": "04507347240949254966"
     },
     "user_tz": 240
    },
    "id": "z3a7Noq4Ps2z"
   },
   "outputs": [],
   "source": [
    "word_list = ['I', 'love', 'data', 'science']"
   ]
  },
  {
   "cell_type": "code",
   "execution_count": 58,
   "metadata": {
    "colab": {
     "base_uri": "https://localhost:8080/",
     "height": 36
    },
    "executionInfo": {
     "elapsed": 20,
     "status": "ok",
     "timestamp": 1661716206449,
     "user": {
      "displayName": "Willard Williamson",
      "userId": "04507347240949254966"
     },
     "user_tz": 240
    },
    "id": "3Kdvc1oXPs2z",
    "outputId": "5f9e1f1e-3359-4a43-91c3-115162dc4606"
   },
   "outputs": [
    {
     "data": {
      "application/vnd.google.colaboratory.intrinsic+json": {
       "type": "string"
      },
      "text/plain": [
       "'I love data science'"
      ]
     },
     "execution_count": 58,
     "metadata": {},
     "output_type": "execute_result"
    }
   ],
   "source": [
    "\" \".join(word_list)"
   ]
  },
  {
   "cell_type": "code",
   "execution_count": 59,
   "metadata": {
    "colab": {
     "base_uri": "https://localhost:8080/",
     "height": 36
    },
    "executionInfo": {
     "elapsed": 19,
     "status": "ok",
     "timestamp": 1661716206449,
     "user": {
      "displayName": "Willard Williamson",
      "userId": "04507347240949254966"
     },
     "user_tz": 240
    },
    "id": "2h6CtkPzPs2z",
    "outputId": "461059e6-98e0-4bd2-c8d1-c0e32fc88a13"
   },
   "outputs": [
    {
     "data": {
      "application/vnd.google.colaboratory.intrinsic+json": {
       "type": "string"
      },
      "text/plain": [
       "'I-love-data-science'"
      ]
     },
     "execution_count": 59,
     "metadata": {},
     "output_type": "execute_result"
    }
   ],
   "source": [
    "'-'.join(word_list)"
   ]
  },
  {
   "cell_type": "markdown",
   "metadata": {
    "id": "u5JzZRSlPs20"
   },
   "source": [
    "# Formatting Strings"
   ]
  },
  {
   "cell_type": "code",
   "execution_count": 60,
   "metadata": {
    "colab": {
     "base_uri": "https://localhost:8080/"
    },
    "executionInfo": {
     "elapsed": 215,
     "status": "ok",
     "timestamp": 1661716206646,
     "user": {
      "displayName": "Willard Williamson",
      "userId": "04507347240949254966"
     },
     "user_tz": 240
    },
    "id": "rF-c4b8BPs20",
    "outputId": "0a3600d9-41bc-409b-e59c-d66aafdecd3f"
   },
   "outputs": [
    {
     "name": "stdout",
     "output_type": "stream",
     "text": [
      "Error the value 3.1415 was received but the value 1 was expected\n",
      "Error: the string foo was received but bar was expected\n"
     ]
    }
   ],
   "source": [
    "# create a string using integers and floats\n",
    "# using argument positions in the format specification\n",
    "str1 = 'Error the value {1} was received but the value {0} was expected'.format(1, 3.1415)\n",
    "print(str1)\n",
    "\n",
    "str2 = 'Error: the string {} was received but {} was expected'.format('foo', 'bar')\n",
    "print(str2)"
   ]
  },
  {
   "cell_type": "markdown",
   "metadata": {
    "id": "iYvzPzSnPs20"
   },
   "source": [
    "# Functions"
   ]
  },
  {
   "cell_type": "code",
   "execution_count": 61,
   "metadata": {
    "executionInfo": {
     "elapsed": 8,
     "status": "ok",
     "timestamp": 1661716206647,
     "user": {
      "displayName": "Willard Williamson",
      "userId": "04507347240949254966"
     },
     "user_tz": 240
    },
    "id": "ZyDwKS0wPs20"
   },
   "outputs": [],
   "source": [
    "def f():\n",
    "    return 5"
   ]
  },
  {
   "cell_type": "code",
   "execution_count": 62,
   "metadata": {
    "colab": {
     "base_uri": "https://localhost:8080/"
    },
    "executionInfo": {
     "elapsed": 7,
     "status": "ok",
     "timestamp": 1661716206647,
     "user": {
      "displayName": "Willard Williamson",
      "userId": "04507347240949254966"
     },
     "user_tz": 240
    },
    "id": "DrD9RobqPs20",
    "outputId": "a3cad1dd-e20f-4579-83ed-65a37909f9b3"
   },
   "outputs": [
    {
     "data": {
      "text/plain": [
       "5"
      ]
     },
     "execution_count": 62,
     "metadata": {},
     "output_type": "execute_result"
    }
   ],
   "source": [
    "f()"
   ]
  },
  {
   "cell_type": "code",
   "execution_count": 63,
   "metadata": {
    "executionInfo": {
     "elapsed": 5,
     "status": "ok",
     "timestamp": 1661716206647,
     "user": {
      "displayName": "Willard Williamson",
      "userId": "04507347240949254966"
     },
     "user_tz": 240
    },
    "id": "uP3po8HCPs21"
   },
   "outputs": [],
   "source": [
    "def add(a, b):\n",
    "    return a + b"
   ]
  },
  {
   "cell_type": "code",
   "execution_count": 64,
   "metadata": {
    "colab": {
     "base_uri": "https://localhost:8080/"
    },
    "executionInfo": {
     "elapsed": 252,
     "status": "ok",
     "timestamp": 1661716206895,
     "user": {
      "displayName": "Willard Williamson",
      "userId": "04507347240949254966"
     },
     "user_tz": 240
    },
    "id": "HmeSWl4cPs21",
    "outputId": "2805133b-208e-415c-f560-9a243a1b7cbc"
   },
   "outputs": [
    {
     "data": {
      "text/plain": [
       "5"
      ]
     },
     "execution_count": 64,
     "metadata": {},
     "output_type": "execute_result"
    }
   ],
   "source": [
    "add(2, 3)"
   ]
  },
  {
   "cell_type": "code",
   "execution_count": 65,
   "metadata": {
    "colab": {
     "base_uri": "https://localhost:8080/",
     "height": 36
    },
    "executionInfo": {
     "elapsed": 27,
     "status": "ok",
     "timestamp": 1661716206896,
     "user": {
      "displayName": "Willard Williamson",
      "userId": "04507347240949254966"
     },
     "user_tz": 240
    },
    "id": "251yrlMMPs21",
    "outputId": "18dca94e-d821-4b54-fc87-8c505427263e"
   },
   "outputs": [
    {
     "data": {
      "application/vnd.google.colaboratory.intrinsic+json": {
       "type": "string"
      },
      "text/plain": [
       "'hello world'"
      ]
     },
     "execution_count": 65,
     "metadata": {},
     "output_type": "execute_result"
    }
   ],
   "source": [
    "add(\"hello \", \"world\")"
   ]
  },
  {
   "cell_type": "code",
   "execution_count": 66,
   "metadata": {
    "colab": {
     "base_uri": "https://localhost:8080/"
    },
    "executionInfo": {
     "elapsed": 26,
     "status": "ok",
     "timestamp": 1661716206896,
     "user": {
      "displayName": "Willard Williamson",
      "userId": "04507347240949254966"
     },
     "user_tz": 240
    },
    "id": "Li5d1aDaPs21",
    "outputId": "7d712ed0-d2d0-42f4-f299-481f7dfa27a5"
   },
   "outputs": [
    {
     "data": {
      "text/plain": [
       "[1, 2, 3, 4]"
      ]
     },
     "execution_count": 66,
     "metadata": {},
     "output_type": "execute_result"
    }
   ],
   "source": [
    "add([1,2,3], [4])"
   ]
  },
  {
   "cell_type": "markdown",
   "metadata": {
    "id": "Q2Ft5FOFPs21"
   },
   "source": [
    "# Sets"
   ]
  },
  {
   "cell_type": "markdown",
   "metadata": {
    "id": "PJ6jSCJzPs22"
   },
   "source": [
    "A set is an unordered collection of distinct elements. As a simple example, consider the following:"
   ]
  },
  {
   "cell_type": "code",
   "execution_count": 67,
   "metadata": {
    "colab": {
     "base_uri": "https://localhost:8080/"
    },
    "executionInfo": {
     "elapsed": 24,
     "status": "ok",
     "timestamp": 1661716206897,
     "user": {
      "displayName": "Willard Williamson",
      "userId": "04507347240949254966"
     },
     "user_tz": 240
    },
    "id": "VJKYnM_cPs22",
    "outputId": "6b4f35d3-d560-4eaf-919b-745310a27e42"
   },
   "outputs": [
    {
     "name": "stdout",
     "output_type": "stream",
     "text": [
      "True\n",
      "False\n"
     ]
    }
   ],
   "source": [
    "animals = {'cat', 'dog'}\n",
    "print('cat' in animals)   # Check if an element is in a set; prints \"True\"\n",
    "print('fish' in animals)  # prints \"False\""
   ]
  },
  {
   "cell_type": "code",
   "execution_count": 68,
   "metadata": {
    "colab": {
     "base_uri": "https://localhost:8080/"
    },
    "executionInfo": {
     "elapsed": 21,
     "status": "ok",
     "timestamp": 1661716206897,
     "user": {
      "displayName": "Willard Williamson",
      "userId": "04507347240949254966"
     },
     "user_tz": 240
    },
    "id": "FqiP-PASPs22",
    "outputId": "9ec94ec3-ae55-4282-b35c-d5061e66192b"
   },
   "outputs": [
    {
     "name": "stdout",
     "output_type": "stream",
     "text": [
      "True\n",
      "3\n"
     ]
    }
   ],
   "source": [
    "animals.add('fish')      # Add an element to a set\n",
    "print('fish' in animals)\n",
    "print(len(animals))       # Number of elements in a set;"
   ]
  },
  {
   "cell_type": "code",
   "execution_count": 69,
   "metadata": {
    "colab": {
     "base_uri": "https://localhost:8080/"
    },
    "executionInfo": {
     "elapsed": 18,
     "status": "ok",
     "timestamp": 1661716206897,
     "user": {
      "displayName": "Willard Williamson",
      "userId": "04507347240949254966"
     },
     "user_tz": 240
    },
    "id": "6qEzYLF8Ps23",
    "outputId": "e6dc0ad1-6cd9-4c83-8cf4-6ff7b8fafb1b"
   },
   "outputs": [
    {
     "name": "stdout",
     "output_type": "stream",
     "text": [
      "3\n",
      "2\n"
     ]
    }
   ],
   "source": [
    "animals.add('cat')       # Adding an element that is already in the set does nothing\n",
    "print(len(animals))       \n",
    "animals.remove('cat')    # Remove an element from a set\n",
    "print(len(animals)) "
   ]
  },
  {
   "cell_type": "markdown",
   "metadata": {
    "id": "wypXBkUBPs23"
   },
   "source": [
    "Note: Iterating over a set has the same syntax as iterating over a list; however since sets are unordered, you cannot make assumptions about the order in which you visit the elements of the set:"
   ]
  },
  {
   "cell_type": "markdown",
   "metadata": {
    "id": "ppNZmihdPs24"
   },
   "source": [
    "# Dictionaries"
   ]
  },
  {
   "cell_type": "markdown",
   "metadata": {
    "id": "K2n25V4RPs24"
   },
   "source": [
    "Store key value pairs"
   ]
  },
  {
   "cell_type": "code",
   "execution_count": 70,
   "metadata": {
    "executionInfo": {
     "elapsed": 16,
     "status": "ok",
     "timestamp": 1661716206898,
     "user": {
      "displayName": "Willard Williamson",
      "userId": "04507347240949254966"
     },
     "user_tz": 240
    },
    "id": "quZm5YRkPs24"
   },
   "outputs": [],
   "source": [
    "S = {'name' : 'bob', \n",
    "     'gpa'  : 3.4 }\n",
    "S['major'] = 'IM'"
   ]
  },
  {
   "cell_type": "code",
   "execution_count": 71,
   "metadata": {
    "colab": {
     "base_uri": "https://localhost:8080/"
    },
    "executionInfo": {
     "elapsed": 16,
     "status": "ok",
     "timestamp": 1661716206899,
     "user": {
      "displayName": "Willard Williamson",
      "userId": "04507347240949254966"
     },
     "user_tz": 240
    },
    "id": "rhkmVLWqPs24",
    "outputId": "cf1ae3e5-6422-4bae-c219-710e6a6d327e"
   },
   "outputs": [
    {
     "data": {
      "text/plain": [
       "{'name': 'bob', 'gpa': 3.4, 'major': 'IM'}"
      ]
     },
     "execution_count": 71,
     "metadata": {},
     "output_type": "execute_result"
    }
   ],
   "source": [
    "S"
   ]
  },
  {
   "cell_type": "code",
   "execution_count": 72,
   "metadata": {
    "colab": {
     "base_uri": "https://localhost:8080/"
    },
    "executionInfo": {
     "elapsed": 14,
     "status": "ok",
     "timestamp": 1661716206899,
     "user": {
      "displayName": "Willard Williamson",
      "userId": "04507347240949254966"
     },
     "user_tz": 240
    },
    "id": "S1zpk5BzPs25",
    "outputId": "9a014695-5365-4ddf-84cf-d0870f751bd9"
   },
   "outputs": [
    {
     "data": {
      "text/plain": [
       "3.4"
      ]
     },
     "execution_count": 72,
     "metadata": {},
     "output_type": "execute_result"
    }
   ],
   "source": [
    "S['gpa']"
   ]
  },
  {
   "cell_type": "code",
   "execution_count": 73,
   "metadata": {
    "colab": {
     "base_uri": "https://localhost:8080/",
     "height": 36
    },
    "executionInfo": {
     "elapsed": 12,
     "status": "ok",
     "timestamp": 1661716206900,
     "user": {
      "displayName": "Willard Williamson",
      "userId": "04507347240949254966"
     },
     "user_tz": 240
    },
    "id": "bBJz_HCoPs25",
    "outputId": "95bee246-394f-49bb-b25e-c4a0dbada8a2"
   },
   "outputs": [
    {
     "data": {
      "application/vnd.google.colaboratory.intrinsic+json": {
       "type": "string"
      },
      "text/plain": [
       "'IM'"
      ]
     },
     "execution_count": 73,
     "metadata": {},
     "output_type": "execute_result"
    }
   ],
   "source": [
    "S['major']"
   ]
  },
  {
   "cell_type": "code",
   "execution_count": 74,
   "metadata": {
    "colab": {
     "base_uri": "https://localhost:8080/",
     "height": 36
    },
    "executionInfo": {
     "elapsed": 237,
     "status": "ok",
     "timestamp": 1661716207126,
     "user": {
      "displayName": "Willard Williamson",
      "userId": "04507347240949254966"
     },
     "user_tz": 240
    },
    "id": "b9b1nT0sPs26",
    "outputId": "dfcd22fd-3707-432f-ee13-222a98efa2f7"
   },
   "outputs": [
    {
     "data": {
      "application/vnd.google.colaboratory.intrinsic+json": {
       "type": "string"
      },
      "text/plain": [
       "''"
      ]
     },
     "execution_count": 74,
     "metadata": {},
     "output_type": "execute_result"
    }
   ],
   "source": [
    "S.get('age', '')"
   ]
  },
  {
   "cell_type": "markdown",
   "metadata": {
    "id": "uBHpSMbuPs26"
   },
   "source": [
    "# List comprehension"
   ]
  },
  {
   "cell_type": "markdown",
   "metadata": {
    "id": "ApQPhkXoPs26"
   },
   "source": [
    "Very easy to describe lists"
   ]
  },
  {
   "cell_type": "code",
   "execution_count": 75,
   "metadata": {
    "colab": {
     "base_uri": "https://localhost:8080/"
    },
    "executionInfo": {
     "elapsed": 15,
     "status": "ok",
     "timestamp": 1661716207126,
     "user": {
      "displayName": "Willard Williamson",
      "userId": "04507347240949254966"
     },
     "user_tz": 240
    },
    "id": "lMEFY_WvPs27",
    "outputId": "9d27844c-25e0-4b90-ec21-6c62ebfca2dc"
   },
   "outputs": [
    {
     "data": {
      "text/plain": [
       "[0, 1, 2, 3, 4, 5, 6, 7, 8, 9]"
      ]
     },
     "execution_count": 75,
     "metadata": {},
     "output_type": "execute_result"
    }
   ],
   "source": [
    "[i for i in range(10)]"
   ]
  },
  {
   "cell_type": "code",
   "execution_count": 76,
   "metadata": {
    "colab": {
     "base_uri": "https://localhost:8080/"
    },
    "executionInfo": {
     "elapsed": 11,
     "status": "ok",
     "timestamp": 1661716207127,
     "user": {
      "displayName": "Willard Williamson",
      "userId": "04507347240949254966"
     },
     "user_tz": 240
    },
    "id": "2MKftiC4Ps27",
    "outputId": "3021da10-6b71-454f-d602-4aa723b7c6f9"
   },
   "outputs": [
    {
     "data": {
      "text/plain": [
       "[0, 1, 4, 9, 16, 25, 36, 49, 64, 81]"
      ]
     },
     "execution_count": 76,
     "metadata": {},
     "output_type": "execute_result"
    }
   ],
   "source": [
    "[i**2 for i in range(10)]"
   ]
  },
  {
   "cell_type": "markdown",
   "metadata": {
    "id": "YqRtEHC1Ps27"
   },
   "source": [
    "We can even add some conditions"
   ]
  },
  {
   "cell_type": "code",
   "execution_count": 77,
   "metadata": {
    "colab": {
     "base_uri": "https://localhost:8080/"
    },
    "executionInfo": {
     "elapsed": 9,
     "status": "ok",
     "timestamp": 1661716207127,
     "user": {
      "displayName": "Willard Williamson",
      "userId": "04507347240949254966"
     },
     "user_tz": 240
    },
    "id": "rSQ0cWpzPs28",
    "outputId": "b53cc2bc-b70d-4e8a-8624-5730b8a56c9b"
   },
   "outputs": [
    {
     "data": {
      "text/plain": [
       "[6, 7, 8, 9]"
      ]
     },
     "execution_count": 77,
     "metadata": {},
     "output_type": "execute_result"
    }
   ],
   "source": [
    "[i for i in range(10) if i > 5]"
   ]
  },
  {
   "cell_type": "markdown",
   "metadata": {
    "id": "QnND7rQKPs28"
   },
   "source": [
    "Multiples of 2"
   ]
  },
  {
   "cell_type": "code",
   "execution_count": 78,
   "metadata": {
    "colab": {
     "base_uri": "https://localhost:8080/"
    },
    "executionInfo": {
     "elapsed": 257,
     "status": "ok",
     "timestamp": 1661716207378,
     "user": {
      "displayName": "Willard Williamson",
      "userId": "04507347240949254966"
     },
     "user_tz": 240
    },
    "id": "AwsaP91KPs28",
    "outputId": "ae75d6bf-1dc9-47d3-f751-5d842662c60b"
   },
   "outputs": [
    {
     "data": {
      "text/plain": [
       "[0, 2, 4, 6, 8]"
      ]
     },
     "execution_count": 78,
     "metadata": {},
     "output_type": "execute_result"
    }
   ],
   "source": [
    "[i for i in range(10) if i % 2 == 0]"
   ]
  },
  {
   "cell_type": "markdown",
   "metadata": {
    "id": "G9K1PFRgPs29"
   },
   "source": [
    "Powers of 2"
   ]
  },
  {
   "cell_type": "code",
   "execution_count": 79,
   "metadata": {
    "colab": {
     "base_uri": "https://localhost:8080/"
    },
    "executionInfo": {
     "elapsed": 26,
     "status": "ok",
     "timestamp": 1661716207379,
     "user": {
      "displayName": "Willard Williamson",
      "userId": "04507347240949254966"
     },
     "user_tz": 240
    },
    "id": "lcsVk0iuPs29",
    "outputId": "a6e96e43-e6b5-4fdd-99c9-79829adddf48"
   },
   "outputs": [
    {
     "data": {
      "text/plain": [
       "[0, 1, 4, 9, 16, 25, 36, 49, 64, 81]"
      ]
     },
     "execution_count": 79,
     "metadata": {},
     "output_type": "execute_result"
    }
   ],
   "source": [
    "[i**2 for i in range(10)]"
   ]
  },
  {
   "cell_type": "markdown",
   "metadata": {
    "id": "CtXAOk1jPs2-"
   },
   "source": [
    "You can nest comprehensions"
   ]
  },
  {
   "cell_type": "code",
   "execution_count": 80,
   "metadata": {
    "colab": {
     "base_uri": "https://localhost:8080/"
    },
    "executionInfo": {
     "elapsed": 23,
     "status": "ok",
     "timestamp": 1661716207379,
     "user": {
      "displayName": "Willard Williamson",
      "userId": "04507347240949254966"
     },
     "user_tz": 240
    },
    "id": "XP0b5nbbPs2-",
    "outputId": "4d2afc34-53a5-4334-959e-b82968860f3e"
   },
   "outputs": [
    {
     "data": {
      "text/plain": [
       "[[[0, 0], [0, 1], [0, 2], [0, 3], [0, 4]],\n",
       " [[1, 0], [1, 1], [1, 2], [1, 3], [1, 4]],\n",
       " [[2, 0], [2, 1], [2, 2], [2, 3], [2, 4]],\n",
       " [[3, 0], [3, 1], [3, 2], [3, 3], [3, 4]],\n",
       " [[4, 0], [4, 1], [4, 2], [4, 3], [4, 4]]]"
      ]
     },
     "execution_count": 80,
     "metadata": {},
     "output_type": "execute_result"
    }
   ],
   "source": [
    "[[[j, i] for i in range(5)] for j in range(5)]"
   ]
  },
  {
   "cell_type": "markdown",
   "metadata": {
    "id": "YDREgVwwPs2-"
   },
   "source": [
    "You can concatenate multiple comprehensions"
   ]
  },
  {
   "cell_type": "code",
   "execution_count": 81,
   "metadata": {
    "colab": {
     "base_uri": "https://localhost:8080/"
    },
    "executionInfo": {
     "elapsed": 21,
     "status": "ok",
     "timestamp": 1661716207380,
     "user": {
      "displayName": "Willard Williamson",
      "userId": "04507347240949254966"
     },
     "user_tz": 240
    },
    "id": "YzTExt3APs2-",
    "outputId": "89de7360-2645-428c-fa2c-fbc5055c03ad"
   },
   "outputs": [
    {
     "data": {
      "text/plain": [
       "[[0, 1],\n",
       " [0, 2],\n",
       " [0, 3],\n",
       " [0, 4],\n",
       " [1, 2],\n",
       " [1, 3],\n",
       " [1, 4],\n",
       " [2, 3],\n",
       " [2, 4],\n",
       " [3, 4]]"
      ]
     },
     "execution_count": 81,
     "metadata": {},
     "output_type": "execute_result"
    }
   ],
   "source": [
    "[[i, j] for i in range(5) for j in range(5) if i < j]"
   ]
  },
  {
   "cell_type": "markdown",
   "metadata": {
    "id": "A9C2HjofPs2_"
   },
   "source": [
    "#### Activity: Given the following function, create a list comprehension of the prime numbers."
   ]
  },
  {
   "cell_type": "code",
   "execution_count": 82,
   "metadata": {
    "colab": {
     "base_uri": "https://localhost:8080/"
    },
    "executionInfo": {
     "elapsed": 19,
     "status": "ok",
     "timestamp": 1661716207380,
     "user": {
      "displayName": "Willard Williamson",
      "userId": "04507347240949254966"
     },
     "user_tz": 240
    },
    "id": "gdiu7pnTPs2_",
    "outputId": "a56a3af9-f7d0-4a55-8635-55188fe291bc"
   },
   "outputs": [
    {
     "name": "stdout",
     "output_type": "stream",
     "text": [
      " true\n",
      " false\n"
     ]
    }
   ],
   "source": [
    "# first, create function that checks whether a number is prime\n",
    "def isPrime(n):\n",
    "    # Corner cases \n",
    "    if (n <= 1) : \n",
    "        return False\n",
    "    if (n <= 3) : \n",
    "        return True\n",
    "  \n",
    "    # This is checked so that we can skip  \n",
    "    # middle five numbers in below loop \n",
    "    if (n % 2 == 0 or n % 3 == 0) : \n",
    "        return False\n",
    "  \n",
    "    i = 5\n",
    "    while(i * i <= n) : \n",
    "        if (n % i == 0 or n % (i + 2) == 0) : \n",
    "            return False\n",
    "        i = i + 6\n",
    "  \n",
    "    return True\n",
    "  \n",
    "  \n",
    "# test\n",
    "if (isPrime(31)) : \n",
    "    print(\" true\") \n",
    "else : \n",
    "    print(\" false\") \n",
    "      \n",
    "if(isPrime(15)) : \n",
    "    print(\" true\") \n",
    "else :  \n",
    "    print(\" false\") "
   ]
  },
  {
   "cell_type": "code",
   "execution_count": null,
   "metadata": {
    "id": "zNHMhPm-Ps3A"
   },
   "outputs": [],
   "source": [
    "# your code here\n"
   ]
  },
  {
   "cell_type": "markdown",
   "metadata": {
    "id": "Z2y4njTzPs3A"
   },
   "source": [
    "#### Activity Use list comprehension to flatten the matrix in the following cell:\n",
    "\n",
    "\\[[1, 2, 3], [4,5,6]] => [1,2,3,4,5,6]"
   ]
  },
  {
   "cell_type": "code",
   "execution_count": null,
   "metadata": {
    "id": "7JlnpfkVPs3A"
   },
   "outputs": [],
   "source": [
    "foo = [[1, 2, 3], [4, 5, 6]]\n",
    "\n",
    "# your code here"
   ]
  },
  {
   "cell_type": "markdown",
   "metadata": {
    "id": "WmsPYcrhPs3B"
   },
   "source": [
    "#### Activity: Using only list comprehension, create a dictionary with words as keys and frequency as values:"
   ]
  },
  {
   "cell_type": "code",
   "execution_count": null,
   "metadata": {
    "id": "HgrR3m8TPs3B"
   },
   "outputs": [],
   "source": [
    "# Hint 1: The split() operator can be useful\n",
    "# Hint 2: The count() operator can be useful\n",
    "# Your code here:"
   ]
  },
  {
   "cell_type": "markdown",
   "metadata": {
    "id": "rtC10-B3Ps3B"
   },
   "source": [
    "# Advanced topics"
   ]
  },
  {
   "cell_type": "markdown",
   "metadata": {
    "id": "BDgqBEqbPs3C"
   },
   "source": [
    "### Keyword parameters"
   ]
  },
  {
   "cell_type": "markdown",
   "metadata": {
    "id": "CDtGzvD4Ps3C"
   },
   "source": [
    "Define a simple function"
   ]
  },
  {
   "cell_type": "code",
   "execution_count": 86,
   "metadata": {
    "executionInfo": {
     "elapsed": 9,
     "status": "ok",
     "timestamp": 1661716207381,
     "user": {
      "displayName": "Willard Williamson",
      "userId": "04507347240949254966"
     },
     "user_tz": 240
    },
    "id": "aRDaFkLyPs3C"
   },
   "outputs": [],
   "source": [
    "def f():\n",
    "    return 5"
   ]
  },
  {
   "cell_type": "markdown",
   "metadata": {
    "id": "0EzS_oWsPs3D"
   },
   "source": [
    "Check the type of the function"
   ]
  },
  {
   "cell_type": "code",
   "execution_count": 87,
   "metadata": {
    "colab": {
     "base_uri": "https://localhost:8080/"
    },
    "executionInfo": {
     "elapsed": 8,
     "status": "ok",
     "timestamp": 1661716207381,
     "user": {
      "displayName": "Willard Williamson",
      "userId": "04507347240949254966"
     },
     "user_tz": 240
    },
    "id": "ACxjQn5DPs3D",
    "outputId": "67e1dd74-4f9a-4b5b-f0d5-4243d1d585d9"
   },
   "outputs": [
    {
     "data": {
      "text/plain": [
       "function"
      ]
     },
     "execution_count": 87,
     "metadata": {},
     "output_type": "execute_result"
    }
   ],
   "source": [
    "type(f)"
   ]
  },
  {
   "cell_type": "markdown",
   "metadata": {
    "id": "M4pGzGy9Ps3D"
   },
   "source": [
    "Define a function with default parameters b and c"
   ]
  },
  {
   "cell_type": "code",
   "execution_count": 88,
   "metadata": {
    "executionInfo": {
     "elapsed": 205,
     "status": "ok",
     "timestamp": 1661716207580,
     "user": {
      "displayName": "Willard Williamson",
      "userId": "04507347240949254966"
     },
     "user_tz": 240
    },
    "id": "lRbf-UHmPs3D"
   },
   "outputs": [],
   "source": [
    "def f2(a, b=0, c=3):\n",
    "    return (a + b)*c"
   ]
  },
  {
   "cell_type": "markdown",
   "metadata": {
    "id": "Li8fUQRGPs3D"
   },
   "source": [
    "Show that the function with default parameters can be called by omitting all, some, or none of the defaults."
   ]
  },
  {
   "cell_type": "code",
   "execution_count": 89,
   "metadata": {
    "colab": {
     "base_uri": "https://localhost:8080/"
    },
    "executionInfo": {
     "elapsed": 16,
     "status": "ok",
     "timestamp": 1661716207580,
     "user": {
      "displayName": "Willard Williamson",
      "userId": "04507347240949254966"
     },
     "user_tz": 240
    },
    "id": "6rRlX_9SPs3D",
    "outputId": "840ecace-27ce-4b04-ef73-dacd5beb9bbd"
   },
   "outputs": [
    {
     "data": {
      "text/plain": [
       "(3, 9, 5, 9, 9)"
      ]
     },
     "execution_count": 89,
     "metadata": {},
     "output_type": "execute_result"
    }
   ],
   "source": [
    "f2(1), f2(1, 2), f2(1,c=5), f2(1, 2, 3), f2(1, c=3, b=2)"
   ]
  },
  {
   "cell_type": "markdown",
   "metadata": {
    "id": "0EKQ9C6LPs3E"
   },
   "source": [
    "Default params must be defined last, the following is a syntax error."
   ]
  },
  {
   "cell_type": "code",
   "execution_count": 90,
   "metadata": {
    "executionInfo": {
     "elapsed": 14,
     "status": "ok",
     "timestamp": 1661716207580,
     "user": {
      "displayName": "Willard Williamson",
      "userId": "04507347240949254966"
     },
     "user_tz": 240
    },
    "id": "S91-02d-Ps3E"
   },
   "outputs": [],
   "source": [
    "# syntax error\n",
    "# f2(1, b=3, 3)"
   ]
  },
  {
   "cell_type": "markdown",
   "metadata": {
    "id": "8pxUMq53Ps3E"
   },
   "source": [
    "Python’s default arguments are evaluated once when the function is defined, not each time the function is called (like it is in say, Ruby). This means that if you use a mutable default argument and mutate it, you will have mutated that object for all future calls to the function as well.  The local variable x is similar to a \"static\" variable in C++."
   ]
  },
  {
   "cell_type": "code",
   "execution_count": 91,
   "metadata": {
    "executionInfo": {
     "elapsed": 14,
     "status": "ok",
     "timestamp": 1661716207581,
     "user": {
      "displayName": "Willard Williamson",
      "userId": "04507347240949254966"
     },
     "user_tz": 240
    },
    "id": "3qR7X8CBPs3E"
   },
   "outputs": [],
   "source": [
    "def f3(x=[]):\n",
    "    x.append(1)\n",
    "    return x"
   ]
  },
  {
   "cell_type": "code",
   "execution_count": 92,
   "metadata": {
    "colab": {
     "base_uri": "https://localhost:8080/"
    },
    "executionInfo": {
     "elapsed": 14,
     "status": "ok",
     "timestamp": 1661716207581,
     "user": {
      "displayName": "Willard Williamson",
      "userId": "04507347240949254966"
     },
     "user_tz": 240
    },
    "id": "SIWrl8bEPs3F",
    "outputId": "4976b3d1-6509-40f4-b843-51f55ad66b29"
   },
   "outputs": [
    {
     "data": {
      "text/plain": [
       "[1]"
      ]
     },
     "execution_count": 92,
     "metadata": {},
     "output_type": "execute_result"
    }
   ],
   "source": [
    "f3()"
   ]
  },
  {
   "cell_type": "markdown",
   "metadata": {
    "id": "PLkz-vryPs3F"
   },
   "source": [
    "The next call adds another 1 to the default list x."
   ]
  },
  {
   "cell_type": "code",
   "execution_count": 93,
   "metadata": {
    "colab": {
     "base_uri": "https://localhost:8080/"
    },
    "executionInfo": {
     "elapsed": 11,
     "status": "ok",
     "timestamp": 1661716207581,
     "user": {
      "displayName": "Willard Williamson",
      "userId": "04507347240949254966"
     },
     "user_tz": 240
    },
    "id": "eKLpkNSHPs3F",
    "outputId": "a62c2a9d-13ac-43dd-c366-bab2a38ac579"
   },
   "outputs": [
    {
     "data": {
      "text/plain": [
       "[1, 1]"
      ]
     },
     "execution_count": 93,
     "metadata": {},
     "output_type": "execute_result"
    }
   ],
   "source": [
    "f3()"
   ]
  },
  {
   "cell_type": "markdown",
   "metadata": {
    "id": "j1yBeC4QPs3F"
   },
   "source": [
    "To avoid the unexpected behaviour caused by the static nature of default args, one option is to write code to create a new variable each time the function is called."
   ]
  },
  {
   "cell_type": "code",
   "execution_count": 94,
   "metadata": {
    "executionInfo": {
     "elapsed": 9,
     "status": "ok",
     "timestamp": 1661716207581,
     "user": {
      "displayName": "Willard Williamson",
      "userId": "04507347240949254966"
     },
     "user_tz": 240
    },
    "id": "cAwDeREnPs3F"
   },
   "outputs": [],
   "source": [
    "def f4(x=None):\n",
    "    if x is None:\n",
    "        x = []\n",
    "    x.append(1)\n",
    "    return x"
   ]
  },
  {
   "cell_type": "code",
   "execution_count": 95,
   "metadata": {
    "colab": {
     "base_uri": "https://localhost:8080/"
    },
    "executionInfo": {
     "elapsed": 10,
     "status": "ok",
     "timestamp": 1661716207582,
     "user": {
      "displayName": "Willard Williamson",
      "userId": "04507347240949254966"
     },
     "user_tz": 240
    },
    "id": "KZGAsZKaPs3F",
    "outputId": "447044a0-a18a-4ada-ce1f-db8670da2dd5"
   },
   "outputs": [
    {
     "data": {
      "text/plain": [
       "[1]"
      ]
     },
     "execution_count": 95,
     "metadata": {},
     "output_type": "execute_result"
    }
   ],
   "source": [
    "f4()"
   ]
  },
  {
   "cell_type": "markdown",
   "metadata": {
    "id": "fGJTDfVLPs3G"
   },
   "source": [
    "This time the 2nd call produces a consistent result because the variable x is newly created each time the function is called."
   ]
  },
  {
   "cell_type": "code",
   "execution_count": 96,
   "metadata": {
    "colab": {
     "base_uri": "https://localhost:8080/"
    },
    "executionInfo": {
     "elapsed": 7,
     "status": "ok",
     "timestamp": 1661716207582,
     "user": {
      "displayName": "Willard Williamson",
      "userId": "04507347240949254966"
     },
     "user_tz": 240
    },
    "id": "X8Ij85zfPs3G",
    "outputId": "649df750-400a-4fc1-f133-f722a3bb2f8a"
   },
   "outputs": [
    {
     "data": {
      "text/plain": [
       "[1]"
      ]
     },
     "execution_count": 96,
     "metadata": {},
     "output_type": "execute_result"
    }
   ],
   "source": [
    "f4()"
   ]
  },
  {
   "cell_type": "markdown",
   "metadata": {
    "id": "dpGk3QmAPs3G"
   },
   "source": [
    "Define a function that returns a list created from its parameters."
   ]
  },
  {
   "cell_type": "code",
   "execution_count": 97,
   "metadata": {
    "executionInfo": {
     "elapsed": 5,
     "status": "ok",
     "timestamp": 1661716207582,
     "user": {
      "displayName": "Willard Williamson",
      "userId": "04507347240949254966"
     },
     "user_tz": 240
    },
    "id": "ZXBuRgQfPs3G"
   },
   "outputs": [],
   "source": [
    "def f5(a, b=2, c=3):\n",
    "    return [a, b, c]"
   ]
  },
  {
   "cell_type": "code",
   "execution_count": 98,
   "metadata": {
    "colab": {
     "base_uri": "https://localhost:8080/"
    },
    "executionInfo": {
     "elapsed": 229,
     "status": "ok",
     "timestamp": 1661716207806,
     "user": {
      "displayName": "Willard Williamson",
      "userId": "04507347240949254966"
     },
     "user_tz": 240
    },
    "id": "HQ9DdgiXPs3G",
    "outputId": "3a46d980-9f82-4391-bed1-778075b8847c"
   },
   "outputs": [
    {
     "data": {
      "text/plain": [
       "[3, 2, 1]"
      ]
     },
     "execution_count": 98,
     "metadata": {},
     "output_type": "execute_result"
    }
   ],
   "source": [
    "f5(3, 2, 1)"
   ]
  },
  {
   "cell_type": "markdown",
   "metadata": {
    "id": "isDrsAYWPs3G"
   },
   "source": [
    "Note that we pass a list to f5 it will return a list containing a list."
   ]
  },
  {
   "cell_type": "code",
   "execution_count": 99,
   "metadata": {
    "colab": {
     "base_uri": "https://localhost:8080/"
    },
    "executionInfo": {
     "elapsed": 18,
     "status": "ok",
     "timestamp": 1661716207807,
     "user": {
      "displayName": "Willard Williamson",
      "userId": "04507347240949254966"
     },
     "user_tz": 240
    },
    "id": "GEJm1JWWPs3H",
    "outputId": "0efb60e1-5a8b-4b06-a429-0050b2742998"
   },
   "outputs": [
    {
     "data": {
      "text/plain": [
       "[[3, 2, 1], 2, 3]"
      ]
     },
     "execution_count": 99,
     "metadata": {},
     "output_type": "execute_result"
    }
   ],
   "source": [
    "f5([3, 2, 1])"
   ]
  },
  {
   "cell_type": "markdown",
   "metadata": {
    "id": "knMFNgvoPs3H"
   },
   "source": [
    "The star operator expands the list by selecting each element of the list.  The result is that the call sends 3, 2, 1 to f5 instead of the list [3, 2, 1]."
   ]
  },
  {
   "cell_type": "code",
   "execution_count": 100,
   "metadata": {
    "colab": {
     "base_uri": "https://localhost:8080/"
    },
    "executionInfo": {
     "elapsed": 15,
     "status": "ok",
     "timestamp": 1661716207807,
     "user": {
      "displayName": "Willard Williamson",
      "userId": "04507347240949254966"
     },
     "user_tz": 240
    },
    "id": "ogWgGs5VPs3H",
    "outputId": "5ec352d1-49fa-47a8-d92b-f760ac7b1934"
   },
   "outputs": [
    {
     "data": {
      "text/plain": [
       "[3, 2, 1]"
      ]
     },
     "execution_count": 100,
     "metadata": {},
     "output_type": "execute_result"
    }
   ],
   "source": [
    "f5(*[3, 2, 1])"
   ]
  },
  {
   "cell_type": "markdown",
   "metadata": {
    "id": "bMQgIJoLPs3H"
   },
   "source": [
    "The ** operator extracts values from the dictionary"
   ]
  },
  {
   "cell_type": "code",
   "execution_count": 101,
   "metadata": {
    "colab": {
     "base_uri": "https://localhost:8080/"
    },
    "executionInfo": {
     "elapsed": 12,
     "status": "ok",
     "timestamp": 1661716207807,
     "user": {
      "displayName": "Willard Williamson",
      "userId": "04507347240949254966"
     },
     "user_tz": 240
    },
    "id": "g7jBEoydPs3H",
    "outputId": "eb0fc31b-c09d-4423-cc43-2f23a1e241da"
   },
   "outputs": [
    {
     "data": {
      "text/plain": [
       "[3, 2, 1]"
      ]
     },
     "execution_count": 101,
     "metadata": {},
     "output_type": "execute_result"
    }
   ],
   "source": [
    "f5(*[3], **{'c': 1, 'b': 2})"
   ]
  },
  {
   "cell_type": "markdown",
   "metadata": {
    "id": "sipdAV7vPs3I"
   },
   "source": [
    "The * operator extracts keys from the dictionary"
   ]
  },
  {
   "cell_type": "code",
   "execution_count": 102,
   "metadata": {
    "colab": {
     "base_uri": "https://localhost:8080/"
    },
    "executionInfo": {
     "elapsed": 10,
     "status": "ok",
     "timestamp": 1661716207808,
     "user": {
      "displayName": "Willard Williamson",
      "userId": "04507347240949254966"
     },
     "user_tz": 240
    },
    "id": "4LvA0EgYPs3I",
    "outputId": "5a930daf-d23e-4f63-e1e8-44082bac3ffd"
   },
   "outputs": [
    {
     "data": {
      "text/plain": [
       "[3, 'c', 'b']"
      ]
     },
     "execution_count": 102,
     "metadata": {},
     "output_type": "execute_result"
    }
   ],
   "source": [
    "f5(*[3], *{'c': 1, 'b': 2})"
   ]
  },
  {
   "cell_type": "markdown",
   "metadata": {
    "id": "sBGOMSoEPs3I"
   },
   "source": [
    "A \"map\" operation is the processes of performing an operation on each element of an object.  For example, perform a math operation on each element of a list.  In map2 below, we show that functions are treated as first class variables in python.  The 'f' parameter is a function that we intend to apply to the list L."
   ]
  },
  {
   "cell_type": "code",
   "execution_count": 103,
   "metadata": {
    "executionInfo": {
     "elapsed": 8,
     "status": "ok",
     "timestamp": 1661716207808,
     "user": {
      "displayName": "Willard Williamson",
      "userId": "04507347240949254966"
     },
     "user_tz": 240
    },
    "id": "qr7PYKUpPs3I"
   },
   "outputs": [],
   "source": [
    "def map2(f, L):\n",
    "    return [f(e) for e in L]"
   ]
  },
  {
   "cell_type": "markdown",
   "metadata": {
    "id": "uK_2dI6iPs3I"
   },
   "source": [
    "Define a function which we intend to pass to map2"
   ]
  },
  {
   "cell_type": "code",
   "execution_count": 104,
   "metadata": {
    "executionInfo": {
     "elapsed": 7,
     "status": "ok",
     "timestamp": 1661716207808,
     "user": {
      "displayName": "Willard Williamson",
      "userId": "04507347240949254966"
     },
     "user_tz": 240
    },
    "id": "Tca4Q6_bPs3I"
   },
   "outputs": [],
   "source": [
    "def f6(n):\n",
    "    return n + 1\n"
   ]
  },
  {
   "cell_type": "markdown",
   "metadata": {
    "id": "_iwZuFanPs3I"
   },
   "source": [
    "Call map2 passing in the function f6 and a list on which to perform the map operation.  The map operation adds 1 to each element of the list."
   ]
  },
  {
   "cell_type": "code",
   "execution_count": 105,
   "metadata": {
    "colab": {
     "base_uri": "https://localhost:8080/"
    },
    "executionInfo": {
     "elapsed": 7,
     "status": "ok",
     "timestamp": 1661716207808,
     "user": {
      "displayName": "Willard Williamson",
      "userId": "04507347240949254966"
     },
     "user_tz": 240
    },
    "id": "0_0U7Nl7Ps3J",
    "outputId": "a27f1719-318d-4af4-a5ae-8b7d3ecec1f5"
   },
   "outputs": [
    {
     "data": {
      "text/plain": [
       "[2, 3, 4, 5]"
      ]
     },
     "execution_count": 105,
     "metadata": {},
     "output_type": "execute_result"
    }
   ],
   "source": [
    "map2(f6, [1,2,3,4])"
   ]
  },
  {
   "cell_type": "markdown",
   "metadata": {
    "id": "_Y1AImHYPs3J"
   },
   "source": [
    "### Function Generators"
   ]
  },
  {
   "cell_type": "markdown",
   "metadata": {
    "id": "0wGf__F1Ps3J"
   },
   "source": [
    "Another example of how python treats functions as first class variables.  The n_successor function defines and returns a function to the caller.  This is a function generator."
   ]
  },
  {
   "cell_type": "code",
   "execution_count": 106,
   "metadata": {
    "executionInfo": {
     "elapsed": 349,
     "status": "ok",
     "timestamp": 1661716208153,
     "user": {
      "displayName": "Willard Williamson",
      "userId": "04507347240949254966"
     },
     "user_tz": 240
    },
    "id": "G2_ZFdCgPs3J"
   },
   "outputs": [],
   "source": [
    "def n_successor(n=1):\n",
    "    def f(x):\n",
    "        return x + n\n",
    "    return f"
   ]
  },
  {
   "cell_type": "code",
   "execution_count": 107,
   "metadata": {
    "executionInfo": {
     "elapsed": 32,
     "status": "ok",
     "timestamp": 1661716208154,
     "user": {
      "displayName": "Willard Williamson",
      "userId": "04507347240949254966"
     },
     "user_tz": 240
    },
    "id": "rU076_hUPs3J"
   },
   "outputs": [],
   "source": [
    "successor = n_successor()"
   ]
  },
  {
   "cell_type": "code",
   "execution_count": 108,
   "metadata": {
    "colab": {
     "base_uri": "https://localhost:8080/"
    },
    "executionInfo": {
     "elapsed": 32,
     "status": "ok",
     "timestamp": 1661716208154,
     "user": {
      "displayName": "Willard Williamson",
      "userId": "04507347240949254966"
     },
     "user_tz": 240
    },
    "id": "ikfwaxMjPs3J",
    "outputId": "7bf98cb0-1087-4526-bb15-1f019e99eb02"
   },
   "outputs": [
    {
     "name": "stdout",
     "output_type": "stream",
     "text": [
      "2\n"
     ]
    }
   ],
   "source": [
    "print(successor(1))"
   ]
  },
  {
   "cell_type": "code",
   "execution_count": 109,
   "metadata": {
    "colab": {
     "base_uri": "https://localhost:8080/"
    },
    "executionInfo": {
     "elapsed": 32,
     "status": "ok",
     "timestamp": 1661716208155,
     "user": {
      "displayName": "Willard Williamson",
      "userId": "04507347240949254966"
     },
     "user_tz": 240
    },
    "id": "rbpnpr-vPs3K",
    "outputId": "977b6753-ca5f-4a27-c915-5799b584e97d"
   },
   "outputs": [
    {
     "data": {
      "text/plain": [
       "3"
      ]
     },
     "execution_count": 109,
     "metadata": {},
     "output_type": "execute_result"
    }
   ],
   "source": [
    "successor(2)"
   ]
  },
  {
   "cell_type": "code",
   "execution_count": 110,
   "metadata": {
    "executionInfo": {
     "elapsed": 30,
     "status": "ok",
     "timestamp": 1661716208156,
     "user": {
      "displayName": "Willard Williamson",
      "userId": "04507347240949254966"
     },
     "user_tz": 240
    },
    "id": "Q4tALum_Ps3K"
   },
   "outputs": [],
   "source": [
    "successor10 = n_successor(10)"
   ]
  },
  {
   "cell_type": "code",
   "execution_count": 111,
   "metadata": {
    "colab": {
     "base_uri": "https://localhost:8080/"
    },
    "executionInfo": {
     "elapsed": 31,
     "status": "ok",
     "timestamp": 1661716208157,
     "user": {
      "displayName": "Willard Williamson",
      "userId": "04507347240949254966"
     },
     "user_tz": 240
    },
    "id": "3yvFA0Q9Ps3K",
    "outputId": "ef7ddff3-c139-48cb-ab24-6e48c90f3e89"
   },
   "outputs": [
    {
     "data": {
      "text/plain": [
       "11"
      ]
     },
     "execution_count": 111,
     "metadata": {},
     "output_type": "execute_result"
    }
   ],
   "source": [
    "successor10(1)"
   ]
  },
  {
   "cell_type": "code",
   "execution_count": 112,
   "metadata": {
    "colab": {
     "base_uri": "https://localhost:8080/"
    },
    "executionInfo": {
     "elapsed": 28,
     "status": "ok",
     "timestamp": 1661716208157,
     "user": {
      "displayName": "Willard Williamson",
      "userId": "04507347240949254966"
     },
     "user_tz": 240
    },
    "id": "GgH4UtQBPs3K",
    "outputId": "8a3af6b6-5669-4004-ff37-15bdedf9059d"
   },
   "outputs": [
    {
     "data": {
      "text/plain": [
       "12"
      ]
     },
     "execution_count": 112,
     "metadata": {},
     "output_type": "execute_result"
    }
   ],
   "source": [
    "successor10(2)"
   ]
  },
  {
   "cell_type": "markdown",
   "metadata": {
    "id": "E-bI7hv1Ps3K"
   },
   "source": [
    "### Anonymous functions"
   ]
  },
  {
   "cell_type": "markdown",
   "metadata": {
    "id": "g-3BzGV0Ps3L"
   },
   "source": [
    "Anonymous functions are \"inline\" functions that are not named.  The following defines an anonymous function that takes x as an argument and adds 1 to x.  It is then called anonymously passing in a 2."
   ]
  },
  {
   "cell_type": "code",
   "execution_count": 113,
   "metadata": {
    "colab": {
     "base_uri": "https://localhost:8080/"
    },
    "executionInfo": {
     "elapsed": 25,
     "status": "ok",
     "timestamp": 1661716208158,
     "user": {
      "displayName": "Willard Williamson",
      "userId": "04507347240949254966"
     },
     "user_tz": 240
    },
    "id": "P3WKtSqHPs3L",
    "outputId": "8575606a-91c6-42b1-cb43-a9187ccd9a18"
   },
   "outputs": [
    {
     "data": {
      "text/plain": [
       "3"
      ]
     },
     "execution_count": 113,
     "metadata": {},
     "output_type": "execute_result"
    }
   ],
   "source": [
    "(lambda x: x + 1)(2)"
   ]
  },
  {
   "cell_type": "markdown",
   "metadata": {
    "id": "FTPBSPTXPs3L"
   },
   "source": [
    "Here we assign an anonymous function to variable anon_f."
   ]
  },
  {
   "cell_type": "code",
   "execution_count": 114,
   "metadata": {
    "executionInfo": {
     "elapsed": 23,
     "status": "ok",
     "timestamp": 1661716208158,
     "user": {
      "displayName": "Willard Williamson",
      "userId": "04507347240949254966"
     },
     "user_tz": 240
    },
    "id": "Wc_u0CzFPs3L"
   },
   "outputs": [],
   "source": [
    "anon_f = (lambda x: x + 1)"
   ]
  },
  {
   "cell_type": "markdown",
   "metadata": {
    "id": "YQSWttuAPs3L"
   },
   "source": [
    "Now call anon_f passing in a 2."
   ]
  },
  {
   "cell_type": "code",
   "execution_count": 115,
   "metadata": {
    "colab": {
     "base_uri": "https://localhost:8080/"
    },
    "executionInfo": {
     "elapsed": 23,
     "status": "ok",
     "timestamp": 1661716208159,
     "user": {
      "displayName": "Willard Williamson",
      "userId": "04507347240949254966"
     },
     "user_tz": 240
    },
    "id": "kjWoqJf4Ps3M",
    "outputId": "6b828383-e70f-4e3e-bb8d-88bd5d33e1d2"
   },
   "outputs": [
    {
     "data": {
      "text/plain": [
       "3"
      ]
     },
     "execution_count": 115,
     "metadata": {},
     "output_type": "execute_result"
    }
   ],
   "source": [
    "anon_f(2)"
   ]
  },
  {
   "cell_type": "markdown",
   "metadata": {
    "id": "3nGCRRhZPs3M"
   },
   "source": [
    "### Function docs"
   ]
  },
  {
   "cell_type": "markdown",
   "metadata": {
    "id": "AOkdBUK5Ps3M"
   },
   "source": [
    "A python docstring is placed right after the function declaration and enclosed in triple quotation marks.  The doc string is used by python in it's help module."
   ]
  },
  {
   "cell_type": "code",
   "execution_count": 116,
   "metadata": {
    "executionInfo": {
     "elapsed": 20,
     "status": "ok",
     "timestamp": 1661716208159,
     "user": {
      "displayName": "Willard Williamson",
      "userId": "04507347240949254966"
     },
     "user_tz": 240
    },
    "id": "Hd7yaUDuPs3M"
   },
   "outputs": [],
   "source": [
    "def f7():\n",
    "    \"\"\"This function returns 0\"\"\"\n",
    "    return 0"
   ]
  },
  {
   "cell_type": "markdown",
   "metadata": {
    "id": "y4XjH2zthrfy"
   },
   "source": [
    "The syntax to access a function's documentation attribute is shown below with the \\_\\_doc\\_\\_ syntax."
   ]
  },
  {
   "cell_type": "code",
   "execution_count": 141,
   "metadata": {
    "colab": {
     "base_uri": "https://localhost:8080/",
     "height": 36
    },
    "executionInfo": {
     "elapsed": 172,
     "status": "ok",
     "timestamp": 1661718733065,
     "user": {
      "displayName": "Willard Williamson",
      "userId": "04507347240949254966"
     },
     "user_tz": 240
    },
    "id": "PMsj7BFyPs3M",
    "outputId": "282b8dff-f838-4a9e-cf55-47cc8939a7aa"
   },
   "outputs": [
    {
     "data": {
      "application/vnd.google.colaboratory.intrinsic+json": {
       "type": "string"
      },
      "text/plain": [
       "'This function returns 0'"
      ]
     },
     "execution_count": 141,
     "metadata": {},
     "output_type": "execute_result"
    }
   ],
   "source": [
    "f7.__doc__"
   ]
  },
  {
   "cell_type": "markdown",
   "metadata": {
    "id": "O3zCCx2QPs3M"
   },
   "source": [
    "The question mark is used to print help"
   ]
  },
  {
   "cell_type": "code",
   "execution_count": 142,
   "metadata": {
    "executionInfo": {
     "elapsed": 160,
     "status": "ok",
     "timestamp": 1661718735155,
     "user": {
      "displayName": "Willard Williamson",
      "userId": "04507347240949254966"
     },
     "user_tz": 240
    },
    "id": "4Itp8XnNPs3M"
   },
   "outputs": [],
   "source": [
    "f7?"
   ]
  },
  {
   "cell_type": "code",
   "execution_count": 119,
   "metadata": {
    "executionInfo": {
     "elapsed": 58,
     "status": "ok",
     "timestamp": 1661716208199,
     "user": {
      "displayName": "Willard Williamson",
      "userId": "04507347240949254966"
     },
     "user_tz": 240
    },
    "id": "e_xumRKPPs3M"
   },
   "outputs": [],
   "source": [
    "?f7"
   ]
  },
  {
   "cell_type": "markdown",
   "metadata": {
    "id": "7UZETOeXPs3N"
   },
   "source": [
    "### Exceptions"
   ]
  },
  {
   "cell_type": "markdown",
   "metadata": {
    "id": "B6w8CW5YPs3N"
   },
   "source": [
    "An exception is an object that is \"thrown\" when an exceptional situation happens.  For example, the python math libray throws an exception if we try to divide by 0.  Exceptions are handled in a \"try / catch block\"."
   ]
  },
  {
   "cell_type": "code",
   "execution_count": 145,
   "metadata": {
    "colab": {
     "base_uri": "https://localhost:8080/"
    },
    "executionInfo": {
     "elapsed": 237,
     "status": "ok",
     "timestamp": 1661718810737,
     "user": {
      "displayName": "Willard Williamson",
      "userId": "04507347240949254966"
     },
     "user_tz": 240
    },
    "id": "kfZyWh-0Ps3N",
    "outputId": "abcf2313-bb57-4c71-b6eb-7109cf210f2e"
   },
   "outputs": [
    {
     "name": "stdout",
     "output_type": "stream",
     "text": [
      "Print this if there are no exceptions\n",
      "This is always executed!\n"
     ]
    }
   ],
   "source": [
    "import sys\n",
    "\n",
    "try:\n",
    "    # uncomment the following lines one at a time leaving all other lines commented\n",
    "    1/1\n",
    "    # 1/0\n",
    "    #raise Exception(\"My Custom Exception\")\n",
    "except ZeroDivisionError as exception:\n",
    "    print(\"Caught a ZeroDivisionError Exception!\")\n",
    "    print(exception)\n",
    "except Exception as exception: \n",
    "    print(\"Catch all exceptions in this block\")\n",
    "    print(exception)\n",
    "else:\n",
    "    print(\"Print this if there are no exceptions\")\n",
    "finally:\n",
    "    print(\"This is always executed!\")\n",
    "    "
   ]
  },
  {
   "cell_type": "markdown",
   "metadata": {
    "id": "_Ga5uE6pPs3N"
   },
   "source": [
    "### Generators (Iterators)"
   ]
  },
  {
   "cell_type": "markdown",
   "metadata": {
    "id": "J2AZ_5NePs3N"
   },
   "source": [
    "The yield statement tells python to treat the function as an object.  Instead of executing the function, a generator object is created."
   ]
  },
  {
   "cell_type": "code",
   "execution_count": 146,
   "metadata": {
    "executionInfo": {
     "elapsed": 166,
     "status": "ok",
     "timestamp": 1661718823239,
     "user": {
      "displayName": "Willard Williamson",
      "userId": "04507347240949254966"
     },
     "user_tz": 240
    },
    "id": "36iNUyRdPs3N"
   },
   "outputs": [],
   "source": [
    "def range_custom(n):\n",
    "    i = 0\n",
    "    while i < n:\n",
    "        yield i\n",
    "        i += 1"
   ]
  },
  {
   "cell_type": "markdown",
   "metadata": {
    "id": "NTZQq8VJPs3N"
   },
   "source": [
    "Create the generator"
   ]
  },
  {
   "cell_type": "code",
   "execution_count": 147,
   "metadata": {
    "executionInfo": {
     "elapsed": 8,
     "status": "ok",
     "timestamp": 1661718823415,
     "user": {
      "displayName": "Willard Williamson",
      "userId": "04507347240949254966"
     },
     "user_tz": 240
    },
    "id": "V-odIx7mPs3N"
   },
   "outputs": [],
   "source": [
    "gen = range_custom(3)"
   ]
  },
  {
   "cell_type": "markdown",
   "metadata": {
    "id": "6yyAkHMSPs3O"
   },
   "source": [
    "The type of the variable named gen is 'generator'"
   ]
  },
  {
   "cell_type": "code",
   "execution_count": 148,
   "metadata": {
    "colab": {
     "base_uri": "https://localhost:8080/"
    },
    "executionInfo": {
     "elapsed": 8,
     "status": "ok",
     "timestamp": 1661718823416,
     "user": {
      "displayName": "Willard Williamson",
      "userId": "04507347240949254966"
     },
     "user_tz": 240
    },
    "id": "c4sNclk2Ps3O",
    "outputId": "27277825-14b4-4474-a663-f738accdd5fc"
   },
   "outputs": [
    {
     "data": {
      "text/plain": [
       "generator"
      ]
     },
     "execution_count": 148,
     "metadata": {},
     "output_type": "execute_result"
    }
   ],
   "source": [
    "type(gen)"
   ]
  },
  {
   "cell_type": "markdown",
   "metadata": {
    "id": "IPc4drE2Ps3O"
   },
   "source": [
    "Iterate through the generator values"
   ]
  },
  {
   "cell_type": "code",
   "execution_count": 149,
   "metadata": {
    "colab": {
     "base_uri": "https://localhost:8080/"
    },
    "executionInfo": {
     "elapsed": 7,
     "status": "ok",
     "timestamp": 1661718823416,
     "user": {
      "displayName": "Willard Williamson",
      "userId": "04507347240949254966"
     },
     "user_tz": 240
    },
    "id": "IycXQPXAPs3O",
    "outputId": "732cec8c-ac8c-48c3-d13f-4eb980ee784f"
   },
   "outputs": [
    {
     "data": {
      "text/plain": [
       "0"
      ]
     },
     "execution_count": 149,
     "metadata": {},
     "output_type": "execute_result"
    }
   ],
   "source": [
    "next(gen)"
   ]
  },
  {
   "cell_type": "code",
   "execution_count": 150,
   "metadata": {
    "colab": {
     "base_uri": "https://localhost:8080/"
    },
    "executionInfo": {
     "elapsed": 5,
     "status": "ok",
     "timestamp": 1661718823416,
     "user": {
      "displayName": "Willard Williamson",
      "userId": "04507347240949254966"
     },
     "user_tz": 240
    },
    "id": "LDKJ6h_WPs3O",
    "outputId": "4a101ec8-1685-41a2-b76f-7917c527f2cf"
   },
   "outputs": [
    {
     "data": {
      "text/plain": [
       "1"
      ]
     },
     "execution_count": 150,
     "metadata": {},
     "output_type": "execute_result"
    }
   ],
   "source": [
    "next(gen)"
   ]
  },
  {
   "cell_type": "code",
   "execution_count": 151,
   "metadata": {
    "colab": {
     "base_uri": "https://localhost:8080/"
    },
    "executionInfo": {
     "elapsed": 5,
     "status": "ok",
     "timestamp": 1661718823417,
     "user": {
      "displayName": "Willard Williamson",
      "userId": "04507347240949254966"
     },
     "user_tz": 240
    },
    "id": "f26OIzakPs3O",
    "outputId": "3a32e9a3-52b2-4330-c4d0-e0cd45e79f12"
   },
   "outputs": [
    {
     "data": {
      "text/plain": [
       "2"
      ]
     },
     "execution_count": 151,
     "metadata": {},
     "output_type": "execute_result"
    }
   ],
   "source": [
    "next(gen)"
   ]
  },
  {
   "cell_type": "markdown",
   "metadata": {
    "id": "hNN2dcUsPs3P"
   },
   "source": [
    "The generator raises an exception when it reaches the end"
   ]
  },
  {
   "cell_type": "code",
   "execution_count": 152,
   "metadata": {
    "executionInfo": {
     "elapsed": 4,
     "status": "ok",
     "timestamp": 1661718823417,
     "user": {
      "displayName": "Willard Williamson",
      "userId": "04507347240949254966"
     },
     "user_tz": 240
    },
    "id": "iMH5DgZ0Ps3P"
   },
   "outputs": [],
   "source": [
    "# the following call will raise an exception\n",
    "# next(gen)"
   ]
  },
  {
   "cell_type": "code",
   "execution_count": 155,
   "metadata": {
    "colab": {
     "base_uri": "https://localhost:8080/"
    },
    "executionInfo": {
     "elapsed": 159,
     "status": "ok",
     "timestamp": 1661719188471,
     "user": {
      "displayName": "Willard Williamson",
      "userId": "04507347240949254966"
     },
     "user_tz": 240
    },
    "id": "QLDKhEFjLPSO",
    "outputId": "ec05c77a-cc85-470d-aba6-9e70a678829c"
   },
   "outputs": [
    {
     "name": "stdout",
     "output_type": "stream",
     "text": [
      "0\n",
      "1\n",
      "2\n"
     ]
    }
   ],
   "source": [
    "# Example generator usage in a for loop\n",
    "for item in range_custom(3):\n",
    "  print(item)"
   ]
  },
  {
   "cell_type": "markdown",
   "metadata": {
    "id": "ySaWsum-Ps3P"
   },
   "source": [
    "## Object oriented programming"
   ]
  },
  {
   "cell_type": "markdown",
   "metadata": {
    "id": "vjBztrYYPs3P"
   },
   "source": [
    "Define a simple python class.  The __init__ method is the constructor.  Internal class memeber variables are accessed using the \"self.\" syntax.  \"self\" Refers to the current instance of the class object."
   ]
  },
  {
   "cell_type": "markdown",
   "metadata": {
    "id": "dR-QByEFPs3P"
   },
   "source": [
    "#### Activity: Implement the withdraw method below"
   ]
  },
  {
   "cell_type": "code",
   "execution_count": 156,
   "metadata": {
    "executionInfo": {
     "elapsed": 213,
     "status": "ok",
     "timestamp": 1661719352615,
     "user": {
      "displayName": "Willard Williamson",
      "userId": "04507347240949254966"
     },
     "user_tz": 240
    },
    "id": "VNPhuvtgPs3P"
   },
   "outputs": [],
   "source": [
    "class BankAccount():\n",
    "    # here the __init__ function is called when the class is constructed\n",
    "    def __init__(self, initial_balance = 0):\n",
    "        self.balance = initial_balance\n",
    "        \n",
    "    def deposit(self, amount):\n",
    "        self.balance += amount\n",
    "    \n",
    "    def withdraw(self, amount):\n",
    "      pass\n",
    "            \n",
    "    def get_balance(self):\n",
    "        return self.balance\n",
    "    \n",
    "    def __repr__(self):\n",
    "        return \"Bank account with a balance of \" \\\n",
    "                + str(self.balance)"
   ]
  },
  {
   "cell_type": "markdown",
   "metadata": {
    "id": "Q3lUKQ1lPs3P"
   },
   "source": [
    "The cell below \"instantiates\" the BankAccount class"
   ]
  },
  {
   "cell_type": "code",
   "execution_count": 129,
   "metadata": {
    "executionInfo": {
     "elapsed": 5,
     "status": "ok",
     "timestamp": 1661716208350,
     "user": {
      "displayName": "Willard Williamson",
      "userId": "04507347240949254966"
     },
     "user_tz": 240
    },
    "id": "B-gPD9vrPs3P"
   },
   "outputs": [],
   "source": [
    "ba1 = BankAccount()"
   ]
  },
  {
   "cell_type": "markdown",
   "metadata": {
    "id": "e1jhcNVEPs3P"
   },
   "source": [
    "Make a deposit of 100"
   ]
  },
  {
   "cell_type": "code",
   "execution_count": 130,
   "metadata": {
    "executionInfo": {
     "elapsed": 6,
     "status": "ok",
     "timestamp": 1661716208351,
     "user": {
      "displayName": "Willard Williamson",
      "userId": "04507347240949254966"
     },
     "user_tz": 240
    },
    "id": "b42bkIIaPs3Q"
   },
   "outputs": [],
   "source": [
    "ba1.deposit(100)"
   ]
  },
  {
   "cell_type": "markdown",
   "metadata": {
    "id": "xvDpzrBXPs3Q"
   },
   "source": [
    "The below cell is equivalent to creating ba1 above and depositing $100"
   ]
  },
  {
   "cell_type": "code",
   "execution_count": 131,
   "metadata": {
    "executionInfo": {
     "elapsed": 277,
     "status": "ok",
     "timestamp": 1661716208622,
     "user": {
      "displayName": "Willard Williamson",
      "userId": "04507347240949254966"
     },
     "user_tz": 240
    },
    "id": "-GTXNK4wPs3Q"
   },
   "outputs": [],
   "source": [
    "ba2 = BankAccount(100)"
   ]
  },
  {
   "cell_type": "code",
   "execution_count": 132,
   "metadata": {
    "colab": {
     "base_uri": "https://localhost:8080/"
    },
    "executionInfo": {
     "elapsed": 8,
     "status": "ok",
     "timestamp": 1661716208623,
     "user": {
      "displayName": "Willard Williamson",
      "userId": "04507347240949254966"
     },
     "user_tz": 240
    },
    "id": "OUZUbNG3Ps3Q",
    "outputId": "5a28f9e5-8eea-4104-dfaf-cbb8732c2f2c"
   },
   "outputs": [
    {
     "name": "stdout",
     "output_type": "stream",
     "text": [
      "Bank account with a balance of 100\n"
     ]
    }
   ],
   "source": [
    "print(ba2)"
   ]
  },
  {
   "cell_type": "code",
   "execution_count": null,
   "metadata": {
    "id": "WfIc26axMZeH"
   },
   "outputs": [],
   "source": [
    "# test withdraw method here\n"
   ]
  },
  {
   "cell_type": "markdown",
   "metadata": {
    "id": "ouXoGhSyPs3Q"
   },
   "source": [
    "#### Activity: Implement the withdraw method above, implement merge_accounts below."
   ]
  },
  {
   "cell_type": "code",
   "execution_count": 133,
   "metadata": {
    "executionInfo": {
     "elapsed": 7,
     "status": "ok",
     "timestamp": 1661716208623,
     "user": {
      "displayName": "Willard Williamson",
      "userId": "04507347240949254966"
     },
     "user_tz": 240
    },
    "id": "_LAEQES2Ps3Q"
   },
   "outputs": [],
   "source": [
    "# your code here: implement function that merges two accounts\n",
    "def merge_accounts(a1, a2):\n",
    "    pass"
   ]
  },
  {
   "cell_type": "markdown",
   "metadata": {
    "id": "kfw0l1_hPs3Q"
   },
   "source": [
    "The below cells tests merge_accounts."
   ]
  },
  {
   "cell_type": "code",
   "execution_count": 134,
   "metadata": {
    "colab": {
     "base_uri": "https://localhost:8080/",
     "height": 53
    },
    "executionInfo": {
     "elapsed": 8,
     "status": "ok",
     "timestamp": 1661716208624,
     "user": {
      "displayName": "Willard Williamson",
      "userId": "04507347240949254966"
     },
     "user_tz": 240
    },
    "id": "Y4QCb4PMPs3Q",
    "outputId": "b890cc6a-4627-41e0-8477-1a371c059f5f"
   },
   "outputs": [
    {
     "name": "stdout",
     "output_type": "stream",
     "text": [
      "Bank account with a balance of 100\n"
     ]
    },
    {
     "data": {
      "application/vnd.google.colaboratory.intrinsic+json": {
       "type": "string"
      },
      "text/plain": [
       "'Bank account with a balance of 100'"
      ]
     },
     "execution_count": 134,
     "metadata": {},
     "output_type": "execute_result"
    }
   ],
   "source": [
    "ba1 = BankAccount()\n",
    "ba1.deposit(100)\n",
    "\n",
    "# python uses __repr__ behind the scenes to print the representation of the BankAccount class\n",
    "print(ba1)\n",
    "\n",
    "# can also use the python \"repr\" function\n",
    "repr(ba1)"
   ]
  },
  {
   "cell_type": "code",
   "execution_count": 135,
   "metadata": {
    "executionInfo": {
     "elapsed": 8,
     "status": "ok",
     "timestamp": 1661716208624,
     "user": {
      "displayName": "Willard Williamson",
      "userId": "04507347240949254966"
     },
     "user_tz": 240
    },
    "id": "5D9ToY4IPs3R"
   },
   "outputs": [],
   "source": [
    "ba2 = BankAccount()\n",
    "ba2.deposit(50)"
   ]
  },
  {
   "cell_type": "code",
   "execution_count": 136,
   "metadata": {
    "colab": {
     "base_uri": "https://localhost:8080/"
    },
    "executionInfo": {
     "elapsed": 8,
     "status": "ok",
     "timestamp": 1661716208625,
     "user": {
      "displayName": "Willard Williamson",
      "userId": "04507347240949254966"
     },
     "user_tz": 240
    },
    "id": "qgV7WxAAPs3R",
    "outputId": "eecfe007-3971-46c5-8ee0-3a0086cd5301"
   },
   "outputs": [
    {
     "name": "stdout",
     "output_type": "stream",
     "text": [
      "Bank account with a balance of 150\n"
     ]
    }
   ],
   "source": [
    "merged = merge_accounts(ba1, ba2)\n",
    "print(repr(merged))"
   ]
  },
  {
   "cell_type": "markdown",
   "metadata": {
    "id": "LMxcd9srPs3R"
   },
   "source": [
    "## Reading / Writing Files "
   ]
  },
  {
   "cell_type": "code",
   "execution_count": 137,
   "metadata": {
    "colab": {
     "base_uri": "https://localhost:8080/"
    },
    "executionInfo": {
     "elapsed": 7,
     "status": "ok",
     "timestamp": 1661716208625,
     "user": {
      "displayName": "Willard Williamson",
      "userId": "04507347240949254966"
     },
     "user_tz": 240
    },
    "id": "I-TOLNQbPs3R",
    "outputId": "9488179e-f287-418f-cb43-ddfcb9a09399"
   },
   "outputs": [
    {
     "name": "stdout",
     "output_type": "stream",
     "text": [
      "First line of text.\n",
      "Second line of text.\n",
      "Third line of text.\n"
     ]
    }
   ],
   "source": [
    "# define the file name\n",
    "file_name = \"test_file.txt\"\n",
    "\n",
    "# write to a file\n",
    "with open(file_name, \"w\") as out_file:\n",
    "    out_file.write(\"First line of text.\\n\")\n",
    "    out_file.write(\"Second line of text.\\n\")\n",
    "    out_file.write(\"Third line of text.\")\n",
    "    \n",
    "# read the file\n",
    "with open(file_name, \"r\") as in_file:\n",
    "    lines = in_file.read()\n",
    "    \n",
    "print(lines)"
   ]
  },
  {
   "cell_type": "code",
   "execution_count": 137,
   "metadata": {
    "executionInfo": {
     "elapsed": 8,
     "status": "ok",
     "timestamp": 1661716208626,
     "user": {
      "displayName": "Willard Williamson",
      "userId": "04507347240949254966"
     },
     "user_tz": 240
    },
    "id": "I3A_wygxPs3R"
   },
   "outputs": [],
   "source": []
  }
 ],
 "metadata": {
  "colab": {
   "collapsed_sections": [],
   "name": "Copy of IST-718 Python Tutorial Student Version.ipynb",
   "provenance": []
  },
  "kernelspec": {
   "display_name": "Python 3 (ipykernel)",
   "language": "python",
   "name": "python3"
  },
  "language_info": {
   "codemirror_mode": {
    "name": "ipython",
    "version": 3
   },
   "file_extension": ".py",
   "mimetype": "text/x-python",
   "name": "python",
   "nbconvert_exporter": "python",
   "pygments_lexer": "ipython3",
   "version": "3.9.7"
  },
  "name": "Basic Python",
  "notebookId": 1552673237676332
 },
 "nbformat": 4,
 "nbformat_minor": 1
}
